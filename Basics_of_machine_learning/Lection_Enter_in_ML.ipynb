{
 "cells": [
  {
   "cell_type": "markdown",
   "metadata": {},
   "source": [
    "# Лекция 1. Введение в машинное обучение"
   ]
  },
  {
   "cell_type": "markdown",
   "metadata": {},
   "source": [
    "Типы задач машинного обучения:\n",
    "- обучение с учителем\n",
    "- обучение без учителя\n",
    "- обучение с подкреплением\n",
    "\n",
    "### Обучение с учителем. Постановка задачи   \n",
    "Дано:    \n",
    "Х - множество объектов    \n",
    "Y - множество ответов   \n",
    "Найти: зависимость y: $X\\to Y$\n",
    "\n",
    "Обучающие данные (обучающий датасет) - множество наборов из фичей и значений целевой переменной.  \n",
    "$X_{train} \\subset X$   \n",
    "$X_{train}=\\begin{pmatrix}\n",
    "x_{11} & \\cdots & x_{1m} \\\\\n",
    "\\cdots  & \\cdots  & \\cdots \\\\\n",
    "x_{n1} & \\cdots & x_{nm}\n",
    "\\end{pmatrix}$\n",
    "\n",
    "$y_{train}=\\begin{pmatrix} y_1 \\\\ \\cdots \\\\ y_m \\end{pmatrix}$\n",
    "\n",
    "Типы признаков:\n",
    "- числовые\n",
    "- категориальные\n",
    "- порядковые\n",
    "\n",
    "Типы задач:\n",
    "- классификация ($Y=\\{0,1\\},\\ Y=\\{1,2,...,n\\},\\ Y=\\{0,1\\}^n$)\n",
    "- регрессия ($Y=\\mathbb{R}$)\n",
    "- ранжирования ($Y=\\{1,2,...,n\\}$-упорядочены)\n",
    "\n",
    " \n",
    "### K-Nearest Neighbors \n",
    "Решение задачи классификации.   \n",
    "Обучение: запоминание обучающей выборки.  \n",
    "\n",
    "Предсказание:\n",
    "- получить точку с координатами\n",
    "- ищем k ближайших соседей\n",
    "- в ответе возвращаем класс, которого больше всего среди соседей\n",
    "\n",
    "В KNN делается слабое предположение - близкие точки будут иметь близкие ответы. При большой размерности данных в близкую область попадает мало объектов (проклятие размерности)\n",
    "\n",
    "Есть еще проблема - расстояние между векторами. Решение - масштабировать признаки\n",
    "\n",
    "\n",
    "### Обучение с учителем\n",
    "Задача - найти функцию хорошо приближающую реальную зависимость: $\\hat{y}: X \\to Y$\n",
    "Обычно выбирается решение из некоторого параметрического семейтва: $\\mathcal{F}=\\{\\hat{y_0}|\\theta \\in \\Theta\\}$\n",
    "\n",
    "Обучение - процесс выбора параметра $\\theta$, которому соответствует наиболее подходящее решение задачи $\\hat{y_{\\theta}}(x_1, x_2)$\n",
    "\n",
    "Функция потерь - $L(y, \\hat{y}(x))$, ее значение показывает наколько сильно предсказание отличается от реального значения   \n",
    "Примеры функций потерь:\n",
    "- $L(y_{true}, \\hat{y}(x))=(y_{true}-\\hat{y}(x))^2$ - квадратичная\n",
    "- $L(y_{true}, \\hat{y}(x))=|y_{true}-\\hat{y}(x)|2$ - абсолютная\n",
    "\n",
    "Эмпирический риск - среднее значение функции потерь на обучающем датасете\n",
    "$\\theta_{best}=argmin_{\\theta \\in \\Theta} \\frac{1}{dataset\\ size}\\sum_i L(y^i_{true}, \\hat{y_{\\theta}}(x^i))$\n",
    "\n",
    "\n",
    "Линейная регрессия  \n",
    "$\\hat{y}(x_1,...,x_n)=\\theta_0+\\theta_1x_1+...+\\theta_nx_n$\n",
    "\n",
    "Обучение линейной регрессии:  \n",
    "В качестве функции потерь берем MNE (средний квадрат ошибок)  \n",
    "$argmin_{\\theta_1,...,\\theta_n}\\sum_i(y^i_{true}-\\theta_0-\\theta_1x_1-...-\\theta_nx_n)^2$\n",
    "\n",
    "Полиномиальнная регрессия \n",
    "Есть один признак х. Новые создаются из старого путем перемножения  \n",
    "Получаем $\\hat{y}(x_1,...,x_n)=\\theta_0+\\theta_1x+...+\\theta_nx^n$\n",
    "\n",
    "\n",
    "Что делать с переобучением  \n",
    "Разбить выборку на части:\n",
    "- тренировочную, на которой будет происходить обучение алгоритма\n",
    "- валидационную, на которой будет происходить оценка качества модели\n",
    "- тестовую, на которой будет считаться финальное значение качества \n",
    "\n",
    "Обычно валидационную и тестовую части объединяют  \n",
    "\n",
    "Кросс-валидация - разбиваем данные на части, по очередно убираем по одной части и обучаем модель на оставшихся данных и берем оценку по убранной, после всех таких итераций считаем среднее значение качества\n",
    "\n"
   ]
  },
  {
   "cell_type": "code",
   "execution_count": null,
   "metadata": {},
   "outputs": [],
   "source": []
  },
  {
   "cell_type": "code",
   "execution_count": null,
   "metadata": {},
   "outputs": [],
   "source": []
  },
  {
   "cell_type": "code",
   "execution_count": null,
   "metadata": {},
   "outputs": [],
   "source": []
  },
  {
   "cell_type": "code",
   "execution_count": null,
   "metadata": {},
   "outputs": [],
   "source": []
  },
  {
   "cell_type": "code",
   "execution_count": null,
   "metadata": {},
   "outputs": [],
   "source": []
  },
  {
   "cell_type": "code",
   "execution_count": null,
   "metadata": {},
   "outputs": [],
   "source": []
  },
  {
   "cell_type": "code",
   "execution_count": null,
   "metadata": {},
   "outputs": [],
   "source": []
  },
  {
   "cell_type": "code",
   "execution_count": null,
   "metadata": {},
   "outputs": [],
   "source": []
  },
  {
   "cell_type": "code",
   "execution_count": null,
   "metadata": {},
   "outputs": [],
   "source": []
  },
  {
   "cell_type": "code",
   "execution_count": null,
   "metadata": {},
   "outputs": [],
   "source": []
  },
  {
   "cell_type": "code",
   "execution_count": null,
   "metadata": {},
   "outputs": [],
   "source": []
  },
  {
   "cell_type": "code",
   "execution_count": null,
   "metadata": {},
   "outputs": [],
   "source": []
  },
  {
   "cell_type": "code",
   "execution_count": null,
   "metadata": {},
   "outputs": [],
   "source": []
  },
  {
   "cell_type": "code",
   "execution_count": null,
   "metadata": {},
   "outputs": [],
   "source": []
  },
  {
   "cell_type": "code",
   "execution_count": null,
   "metadata": {},
   "outputs": [],
   "source": []
  },
  {
   "cell_type": "code",
   "execution_count": null,
   "metadata": {},
   "outputs": [],
   "source": []
  },
  {
   "cell_type": "code",
   "execution_count": null,
   "metadata": {},
   "outputs": [],
   "source": []
  },
  {
   "cell_type": "code",
   "execution_count": null,
   "metadata": {},
   "outputs": [],
   "source": []
  },
  {
   "cell_type": "code",
   "execution_count": null,
   "metadata": {},
   "outputs": [],
   "source": []
  },
  {
   "cell_type": "code",
   "execution_count": null,
   "metadata": {},
   "outputs": [],
   "source": []
  },
  {
   "cell_type": "code",
   "execution_count": null,
   "metadata": {},
   "outputs": [],
   "source": []
  },
  {
   "cell_type": "code",
   "execution_count": null,
   "metadata": {},
   "outputs": [],
   "source": []
  },
  {
   "cell_type": "code",
   "execution_count": null,
   "metadata": {},
   "outputs": [],
   "source": []
  },
  {
   "cell_type": "code",
   "execution_count": null,
   "metadata": {},
   "outputs": [],
   "source": []
  },
  {
   "cell_type": "code",
   "execution_count": null,
   "metadata": {},
   "outputs": [],
   "source": []
  },
  {
   "cell_type": "code",
   "execution_count": null,
   "metadata": {},
   "outputs": [],
   "source": []
  },
  {
   "cell_type": "code",
   "execution_count": null,
   "metadata": {},
   "outputs": [],
   "source": []
  },
  {
   "cell_type": "code",
   "execution_count": null,
   "metadata": {},
   "outputs": [],
   "source": []
  },
  {
   "cell_type": "code",
   "execution_count": null,
   "metadata": {},
   "outputs": [],
   "source": []
  }
 ],
 "metadata": {
  "kernelspec": {
   "display_name": "Python 3",
   "language": "python",
   "name": "python3"
  },
  "language_info": {
   "codemirror_mode": {
    "name": "ipython",
    "version": 3
   },
   "file_extension": ".py",
   "mimetype": "text/x-python",
   "name": "python",
   "nbconvert_exporter": "python",
   "pygments_lexer": "ipython3",
   "version": "3.7.6"
  }
 },
 "nbformat": 4,
 "nbformat_minor": 4
}
