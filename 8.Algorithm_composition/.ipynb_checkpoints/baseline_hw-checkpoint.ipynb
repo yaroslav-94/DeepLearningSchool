{
 "cells": [
  {
   "cell_type": "markdown",
   "metadata": {
    "id": "TK7oX5qdEEYr"
   },
   "source": [
    "<p style=\"align: center;\"><img align=center src=\"https://s8.hostingkartinok.com/uploads/images/2018/08/308b49fcfbc619d629fe4604bceb67ac.jpg\" width=500 height=450/></p>\n",
    "\n",
    "<h3 style=\"text-align: center;\"><b>Школа глубокого обучения ФПМИ МФТИ</b></h3>\n",
    "\n",
    "<h3 style=\"text-align: center;\"><b>Домашнее задание. Продвинутый поток. Весна 2021</b></h3>\n",
    "\n",
    "Это домашнее задание будет посвящено полноценному решению задачи машинного обучения."
   ]
  },
  {
   "cell_type": "markdown",
   "metadata": {
    "id": "zlB-owfaEEYs"
   },
   "source": [
    "Есть две части этого домашнего задания: \n",
    "* Сделать полноценный отчет о вашей работе: как вы обработали данные, какие модели попробовали и какие результаты получились (максимум 10 баллов). За каждую выполненную часть будет начислено определенное количество баллов.\n",
    "* Лучшее решение отправить в соревнование на [kaggle](https://www.kaggle.com/c/advanced-dls-spring-2021/) (максимум 5 баллов). За прохождение определенного порогов будут начисляться баллы.\n",
    "\n",
    "\n",
    "**Обе части будут проверяться в формате peer-review. Т.е. вашу посылку на степик будут проверять несколько других студентов и аггрегация их оценок будет выставлена. В то же время вам тоже нужно будет проверить несколько других учеников.**\n",
    "\n",
    "**Пожалуйста, делайте свою работу чистой и понятной, чтобы облегчить проверку. Если у вас будут проблемы с решением или хочется совета, то пишите в наш чат в телеграме или в лс @runfme. Если вы захотите проаппелировать оценку, то пипшите в лс @runfme.**\n",
    "\n",
    "**Во всех пунктах указания это минимальный набор вещей, которые стоит сделать. Если вы можете сделать какой-то шаг лучше или добавить что-то свое - дерзайте!**"
   ]
  },
  {
   "cell_type": "markdown",
   "metadata": {
    "id": "Tu_JvqcBEN8Y"
   },
   "source": [
    "# Как проверять?\n",
    "\n",
    "Ставьте полный балл, если выполнены все рекомендации или сделано что-то более интересное и сложное. За каждый отсустствующий пункт из рекомендация снижайте 1 балл."
   ]
  },
  {
   "cell_type": "markdown",
   "metadata": {
    "id": "ninJ63mJEEYt"
   },
   "source": [
    "# Метрика\n",
    "\n",
    "Перед решением любой задачи важно понимать, как будет оцениваться ваше решение. В данном случае мы используем стандартную для задачи классификации метрику ROC-AUC. Ее можно вычислить используя только предсказанные вероятности и истинные классы без конкретного порога классификации + она раотает даже если классы в данных сильно несбалансированны (примеров одного класса в десятки раз больше примеров длугого). Именно поэтому она очень удобна для соревнований.\n",
    "\n",
    "Посчитать ее легко:\n"
   ]
  },
  {
   "cell_type": "code",
   "execution_count": null,
   "metadata": {
    "colab": {
     "base_uri": "https://localhost:8080/"
    },
    "executionInfo": {
     "elapsed": 825,
     "status": "ok",
     "timestamp": 1635076600614,
     "user": {
      "displayName": "Ярослав Янин",
      "photoUrl": "https://lh3.googleusercontent.com/a/default-user=s64",
      "userId": "06336103527584088219"
     },
     "user_tz": -180
    },
    "id": "SQIrka7yEEYu",
    "outputId": "6965d5e3-eb4b-4803-828b-b475c4355534"
   },
   "outputs": [],
   "source": [
    "from sklearn.metrics import roc_auc_score\n",
    "\n",
    "y_true = [\n",
    "    0,\n",
    "    1,\n",
    "    1,\n",
    "    0,\n",
    "    1\n",
    "]\n",
    "\n",
    "y_predictions = [\n",
    "    0.1,\n",
    "    0.9,\n",
    "    0.4,\n",
    "    0.6,\n",
    "    0.61\n",
    "]\n",
    "\n",
    "roc_auc_score(y_true, y_predictions)"
   ]
  },
  {
   "cell_type": "markdown",
   "metadata": {
    "id": "IrDNNkNTEEYz"
   },
   "source": [
    "# Первая часть. Исследование"
   ]
  },
  {
   "cell_type": "code",
   "execution_count": null,
   "metadata": {
    "id": "lzLqEeZKEEYz"
   },
   "outputs": [],
   "source": [
    "import pandas as pd\n",
    "import numpy as np\n",
    "from matplotlib import pyplot as plt"
   ]
  },
  {
   "cell_type": "markdown",
   "metadata": {
    "id": "LOlxdURSEEY3"
   },
   "source": [
    "## Загрузка данных (2 балла)\n",
    "\n",
    "1) Посмотрите на случайные строчки. \n",
    "\n",
    "2) Посмотрите, есть ли в датасете незаполненные значения (nan'ы) с помощью data.isna() или data.info() и, если нужно, замените их на что-то. Будет хорошо, если вы построите табличку с количеством nan в каждой колонке."
   ]
  },
  {
   "cell_type": "code",
   "execution_count": null,
   "metadata": {
    "colab": {
     "base_uri": "https://localhost:8080/",
     "height": 326
    },
    "executionInfo": {
     "elapsed": 17873,
     "status": "ok",
     "timestamp": 1635076628025,
     "user": {
      "displayName": "Ярослав Янин",
      "photoUrl": "https://lh3.googleusercontent.com/a/default-user=s64",
      "userId": "06336103527584088219"
     },
     "user_tz": -180
    },
    "id": "pw-Brue9EEY3",
    "outputId": "d83babb8-2b13-40b7-fdf3-72784fb44871"
   },
   "outputs": [],
   "source": [
    "from google.colab import drive\n",
    "drive.mount('/content/drive')\n",
    "\n",
    "data = pd.read_csv('/content/drive/My Drive/DeepLearningSchool/8.Algorithm_composition/train.csv')\n",
    "print(f\"Количество строк {data.shape[0]}, количество признаков {data.shape[1]}\")\n",
    "data.head()"
   ]
  },
  {
   "cell_type": "code",
   "execution_count": null,
   "metadata": {
    "id": "KgnkkF5bEEY9"
   },
   "outputs": [],
   "source": [
    "# Для вашего удобства списки с именами разных колонок\n",
    "\n",
    "# Числовые признаки\n",
    "num_cols = [\n",
    "    'ClientPeriod',\n",
    "    'MonthlySpending',\n",
    "    'TotalSpent'\n",
    "]\n",
    "\n",
    "# Категориальные признаки\n",
    "cat_cols = [\n",
    "    'Sex',\n",
    "    'IsSeniorCitizen',\n",
    "    'HasPartner',\n",
    "    'HasChild',\n",
    "    'HasPhoneService',\n",
    "    'HasMultiplePhoneNumbers',\n",
    "    'HasInternetService',\n",
    "    'HasOnlineSecurityService',\n",
    "    'HasOnlineBackup',\n",
    "    'HasDeviceProtection',\n",
    "    'HasTechSupportAccess',\n",
    "    'HasOnlineTV',\n",
    "    'HasMovieSubscription',\n",
    "    'HasContractPhone',\n",
    "    'IsBillingPaperless',\n",
    "    'PaymentMethod'\n",
    "]\n",
    "\n",
    "feature_cols = num_cols + cat_cols\n",
    "target_col = 'Churn'"
   ]
  },
  {
   "cell_type": "code",
   "execution_count": null,
   "metadata": {
    "colab": {
     "base_uri": "https://localhost:8080/"
    },
    "executionInfo": {
     "elapsed": 255,
     "status": "ok",
     "timestamp": 1635076634199,
     "user": {
      "displayName": "Ярослав Янин",
      "photoUrl": "https://lh3.googleusercontent.com/a/default-user=s64",
      "userId": "06336103527584088219"
     },
     "user_tz": -180
    },
    "id": "tHC6gWabEEZA",
    "outputId": "2dffe841-8e85-4f60-cb37-1ac2524610a6"
   },
   "outputs": [],
   "source": [
    "# Общая информация о данных\n",
    "data.info()"
   ]
  },
  {
   "cell_type": "code",
   "execution_count": null,
   "metadata": {
    "colab": {
     "base_uri": "https://localhost:8080/"
    },
    "executionInfo": {
     "elapsed": 258,
     "status": "ok",
     "timestamp": 1635076637737,
     "user": {
      "displayName": "Ярослав Янин",
      "photoUrl": "https://lh3.googleusercontent.com/a/default-user=s64",
      "userId": "06336103527584088219"
     },
     "user_tz": -180
    },
    "id": "WTznaTrEazfe",
    "outputId": "736893d7-f02d-4dd3-884c-39e67af46f00"
   },
   "outputs": [],
   "source": [
    "# Смотрим None в данных\n",
    "print(data.isna().any())\n",
    "# Если бы были пропуски, то вывели бы сумму таких значений\n",
    "data.isna().sum()"
   ]
  },
  {
   "cell_type": "code",
   "execution_count": null,
   "metadata": {
    "colab": {
     "base_uri": "https://localhost:8080/"
    },
    "executionInfo": {
     "elapsed": 2,
     "status": "ok",
     "timestamp": 1635076640477,
     "user": {
      "displayName": "Ярослав Янин",
      "photoUrl": "https://lh3.googleusercontent.com/a/default-user=s64",
      "userId": "06336103527584088219"
     },
     "user_tz": -180
    },
    "id": "zK9l8vXTaznd",
    "outputId": "f25ac2a8-286f-4a28-d562-b5e9dea96bad"
   },
   "outputs": [],
   "source": [
    "# Смотрим пропуски в данных\n",
    "print(data.isnull().any())\n",
    "# Если бы были пропуски, то вывели бы сумму таких значений\n",
    "data.isna().sum()"
   ]
  },
  {
   "cell_type": "markdown",
   "metadata": {
    "id": "dK370bPCEEZD"
   },
   "source": [
    "## Анализ данных (3 балла)\n",
    "\n",
    "1) Для численных призанков постройте гистограмму (*plt.hist(...)*) или boxplot (*plt.boxplot(...)*). Для категориальных посчитайте количество каждого значения для каждого признака. Для каждой колонки надо сделать *data.value_counts()* и построить bar диаграммы *plt.bar(...)* или круговые диаграммы *plt.pie(...)* (хорошо, елси вы сможете это сделать на одном гарфике с помощью *plt.subplots(...)*). \n",
    "\n",
    "2) Посмотрите на распределение целевой переменной и скажите, являются ли классы несбалансированными.\n",
    "\n",
    "3) (Если будет желание) Поиграйте с разными библиотеками для визуализации - *sns*, *pandas_visual_analysis*, etc.\n",
    "\n",
    "Второй пункт очень важен, потому что существуют задачи классификации с несбалансированными классами. Например, это может значить, что в датасете намного больше примеров 0 класса. В таких случаях нужно 1) не использовать accuracy как метрику 2) использовать методы борьбы с imbalanced dataset (обычно если датасет сильно несбалансирован, т.е. класса 1 в 20 раз меньше класса 0)."
   ]
  },
  {
   "cell_type": "code",
   "execution_count": null,
   "metadata": {
    "id": "NZkbgFJZEEZE"
   },
   "outputs": [],
   "source": [
    "# YOUR CODE\n",
    "# Задание 1. Смотрим на числовые признаки\n",
    "import matplotlib.pyplot as plt\n",
    "num_cols = [\n",
    "    'ClientPeriod',\n",
    "    'MonthlySpending',\n",
    "    'TotalSpent'\n",
    "]\n",
    "\n",
    "data['TotalSpent'] = data['TotalSpent'].replace(' ', '0')\n",
    "data['TotalSpent'] = data['TotalSpent'].astype(float)\n",
    "data['TotalSpent'] = data['TotalSpent'].replace(0, data['TotalSpent'].mean())\n",
    "\n",
    "plt.figure(figsize = (16, 16))\n",
    "for i in range(len(num_cols)):\n",
    "    plt.subplot(2,2,i+1)\n",
    "    plt.grid(True, linestyle='--', color='0.75')\n",
    "    plt.hist(data[num_cols[i]], 15)\n",
    "    plt.xlabel(f'{num_cols[i]}', size = '14')\n",
    "    plt.ylabel('Количество значений', size = '14')\n",
    "plt.show()"
   ]
  },
  {
   "cell_type": "code",
   "execution_count": null,
   "metadata": {
    "colab": {
     "base_uri": "https://localhost:8080/",
     "height": 1000
    },
    "executionInfo": {
     "elapsed": 3051,
     "status": "ok",
     "timestamp": 1635076650466,
     "user": {
      "displayName": "Ярослав Янин",
      "photoUrl": "https://lh3.googleusercontent.com/a/default-user=s64",
      "userId": "06336103527584088219"
     },
     "user_tz": -180
    },
    "id": "hlcEbYa2cQQ_",
    "outputId": "12cdb50d-0b58-4d07-851a-797b023d9a45"
   },
   "outputs": [],
   "source": [
    "# YOUR CODE\n",
    "# Задание 1. Смотрим на категориальные признаки\n",
    "import matplotlib.pyplot as plt\n",
    "cat_cols = [\n",
    "    'Sex',\n",
    "    'IsSeniorCitizen',\n",
    "    'HasPartner',\n",
    "    'HasChild',\n",
    "    'HasPhoneService',\n",
    "    'HasMultiplePhoneNumbers',\n",
    "    'HasInternetService',\n",
    "    'HasOnlineSecurityService',\n",
    "    'HasOnlineBackup',\n",
    "    'HasDeviceProtection',\n",
    "    'HasTechSupportAccess',\n",
    "    'HasOnlineTV',\n",
    "    'HasMovieSubscription',\n",
    "    'HasContractPhone',\n",
    "    'IsBillingPaperless',\n",
    "    'PaymentMethod'\n",
    "]\n",
    "\n",
    "plt.figure(figsize = (16, 80))\n",
    "\n",
    "for i in range(len(cat_cols)):\n",
    "    plt.subplot(8,2,i+1)\n",
    "    plt.grid(True, linestyle='--', color='0.75')\n",
    "    plt.bar(data[cat_cols[i]].unique(), data[cat_cols[i]].value_counts())\n",
    "    plt.xlabel(f'{cat_cols[i]}', size = '14')\n",
    "    plt.ylabel('Количество значений', size = '14')\n",
    "plt.show()"
   ]
  },
  {
   "cell_type": "code",
   "execution_count": null,
   "metadata": {
    "colab": {
     "base_uri": "https://localhost:8080/",
     "height": 610
    },
    "executionInfo": {
     "elapsed": 442,
     "status": "ok",
     "timestamp": 1635076650905,
     "user": {
      "displayName": "Ярослав Янин",
      "photoUrl": "https://lh3.googleusercontent.com/a/default-user=s64",
      "userId": "06336103527584088219"
     },
     "user_tz": -180
    },
    "id": "l-YZAc36ckh8",
    "outputId": "161c6efd-3048-4441-abc3-8d7e08d7312f"
   },
   "outputs": [],
   "source": [
    "# Задание 2\n",
    "# Классы не сбалансированны\n",
    "import matplotlib.pyplot as plt\n",
    "\n",
    "target_col = 'Churn'\n",
    "plt.figure(figsize = (10, 10))\n",
    "plt.grid(True, linestyle='--', color='0.75')\n",
    "plt.hist(data[target_col], 15)\n",
    "plt.xlabel(f'{target_col}', size = '14')\n",
    "plt.ylabel('Количество значений', size = '14')\n",
    "plt.show()"
   ]
  },
  {
   "cell_type": "markdown",
   "metadata": {
    "id": "zg60u3QDEEZH"
   },
   "source": [
    "(Дополнительно) Если вы нашли какие-то ошибки в данных или выбросы, то можете их убрать. Тут можно поэксперементировать с обработкой данных как угодно, но не за баллы."
   ]
  },
  {
   "cell_type": "code",
   "execution_count": null,
   "metadata": {
    "colab": {
     "base_uri": "https://localhost:8080/",
     "height": 260
    },
    "executionInfo": {
     "elapsed": 252,
     "status": "ok",
     "timestamp": 1635076653766,
     "user": {
      "displayName": "Ярослав Янин",
      "photoUrl": "https://lh3.googleusercontent.com/a/default-user=s64",
      "userId": "06336103527584088219"
     },
     "user_tz": -180
    },
    "id": "fwfksF1gEEZI",
    "outputId": "3e3e8f73-45a3-44a1-cea8-62ae9e4afb48"
   },
   "outputs": [],
   "source": [
    "# YOUR CODE\n",
    "# Смотрим корреляции\n",
    "import matplotlib.pyplot as plt\n",
    "\n",
    "\n",
    "corr = data[feature_cols].corr()\n",
    "\n",
    "for i in corr:\n",
    "  print(i)\n",
    "  print(i, sum(corr[i])-1)\n",
    "\n",
    "corr.style.background_gradient(cmap='coolwarm')"
   ]
  },
  {
   "cell_type": "markdown",
   "metadata": {
    "id": "DviiJd8REEZK"
   },
   "source": [
    "## Применение линейных моделей (3 балла)\n",
    "\n",
    "1) Обработайте данные для того, чтобы к ним можно было применить LogisticRegression. Т.е. отнормируйте числовые признаки, а категориальные закодируйте с помощью one-hot-encoding'а. \n",
    "\n",
    "2) С помощью кроссвалидации или разделения на train/valid выборку протестируйте разные значения гиперпараметра C и выберите лучший (можно тестировать С=100, 10, 1, 0.1, 0.01, 0.001) по метрике ROC-AUC. \n",
    "\n",
    "Если вы разделяете на train/valid, то используйте LogisticRegressionCV. Он сам при вызове .fit() подберет параметр С. (не забудьте передать scroing='roc_auc', чтобы при кроссвалидации сравнивались значения этой метрики, и refit=True, чтобы при потом модель обучилась на всем датасете с лучшим параметром C). \n",
    "\n",
    "\n",
    "(более сложный вариант) Если вы будете использовать кроссвалидацию, то преобразования данных и LogisticRegression нужно соединить в один Pipeline с помощью make_pipeline, как это делалось во втором семинаре. Потом pipeline надо передать в GridSearchCV. Для one-hot-encoding'a можно испльзовать комбинацию LabelEncoder + OneHotEncoder (сначала превращаем строчки в числа, а потом числа првращаем в one-hot вектора.)"
   ]
  },
  {
   "cell_type": "code",
   "execution_count": null,
   "metadata": {
    "id": "xHCLDmwqEEZL"
   },
   "outputs": [],
   "source": [
    "from sklearn.linear_model import LogisticRegression, LogisticRegressionCV\n",
    "from sklearn.model_selection import train_test_split, GridSearchCV\n",
    "from sklearn.preprocessing import StandardScaler, RobustScaler, LabelEncoder, OneHotEncoder\n",
    "from sklearn.pipeline import make_pipeline"
   ]
  },
  {
   "cell_type": "code",
   "execution_count": null,
   "metadata": {
    "id": "P2Yv3uYtEEZO"
   },
   "outputs": [],
   "source": [
    "# YOUR CODE\n",
    "features_labels = []"
   ]
  },
  {
   "cell_type": "markdown",
   "metadata": {
    "id": "wl4nGp2pdVWL"
   },
   "source": [
    "### LabelEncoder для категориальных признаков"
   ]
  },
  {
   "cell_type": "code",
   "execution_count": null,
   "metadata": {
    "colab": {
     "base_uri": "https://localhost:8080/",
     "height": 309
    },
    "executionInfo": {
     "elapsed": 265,
     "status": "ok",
     "timestamp": 1635076662805,
     "user": {
      "displayName": "Ярослав Янин",
      "photoUrl": "https://lh3.googleusercontent.com/a/default-user=s64",
      "userId": "06336103527584088219"
     },
     "user_tz": -180
    },
    "id": "VijdhtWjdYto",
    "outputId": "fde567ce-8ef7-4ebe-b597-e8391cf7e073"
   },
   "outputs": [],
   "source": [
    "le = LabelEncoder()\n",
    "for s in cat_cols:\n",
    "    le.fit(data[s])\n",
    "    data[s+'_le'] = le.transform(data[s])\n",
    "    features_labels.append(s+'_le')\n",
    "\n",
    "print(data.shape)\n",
    "data.head()"
   ]
  },
  {
   "cell_type": "markdown",
   "metadata": {
    "id": "1jzv-AskdtqC"
   },
   "source": [
    "### OneHotEncoder для категориальных признаков"
   ]
  },
  {
   "cell_type": "code",
   "execution_count": null,
   "metadata": {
    "colab": {
     "base_uri": "https://localhost:8080/",
     "height": 241
    },
    "executionInfo": {
     "elapsed": 266,
     "status": "ok",
     "timestamp": 1635076665702,
     "user": {
      "displayName": "Ярослав Янин",
      "photoUrl": "https://lh3.googleusercontent.com/a/default-user=s64",
      "userId": "06336103527584088219"
     },
     "user_tz": -180
    },
    "id": "toayAj-udt19",
    "outputId": "7a9d3874-8a43-4dff-c655-a00c9206c071"
   },
   "outputs": [],
   "source": [
    "ohe = OneHotEncoder(handle_unknown='ignore')\n",
    "for s in cat_cols:\n",
    "    new_ohe_features = ohe.fit_transform(data[s].values.reshape(-1, 1)).toarray()\n",
    "    tmp = pd.DataFrame(new_ohe_features, columns=[s+'='+str(i) for i in range(new_ohe_features.shape[1])])\n",
    "    data = pd.concat([data, tmp], axis=1)\n",
    "    data.drop([s], axis=1, inplace=True)\n",
    "    [features_labels.append(s+'='+str(i)) for i in range(new_ohe_features.shape[1])]\n",
    "    \n",
    "\n",
    "print(data.shape)\n",
    "data.head()"
   ]
  },
  {
   "cell_type": "markdown",
   "metadata": {
    "id": "BUIukctjd3GM"
   },
   "source": [
    "### Нормализация числовых признаков"
   ]
  },
  {
   "cell_type": "code",
   "execution_count": null,
   "metadata": {
    "colab": {
     "base_uri": "https://localhost:8080/",
     "height": 292
    },
    "executionInfo": {
     "elapsed": 265,
     "status": "ok",
     "timestamp": 1635076669832,
     "user": {
      "displayName": "Ярослав Янин",
      "photoUrl": "https://lh3.googleusercontent.com/a/default-user=s64",
      "userId": "06336103527584088219"
     },
     "user_tz": -180
    },
    "id": "IC4P1hKsd3M8",
    "outputId": "1f5e2284-039f-47f4-9f06-2e3b77f5762f"
   },
   "outputs": [],
   "source": [
    "scaler = StandardScaler()\n",
    "for i in num_cols:\n",
    "    print(i)\n",
    "    data[i+'_ss'] = scaler.fit_transform(data[i].values.reshape(-1, 1))\n",
    "    features_labels.append(i+'_ss') \n",
    "    data.drop([i], axis=1, inplace=True)\n",
    "\n",
    "print(data.shape)\n",
    "data.head()"
   ]
  },
  {
   "cell_type": "markdown",
   "metadata": {
    "id": "7FgL4LuBeIpS"
   },
   "source": [
    "### Ищем лучшие параметры для LogisticRegression"
   ]
  },
  {
   "cell_type": "code",
   "execution_count": null,
   "metadata": {
    "colab": {
     "base_uri": "https://localhost:8080/"
    },
    "executionInfo": {
     "elapsed": 52236,
     "status": "ok",
     "timestamp": 1635076724376,
     "user": {
      "displayName": "Ярослав Янин",
      "photoUrl": "https://lh3.googleusercontent.com/a/default-user=s64",
      "userId": "06336103527584088219"
     },
     "user_tz": -180
    },
    "id": "pxW7F9TxeDJC",
    "outputId": "17f3ea0c-9c12-426a-d5cf-36930e779136"
   },
   "outputs": [],
   "source": [
    "import time\n",
    "\n",
    "import warnings\n",
    "from sklearn.exceptions import ConvergenceWarning\n",
    "warnings.filterwarnings(action='ignore', category=ConvergenceWarning)\n",
    "\n",
    "t = time.time()\n",
    "parameters = {\n",
    "    'penalty': ('elasticnet', ),\n",
    "    'C': (100, 10, 1, 0.1, 0.01, 0.001),\n",
    "    'class_weight': ('balanced', None),\n",
    "    'solver': ('saga',),\n",
    "    'n_jobs': (-1,),\n",
    "    'l1_ratio': (0.1, 0.3, 0.5, 0.9)\n",
    "}\n",
    "\n",
    "lr_clf =  LogisticRegression()\n",
    "gs_lr_clf = GridSearchCV(lr_clf, parameters, cv=3, scoring='roc_auc')\n",
    "\n",
    "X_train, X_test, y_train, y_test = train_test_split(\n",
    "    data[features_labels], data[target_col], stratify=data[target_col], random_state=42, test_size=0.2\n",
    ")\n",
    "gs_lr_clf.fit(X_train, y_train)\n",
    "\n",
    "# End estimate. Writing some info\n",
    "print(f'How long: {\"%.2f\" % (time.time()-t)}, s')\n",
    "print('LogisticRegression - best estimator: ', gs_lr_clf.best_estimator_)\n",
    "print('LogisticRegression - best score: ', gs_lr_clf.best_score_)\n",
    "print(\"LogisticRegression - best predict: \", roc_auc_score(y_test, gs_lr_clf.predict(X_test)))"
   ]
  },
  {
   "cell_type": "markdown",
   "metadata": {
    "id": "uVahy6JKEEZQ"
   },
   "source": [
    "Выпишите какое лучшее качество и с какими параметрами вам удалось получить"
   ]
  },
  {
   "cell_type": "markdown",
   "metadata": {
    "id": "36729TOQEEZR"
   },
   "source": [
    "LogisticRegression - best predict:  0.7140609090067574\n",
    "\n",
    "LogisticRegression - best estimator:  LogisticRegression(C=100, class_weight=None, dual=False, fit_intercept=True,\n",
    "                   intercept_scaling=1, l1_ratio=0.1, max_iter=100,\n",
    "                   multi_class='auto', n_jobs=-1, penalty='elasticnet',\n",
    "                   random_state=None, solver='saga', tol=0.0001, verbose=0,\n",
    "                   warm_start=False)"
   ]
  },
  {
   "cell_type": "markdown",
   "metadata": {
    "id": "BlTeVy7fEEZR"
   },
   "source": [
    "## Применение градиентного бустинга (2 балла)\n",
    "\n",
    "Если вы хотите получить баллы за точный ответ, то стоит попробовать градиентный бустинг. Часто градиентный бустинг с дефолтными параметрами даст вам 80% результата за 0% усилий.\n",
    "\n",
    "Мы будем использовать catboost, поэтому нам не надо кодировать категориальные признаки. catboost сделает это сам (в .fit() надо передать cat_features=cat_cols). А численные признаки нормировать для моделей, основанных на деревьях не нужно.\n",
    "\n",
    "1) Разделите выборку на train/valid. Протестируйте catboost cо стандартными параметрами.\n",
    "\n",
    "2) Протестируйте разные занчения параметроа количества деревьев и learning_rate'а и выберите лучшую по метрике ROC-AUC комбинацию. \n",
    "\n",
    "(Дополнительно) Есть некоторые сложности с тем, чтобы использовать CatBoostClassifier вместе с GridSearchCV, поэтому мы не просим использовать кроссвалидацию. Но можете попробовать)"
   ]
  },
  {
   "cell_type": "code",
   "execution_count": null,
   "metadata": {
    "colab": {
     "base_uri": "https://localhost:8080/"
    },
    "executionInfo": {
     "elapsed": 13263,
     "status": "ok",
     "timestamp": 1635076872153,
     "user": {
      "displayName": "Ярослав Янин",
      "photoUrl": "https://lh3.googleusercontent.com/a/default-user=s64",
      "userId": "06336103527584088219"
     },
     "user_tz": -180
    },
    "id": "9aDUY8TfgUyi",
    "outputId": "7b07b63f-b454-48e7-afbb-cf1e6af46491"
   },
   "outputs": [],
   "source": [
    "!pip install catboost"
   ]
  },
  {
   "cell_type": "code",
   "execution_count": null,
   "metadata": {
    "colab": {
     "base_uri": "https://localhost:8080/"
    },
    "executionInfo": {
     "elapsed": 2614204,
     "status": "ok",
     "timestamp": 1635079585337,
     "user": {
      "displayName": "Ярослав Янин",
      "photoUrl": "https://lh3.googleusercontent.com/a/default-user=s64",
      "userId": "06336103527584088219"
     },
     "user_tz": -180
    },
    "id": "5NbNYb0XK4sd",
    "outputId": "f1f077cd-8077-4cbe-ed66-8f1552d56fb3"
   },
   "outputs": [],
   "source": [
    "from catboost import CatBoostClassifier\n",
    "\n",
    "\n",
    "cbc_clf = CatBoostClassifier(iterations=400,\n",
    "                       depth=4,\n",
    "                       learning_rate=0.05,\n",
    "                       loss_function='Logloss',\n",
    "                       verbose=False,\n",
    "                       random_seed = 4,\n",
    "                       l2_leaf_reg = 40,\n",
    "                       eval_metric='AUC'\n",
    "                       )\n",
    "\n",
    "parametrs_cbc = {\n",
    "    'iterations': [50, 100, 150, 200],\n",
    "    \"learning_rate\": [0.01, 0.05, 0.1, 0.5],\n",
    "    'min_data_in_leaf': [3, 6, 9, 12],\n",
    "    'depth': [2, 3, 4, 5, 6],\n",
    "    'l2_leaf_reg': [0, 0.01, 0.05, 0.1, 0.5]    \n",
    "}\n",
    "\n",
    "cbc_grid = GridSearchCV(cbc_clf, parametrs_cbc, cv=5, verbose=4, scoring='roc_auc', refit=True, n_jobs=-1)\n",
    "cbc_grid.fit(X_train, y_train)\n",
    "\n",
    "# End estimate. Writing some info\n",
    "print(f'How long: {\"%.2f\" % (time.time()-t)}, s')\n",
    "print('CatBoostClassifier - best estimator: ', cbc_grid.best_estimator_)\n",
    "print('CatBoostClassifier - best score: ', cbc_grid.best_score_)\n",
    "print(\"CatBoostClassifier - best predict: \", roc_auc_score(y_test, cbc_grid.predict(X_test)))"
   ]
  },
  {
   "cell_type": "markdown",
   "metadata": {
    "id": "djkG1AaFLyhq"
   },
   "source": [
    "## Что еще стоит попробовать\n",
    "- использовать голосование\n",
    "- разбить выборку на 2 части и на каждой подвыборке провести обучение алгоритмов\n",
    "- использовать sklearn.multiclass.OneVsRestClassifier\n",
    "- получше почистить данные\n",
    "- посмотреть на ошибки в определении классов и на сами фичи\n",
    "- зафиксировать random_state, тк от него зависит качество модели\n",
    "- использовать sklearn.preprocessing.PowerTransformer\n",
    "- использовать sklearn.preprocessing.Normalizer\n",
    "- использовать sklearn.preprocessing.SplineTransformer\n",
    "- попробовать Classification with Vowpal Wabbit\n",
    "- попробовать другой метаалгоритм\n",
    "- метаалгоритм в стекинге лучше обучать на другой подвыборке (!)\n",
    "- Заменить 0 и 1 на вероятности каждого значения (?)\n",
    "- признаки с бинарными значениями образуют 3 новых признака, которые плохо вляют на оценку. Стоит оставить только 2 признака???\n",
    "\n",
    "\n"
   ]
  },
  {
   "cell_type": "markdown",
   "metadata": {
    "id": "X8BdQS3HMIDt"
   },
   "source": [
    "# Использование стекинга с различными библиотеками градиентного бустинга и алгоритмов классификации из sklearn"
   ]
  },
  {
   "cell_type": "markdown",
   "metadata": {
    "id": "cHuHg-slMgA5"
   },
   "source": [
    "## Предварительная обработка данных"
   ]
  },
  {
   "cell_type": "code",
   "execution_count": 1,
   "metadata": {
    "colab": {
     "base_uri": "https://localhost:8080/"
    },
    "executionInfo": {
     "elapsed": 1090,
     "status": "ok",
     "timestamp": 1635256168110,
     "user": {
      "displayName": "Ярослав Янин",
      "photoUrl": "https://lh3.googleusercontent.com/a/default-user=s64",
      "userId": "06336103527584088219"
     },
     "user_tz": -180
    },
    "id": "8z91V9R5MZvZ",
    "outputId": "ab31d309-4779-47f6-b20e-9e0327ea8276"
   },
   "outputs": [
    {
     "name": "stdout",
     "output_type": "stream",
     "text": [
      "Количество строк 5282, количество признаков 20\n"
     ]
    }
   ],
   "source": [
    "# Числовые признаки\n",
    "num_cols = [\n",
    "    'ClientPeriod',\n",
    "    'MonthlySpending',\n",
    "    'TotalSpent'\n",
    "]\n",
    "\n",
    "# Категориальные признаки\n",
    "cat_cols = [\n",
    "    'Sex',\n",
    "    'IsSeniorCitizen',\n",
    "    'HasPartner',\n",
    "    'HasChild',\n",
    "    'HasPhoneService',\n",
    "    'HasMultiplePhoneNumbers',\n",
    "    'HasInternetService',\n",
    "    'HasOnlineSecurityService',\n",
    "    'HasOnlineBackup',\n",
    "    'HasDeviceProtection',\n",
    "    'HasTechSupportAccess',\n",
    "    'HasOnlineTV',\n",
    "    'HasMovieSubscription',\n",
    "    'HasContractPhone',\n",
    "    'IsBillingPaperless',\n",
    "    'PaymentMethod'\n",
    "]\n",
    "\n",
    "feature_cols = num_cols + cat_cols\n",
    "target_col = 'Churn'\n",
    "\n",
    "import pandas as pd\n",
    "from sklearn.preprocessing import StandardScaler, RobustScaler, LabelEncoder, OneHotEncoder\n",
    "from sklearn.model_selection import train_test_split\n",
    "\n",
    "# from google.colab import drive\n",
    "# drive.mount('/content/drive')\n",
    "# data = pd.read_csv('/content/drive/My Drive/DeepLearningSchool/8.Algorithm_composition/train.csv')\n",
    "# data_predict = pd.read_csv('/content/drive/My Drive/DeepLearningSchool/8.Algorithm_composition/test.csv')\n",
    "\n",
    "PATH = r'C:\\Users\\user\\PycharmProjects\\DeepLearningSchool\\8.Algorithm_composition\\{}'\n",
    "data = pd.read_csv(PATH.format('train.csv'))\n",
    "data_predict = pd.read_csv(PATH.format('test.csv'))\n",
    "\n",
    "print(f\"Количество строк {data.shape[0]}, количество признаков {data.shape[1]}\")\n",
    "features_labels = []\n",
    "\n",
    "# Чтение данных для обучения модели\n",
    "y = data['Churn']\n",
    "data.drop(['Churn'], inplace=True, axis=True)\n",
    "data['TotalSpent'] = data['TotalSpent'].replace(' ', '0')\n",
    "data['TotalSpent'] = data['TotalSpent'].astype(float)\n",
    "data['TotalSpent'] = data['TotalSpent'].replace(0, data['TotalSpent'].mean())\n",
    "\n",
    "# Чтение данных для предсказания\n",
    "data_predict['TotalSpent'] = data_predict['TotalSpent'].replace(' ', '0')\n",
    "data_predict['TotalSpent'] = data_predict['TotalSpent'].astype(float)\n",
    "data_predict['TotalSpent'] = data_predict['TotalSpent'].replace(0, data['TotalSpent'].mean())\n",
    "X_predict = data_predict\n",
    "\n",
    "#LabelEncoder для категориальных признаков\n",
    "le = LabelEncoder()\n",
    "for s in cat_cols:\n",
    "    le.fit(data[s])\n",
    "    data[s+'_le'] = le.transform(data[s])\n",
    "    X_predict[s+'_le'] = le.transform(X_predict[s])\n",
    "    features_labels.append(s+'_le')\n",
    "\n",
    "# OneHotEncoder для категориальных признаков\n",
    "ohe = OneHotEncoder(handle_unknown='ignore')\n",
    "for s in cat_cols:\n",
    "    ohe.fit(data[s].values.reshape(-1, 1))\n",
    "    \n",
    "    new_ohe_features = ohe.transform(X_predict[s].values.reshape(-1, 1)).toarray()\n",
    "    tmp = pd.DataFrame(new_ohe_features, columns=[s+'='+str(i) for i in range(new_ohe_features.shape[1])])\n",
    "    X_predict = pd.concat([X_predict, tmp], axis=1)\n",
    "    X_predict.drop([s], axis=1, inplace=True)\n",
    "    \n",
    "    new_ohe_features = ohe.transform(data[s].values.reshape(-1, 1)).toarray()\n",
    "    tmp = pd.DataFrame(new_ohe_features, columns=[s+'='+str(i) for i in range(new_ohe_features.shape[1])])\n",
    "    data = pd.concat([data, tmp], axis=1)\n",
    "    data.drop([s], axis=1, inplace=True)\n",
    "    \n",
    "    [features_labels.append(s+'='+str(i)) for i in range(new_ohe_features.shape[1])]\n",
    "\n",
    "# Нормализация числовых признаков\n",
    "scaler = StandardScaler()\n",
    "for i in num_cols:\n",
    "    scaler.fit(data[i].values.reshape(-1, 1))\n",
    "    \n",
    "    X_predict[i+'_ss'] = scaler.transform(X_predict[i].values.reshape(-1, 1))\n",
    "    X_predict.drop([i], axis=1, inplace=True)\n",
    "    \n",
    "    data[i+'_ss'] = scaler.transform(data[i].values.reshape(-1, 1))\n",
    "    data.drop([i], axis=1, inplace=True)\n",
    "    \n",
    "    features_labels.append(i+'_ss') \n",
    "\n",
    "# Разбивание выборки для обучения на тестовую и валидационную\n",
    "X_train, X_valid, y_train, y_valid = train_test_split(\n",
    "    data, y, stratify=y, random_state=42, test_size=0.2\n",
    ")"
   ]
  },
  {
   "cell_type": "markdown",
   "metadata": {
    "id": "iZ9Ds8hLM3Zc"
   },
   "source": [
    "## Дополнителная обработка данных"
   ]
  },
  {
   "cell_type": "code",
   "execution_count": 2,
   "metadata": {
    "colab": {
     "base_uri": "https://localhost:8080/"
    },
    "executionInfo": {
     "elapsed": 345,
     "status": "ok",
     "timestamp": 1635256170176,
     "user": {
      "displayName": "Ярослав Янин",
      "photoUrl": "https://lh3.googleusercontent.com/a/default-user=s64",
      "userId": "06336103527584088219"
     },
     "user_tz": -180
    },
    "id": "_H5GVutANI4e",
    "outputId": "96df9011-9f3e-4d33-ed90-67ea0b3c48b7"
   },
   "outputs": [
    {
     "name": "stdout",
     "output_type": "stream",
     "text": [
      "Количество строк 4225, количество признаков 48\n",
      "Количество строк (4225,)\n",
      "(4225, 48)\n",
      "(1057, 48)\n"
     ]
    }
   ],
   "source": [
    "from sklearn.preprocessing import MaxAbsScaler\n",
    "from sklearn.feature_selection import f_classif\n",
    "from sklearn.feature_selection import SelectKBest\n",
    "from sklearn.preprocessing import PolynomialFeatures\n",
    "from sklearn.feature_selection import SelectFromModel\n",
    "\n",
    "\n",
    "\n",
    "transformer = MaxAbsScaler().fit(X_train)\n",
    "X_train = pd.DataFrame(transformer.transform(X_train), columns=features_labels)\n",
    "X_valid = pd.DataFrame(transformer.transform(X_valid), columns=features_labels)\n",
    "\n",
    "new_names = ['ClientPeriod_ss', 'MonthlySpending_ss', 'TotalSpent_ss']\n",
    "pf = PolynomialFeatures(interaction_only=True, degree=2)\n",
    "pf.fit(X_train[(new_names)])\n",
    "\n",
    "X_train_pf = pf.transform(X_train[(new_names)])\n",
    "X_valid_pf = pf.transform(X_valid[(new_names)])\n",
    "new_names_pf = [f'new_names_{i}' for i in range(X_train_pf.shape[1])]\n",
    "\n",
    "X_train_pf = pd.DataFrame(X_train_pf, columns=new_names_pf)\n",
    "X_valid_pf = pd.DataFrame(X_valid_pf, columns=new_names_pf)\n",
    "X_train = pd.concat([X_train, X_train_pf], axis=1)\n",
    "X_valid = pd.concat([X_valid, X_valid_pf], axis=1)\n",
    "X_train = X_train.drop(['new_names_0'], axis=1)\n",
    "X_valid = X_valid.drop(['new_names_0'], axis=1)\n",
    "\n",
    "selecter = SelectKBest(f_classif, k=48).fit(X_train, y_train)\n",
    "X_train = selecter.transform(X_train)\n",
    "X_valid = selecter.transform(X_valid)\n",
    "\n",
    "print(f\"Количество строк {X_train.shape[0]}, количество признаков {X_train.shape[1]}\")\n",
    "print(f\"Количество строк {y_train.shape}\")\n",
    "print(X_train.shape)\n",
    "print(X_valid.shape)"
   ]
  },
  {
   "cell_type": "markdown",
   "metadata": {
    "id": "xssvU-H-dOIG"
   },
   "source": [
    "## Использование стекинга для моделей с лучшими параметрами"
   ]
  },
  {
   "cell_type": "code",
   "execution_count": 17,
   "metadata": {
    "colab": {
     "base_uri": "https://localhost:8080/"
    },
    "executionInfo": {
     "elapsed": 1208675,
     "status": "ok",
     "timestamp": 1635275851349,
     "user": {
      "displayName": "Ярослав Янин",
      "photoUrl": "https://lh3.googleusercontent.com/a/default-user=s64",
      "userId": "06336103527584088219"
     },
     "user_tz": -180
    },
    "id": "NnBhvp9ydZoq",
    "outputId": "e8078932-0098-4672-a4cf-787d7dd48a78",
    "scrolled": true
   },
   "outputs": [
    {
     "name": "stdout",
     "output_type": "stream",
     "text": [
      "Fitting 5 folds for each of 18 candidates, totalling 90 fits\n"
     ]
    },
    {
     "name": "stderr",
     "output_type": "stream",
     "text": [
      "[Parallel(n_jobs=-1)]: Using backend LokyBackend with 12 concurrent workers.\n",
      "[Parallel(n_jobs=-1)]: Done   8 tasks      | elapsed:    1.5s\n",
      "[Parallel(n_jobs=-1)]: Done  90 out of  90 | elapsed:   16.2s finished\n"
     ]
    },
    {
     "name": "stdout",
     "output_type": "stream",
     "text": [
      "Fitting 5 folds for each of 36 candidates, totalling 180 fits\n"
     ]
    },
    {
     "name": "stderr",
     "output_type": "stream",
     "text": [
      "[Parallel(n_jobs=-1)]: Using backend LokyBackend with 12 concurrent workers.\n",
      "[Parallel(n_jobs=-1)]: Done  26 tasks      | elapsed:    4.7s\n",
      "[Parallel(n_jobs=-1)]: Done 180 out of 180 | elapsed:   34.0s finished\n"
     ]
    },
    {
     "name": "stdout",
     "output_type": "stream",
     "text": [
      "Fitting 5 folds for each of 1 candidates, totalling 5 fits\n"
     ]
    },
    {
     "name": "stderr",
     "output_type": "stream",
     "text": [
      "[Parallel(n_jobs=-1)]: Using backend LokyBackend with 12 concurrent workers.\n",
      "[Parallel(n_jobs=-1)]: Done   2 out of   5 | elapsed:    0.1s remaining:    0.2s\n",
      "[Parallel(n_jobs=-1)]: Done   5 out of   5 | elapsed:    0.7s finished\n",
      "C:\\Users\\user\\anaconda3\\lib\\site-packages\\sklearn\\linear_model\\_sag.py:330: ConvergenceWarning: The max_iter was reached which means the coef_ did not converge\n",
      "  \"the coef_ did not converge\", ConvergenceWarning)\n",
      "[Parallel(n_jobs=-1)]: Using backend LokyBackend with 12 concurrent workers.\n"
     ]
    },
    {
     "name": "stdout",
     "output_type": "stream",
     "text": [
      "Fitting 5 folds for each of 3 candidates, totalling 15 fits\n"
     ]
    },
    {
     "name": "stderr",
     "output_type": "stream",
     "text": [
      "[Parallel(n_jobs=-1)]: Done   4 out of  15 | elapsed:    1.5s remaining:    4.2s\n",
      "[Parallel(n_jobs=-1)]: Done  10 out of  15 | elapsed:    2.3s remaining:    1.1s\n",
      "[Parallel(n_jobs=-1)]: Done  15 out of  15 | elapsed:    3.9s finished\n"
     ]
    },
    {
     "name": "stdout",
     "output_type": "stream",
     "text": [
      "Fitting 5 folds for each of 5 candidates, totalling 25 fits\n"
     ]
    },
    {
     "name": "stderr",
     "output_type": "stream",
     "text": [
      "[Parallel(n_jobs=-1)]: Using backend LokyBackend with 12 concurrent workers.\n",
      "[Parallel(n_jobs=-1)]: Done  11 out of  25 | elapsed:   44.7s remaining:   56.9s\n",
      "[Parallel(n_jobs=-1)]: Done  20 out of  25 | elapsed:  1.4min remaining:   20.8s\n",
      "[Parallel(n_jobs=-1)]: Done  25 out of  25 | elapsed:  1.7min finished\n",
      "C:\\Users\\user\\anaconda3\\lib\\site-packages\\sklearn\\linear_model\\_sag.py:330: ConvergenceWarning: The max_iter was reached which means the coef_ did not converge\n",
      "  \"the coef_ did not converge\", ConvergenceWarning)\n",
      "C:\\Users\\user\\anaconda3\\lib\\site-packages\\sklearn\\linear_model\\_sag.py:330: ConvergenceWarning: The max_iter was reached which means the coef_ did not converge\n",
      "  \"the coef_ did not converge\", ConvergenceWarning)\n",
      "C:\\Users\\user\\anaconda3\\lib\\site-packages\\sklearn\\linear_model\\_sag.py:330: ConvergenceWarning: The max_iter was reached which means the coef_ did not converge\n",
      "  \"the coef_ did not converge\", ConvergenceWarning)\n",
      "C:\\Users\\user\\anaconda3\\lib\\site-packages\\sklearn\\linear_model\\_sag.py:330: ConvergenceWarning: The max_iter was reached which means the coef_ did not converge\n",
      "  \"the coef_ did not converge\", ConvergenceWarning)\n",
      "C:\\Users\\user\\anaconda3\\lib\\site-packages\\sklearn\\linear_model\\_sag.py:330: ConvergenceWarning: The max_iter was reached which means the coef_ did not converge\n",
      "  \"the coef_ did not converge\", ConvergenceWarning)\n",
      "C:\\Users\\user\\anaconda3\\lib\\site-packages\\sklearn\\linear_model\\_sag.py:330: ConvergenceWarning: The max_iter was reached which means the coef_ did not converge\n",
      "  \"the coef_ did not converge\", ConvergenceWarning)\n"
     ]
    },
    {
     "name": "stdout",
     "output_type": "stream",
     "text": [
      "----------------------------------------------------------------------\n",
      "Sklearn - best estimator LogisticRegression:  StackingClassifier(cv=5,\n",
      "                   estimators=[('grid_rfc',\n",
      "                                Pipeline(memory=None,\n",
      "                                         steps=[('select',\n",
      "                                                 SelectFromModel(estimator=RandomForestClassifier(bootstrap=True,\n",
      "                                                                                                  ccp_alpha=0.0,\n",
      "                                                                                                  class_weight=None,\n",
      "                                                                                                  criterion='entropy',\n",
      "                                                                                                  max_depth=None,\n",
      "                                                                                                  max_features='auto',\n",
      "                                                                                                  max_leaf_nodes=None,\n",
      "                                                                                                  max_samples=None,\n",
      "                                                                                                  min_impurity_decrease=0.0,\n",
      "                                                                                                  min_impurity_split=None,\n",
      "                                                                                                  min_samples_leaf=1,\n",
      "                                                                                                  min_sam...\n",
      "                                              verbose=False,\n",
      "                                              warm_start=False))],\n",
      "                   final_estimator=LogisticRegression(C=10,\n",
      "                                                      class_weight='balanced',\n",
      "                                                      dual=False,\n",
      "                                                      fit_intercept=True,\n",
      "                                                      intercept_scaling=1,\n",
      "                                                      l1_ratio=None,\n",
      "                                                      max_iter=50000,\n",
      "                                                      multi_class='auto',\n",
      "                                                      n_jobs=None, penalty='l2',\n",
      "                                                      random_state=57,\n",
      "                                                      solver='lbfgs',\n",
      "                                                      tol=0.0001, verbose=0,\n",
      "                                                      warm_start=False),\n",
      "                   n_jobs=None, passthrough=False, stack_method='predict_proba',\n",
      "                   verbose=0)\n",
      "Предсказание класса через лучшие параметры параметры 0.854720910858095\n",
      "Fitting 5 folds for each of 36 candidates, totalling 180 fits\n"
     ]
    },
    {
     "name": "stderr",
     "output_type": "stream",
     "text": [
      "[Parallel(n_jobs=-1)]: Using backend LokyBackend with 12 concurrent workers.\n",
      "[Parallel(n_jobs=-1)]: Done   8 tasks      | elapsed:   46.2s\n",
      "[Parallel(n_jobs=-1)]: Done 104 tasks      | elapsed:  6.8min\n",
      "[Parallel(n_jobs=-1)]: Done 180 out of 180 | elapsed: 11.5min finished\n",
      "C:\\Users\\user\\anaconda3\\lib\\site-packages\\sklearn\\linear_model\\_sag.py:330: ConvergenceWarning: The max_iter was reached which means the coef_ did not converge\n",
      "  \"the coef_ did not converge\", ConvergenceWarning)\n",
      "C:\\Users\\user\\anaconda3\\lib\\site-packages\\sklearn\\linear_model\\_sag.py:330: ConvergenceWarning: The max_iter was reached which means the coef_ did not converge\n",
      "  \"the coef_ did not converge\", ConvergenceWarning)\n",
      "C:\\Users\\user\\anaconda3\\lib\\site-packages\\sklearn\\linear_model\\_sag.py:330: ConvergenceWarning: The max_iter was reached which means the coef_ did not converge\n",
      "  \"the coef_ did not converge\", ConvergenceWarning)\n",
      "C:\\Users\\user\\anaconda3\\lib\\site-packages\\sklearn\\linear_model\\_sag.py:330: ConvergenceWarning: The max_iter was reached which means the coef_ did not converge\n",
      "  \"the coef_ did not converge\", ConvergenceWarning)\n",
      "C:\\Users\\user\\anaconda3\\lib\\site-packages\\sklearn\\linear_model\\_sag.py:330: ConvergenceWarning: The max_iter was reached which means the coef_ did not converge\n",
      "  \"the coef_ did not converge\", ConvergenceWarning)\n",
      "C:\\Users\\user\\anaconda3\\lib\\site-packages\\sklearn\\linear_model\\_sag.py:330: ConvergenceWarning: The max_iter was reached which means the coef_ did not converge\n",
      "  \"the coef_ did not converge\", ConvergenceWarning)\n"
     ]
    },
    {
     "name": "stdout",
     "output_type": "stream",
     "text": [
      "----------------------------------------------------------------------\n",
      "Sklearn - best estimator MLPClassifier:  StackingClassifier(cv=5,\n",
      "                   estimators=[('grid_rfc',\n",
      "                                Pipeline(memory=None,\n",
      "                                         steps=[('select',\n",
      "                                                 SelectFromModel(estimator=RandomForestClassifier(bootstrap=True,\n",
      "                                                                                                  ccp_alpha=0.0,\n",
      "                                                                                                  class_weight=None,\n",
      "                                                                                                  criterion='entropy',\n",
      "                                                                                                  max_depth=None,\n",
      "                                                                                                  max_features='auto',\n",
      "                                                                                                  max_leaf_nodes=None,\n",
      "                                                                                                  max_samples=None,\n",
      "                                                                                                  min_impurity_decrease=0.0,\n",
      "                                                                                                  min_impurity_split=None,\n",
      "                                                                                                  min_samples_leaf=1,\n",
      "                                                                                                  min_sam...\n",
      "                                                 hidden_layer_sizes=(100,),\n",
      "                                                 learning_rate='constant',\n",
      "                                                 learning_rate_init=0.001,\n",
      "                                                 max_fun=15000, max_iter=200,\n",
      "                                                 momentum=0.9,\n",
      "                                                 n_iter_no_change=10,\n",
      "                                                 nesterovs_momentum=True,\n",
      "                                                 power_t=0.5, random_state=57,\n",
      "                                                 shuffle=True, solver='adam',\n",
      "                                                 tol=0.0001,\n",
      "                                                 validation_fraction=0.1,\n",
      "                                                 verbose=False,\n",
      "                                                 warm_start=False),\n",
      "                   n_jobs=None, passthrough=False, stack_method='predict_proba',\n",
      "                   verbose=0)\n",
      "Предсказание класса через лучшие параметры параметры 0.8546052022586319\n"
     ]
    }
   ],
   "source": [
    "from sklearn.linear_model import LogisticRegression\n",
    "from sklearn.naive_bayes import GaussianNB\n",
    "from sklearn.ensemble import RandomForestClassifier\n",
    "from sklearn.neural_network import MLPClassifier\n",
    "from sklearn.ensemble import GradientBoostingClassifier\n",
    "from sklearn.ensemble import StackingClassifier\n",
    "from sklearn.model_selection import GridSearchCV, cross_val_score\n",
    "from sklearn.metrics import roc_auc_score\n",
    "from sklearn.pipeline import Pipeline\n",
    "\n",
    "\n",
    "##############################################################################################\n",
    "# MLPClassifier - 0.8520\n",
    "\n",
    "X_train_mlpc = X_train.copy()\n",
    "y_train_mlpc = y_train.copy()\n",
    "X_valid_mlpc = X_valid.copy()\n",
    "y_valid_mlpc = y_valid.copy()\n",
    "\n",
    "parameters_mlpc = {\n",
    "    'activation': ['logistic'],\n",
    "    'solver': ['adam'],\n",
    "    'max_iter': [50, 100, 150],\n",
    "    'alpha': [0.0001, 0.0005],\n",
    "    'learning_rate': ['constant'],\n",
    "    'hidden_layer_sizes': [100, 150, 200],\n",
    "    'random_state': [57]\n",
    "}\n",
    "clf_mlpc = MLPClassifier()\n",
    "mlpc_grid = GridSearchCV(clf_mlpc, parameters_mlpc, cv=5, scoring='roc_auc', n_jobs=-1, verbose=3)\n",
    "mlpc_grid.fit(X_train_mlpc, y_train_mlpc)\n",
    "##############################################################################################\n",
    "\n",
    "\n",
    "##############################################################################################\n",
    "# GaussianNB - 0.8294\n",
    "\n",
    "clf_gnb = GaussianNB()\n",
    "clf_gnb.fit(X_train, y_train)\n",
    "##############################################################################################\n",
    "\n",
    "\n",
    "##############################################################################################\n",
    "# GradientBoostingClassifier - 0.8519\n",
    "\n",
    "pipe_gbc = Pipeline(steps=[\n",
    "        ('select', SelectFromModel(estimator=GradientBoostingClassifier(loss='exponential', \n",
    "                                                                        criterion='friedman_mse', \n",
    "                                                                        random_state=57))),\n",
    "        ('clf', GradientBoostingClassifier(loss='exponential', \n",
    "                                           criterion='friedman_mse', \n",
    "                                          random_state=57))\n",
    "])\n",
    "\n",
    "parameters_gbc = {\n",
    "        'clf__learning_rate': [0.05],\n",
    "        'clf__n_estimators': [200, 300, 400],\n",
    "        'clf__subsample': [1, 2, 3],\n",
    "        'clf__min_samples_leaf': [2, 3],\n",
    "        'clf__max_depth': [1, 2],\n",
    "        'clf__max_features': [None],\n",
    "        'clf__random_state': [57]\n",
    "        }\n",
    "\n",
    "grid_gbc = GridSearchCV(pipe_gbc, parameters_gbc, cv=5, scoring='roc_auc', n_jobs=-1, refit=True, verbose=1)\n",
    "grid_gbc.fit(X_train, y_train)\n",
    "##############################################################################################\n",
    "\n",
    "\n",
    "##############################################################################################\n",
    "# LogisticRegression - 0.8491\n",
    "\n",
    "pipe_lr = Pipeline(steps=[\n",
    "        ('select', SelectFromModel(estimator=LogisticRegression(solver='saga', random_state=57))),\n",
    "        ('clf', LogisticRegression(solver='saga', random_state=57))\n",
    "])\n",
    "\n",
    "parameters_lr= {\n",
    "    'clf__penalty': ['l1'],\n",
    "    'clf__C': [20],\n",
    "    'clf__class_weight': [None],\n",
    "    'clf__max_iter': [50000],\n",
    "    'clf__random_state': [57],\n",
    "    'clf__solver': ['saga']\n",
    "}\n",
    "\n",
    "grid_lr = GridSearchCV(pipe_lr, parameters_lr, cv=5, scoring='roc_auc', n_jobs=-1, verbose=3)\n",
    "grid_lr.fit(X_train, y_train)\n",
    "##############################################################################################\n",
    "\n",
    "\n",
    "##############################################################################################\n",
    "# RandomForestClassifier - 0.84906\n",
    "# Предсказание класса через лучшие параметры параметры 0.8543737850597055\n",
    "# Предсказание класса через лучшие параметры параметры 0.8543737850597057\n",
    "pipe_rfc = Pipeline(steps=[\n",
    "        ('select', SelectFromModel(estimator=RandomForestClassifier(criterion='entropy'), threshold='mean')),\n",
    "        ('clf', RandomForestClassifier(criterion='entropy'))\n",
    "])\n",
    "\n",
    "parameters_rfc = {\n",
    "    'clf__n_estimators': [200, 500, 1000],\n",
    "    'clf__criterion': ['entropy'],\n",
    "    'clf__min_samples_leaf': [1],\n",
    "    'clf__max_features': ['sqrt'],\n",
    "    'clf__max_samples': [80]\n",
    "}\n",
    "\n",
    "grid_rfc = GridSearchCV(pipe_rfc, parameters_rfc, cv=5, scoring='roc_auc', n_jobs=-1, verbose=3)\n",
    "grid_rfc.fit(X_train, y_train)\n",
    "##############################################################################################\n",
    "\n",
    "\n",
    "##############################################################################################\n",
    "estimators = [\n",
    "              ('grid_rfc', grid_rfc.best_estimator_),\n",
    "              ('grid_gbc', grid_gbc.best_estimator_),\n",
    "              ('clf_gnb', clf_gnb),\n",
    "              ('grid_lr', grid_lr.best_estimator_),\n",
    "              ('mlpc_grid', mlpc_grid.best_estimator_)\n",
    "]\n",
    "\n",
    "sc_clf = StackingClassifier(estimators=estimators, final_estimator=LogisticRegression(random_state=57), cv=5)\n",
    "\n",
    "# Started parameters - lbfgs\n",
    "# 0.8542 - liblinear\n",
    "# parameters_sc_lr = {\n",
    "#     'final_estimator__penalty': ['l2'],\n",
    "#     'final_estimator__solver': ['newton-cg', 'lbfgs', 'liblinear', 'sag', 'saga'],\n",
    "#     'final_estimator__class_weight': [None],\n",
    "#     'final_estimator__C': [0.01, 0.05, 0.1, 0.5, 1, 5, 10, 15, 20],\n",
    "#     'final_estimator__max_iter': [10000],\n",
    "#     'stack_method': ['predict_proba']\n",
    "# }\n",
    "\n",
    "parameters_sc_lr = {\n",
    "    'final_estimator__penalty': ['l2'],\n",
    "    'final_estimator__solver': ['lbfgs'],\n",
    "    'final_estimator__class_weight': ['balanced'],\n",
    "    'final_estimator__C': [0.01, 0.1, 1, 10, 20],\n",
    "    'final_estimator__max_iter': [50000],\n",
    "    'final_estimator__random_state': [57],\n",
    "    'stack_method': ['predict_proba']\n",
    "}\n",
    "\n",
    "grid_sc_sklearn_logreg_clf = GridSearchCV(sc_clf, parameters_sc_lr, cv=5, scoring='roc_auc', n_jobs=-1, verbose=3)\n",
    "grid_sc_sklearn_logreg_clf.fit(X_train, y_train)\n",
    "print(\"-\"*70)\n",
    "print('Sklearn - best estimator LogisticRegression: ', grid_sc_sklearn_logreg_clf.best_estimator_)\n",
    "print(\"Предсказание класса через лучшие параметры параметры\", \n",
    "      roc_auc_score(y_valid, grid_sc_sklearn_logreg_clf.best_estimator_.predict_proba(X_valid)[:, 1]))\n",
    "##############################################################################################\n",
    "\n",
    "\n",
    "##############################################################################################\n",
    "estimators = [\n",
    "              ('grid_rfc', grid_rfc.best_estimator_),\n",
    "              ('grid_gbc', grid_gbc.best_estimator_),\n",
    "              ('clf_gnb', clf_gnb),\n",
    "              ('grid_lr', grid_lr.best_estimator_),\n",
    "              ('mlpc_grid', mlpc_grid.best_estimator_)\n",
    "]\n",
    "\n",
    "sc_clf = StackingClassifier(estimators=estimators, final_estimator=MLPClassifier(), cv=5)\n",
    "\n",
    "# parameters_mlpc = {\n",
    "#     'activation': ['identity', 'logistic', 'tanh', 'relu'],\n",
    "#     'solver': ['lbfgs', 'sgd', 'adam'],\n",
    "#     'max_iter': [50, 100, 150],\n",
    "#     'alpha': [0.0001, 0.0005],\n",
    "#     'learning_rate': ['constant', 'invscaling', 'adaptive'],\n",
    "#     'hidden_layer_sizes': [100, 150, 200],\n",
    "#     'random_state': [57]\n",
    "# }\n",
    "\n",
    "parameters_sc_lr = {\n",
    "    'final_estimator__activation': ['relu'],\n",
    "    'final_estimator__solver': ['adam'],\n",
    "    'max_iter': [1, 10, 50, 100, 150, 200, 300],\n",
    "    'final_estimator__learning_rate': ['constant'],\n",
    "    'final_estimator__random_state': [57],\n",
    "    'stack_method': ['predict_proba']\n",
    "}\n",
    "\n",
    "grid_sc_sklearn_mlpc_clf = GridSearchCV(sc_clf, parameters_sc_lr, cv=5, scoring='roc_auc', n_jobs=-1, verbose=3)\n",
    "grid_sc_sklearn_mlpc_clf.fit(X_train, y_train)\n",
    "print(\"-\"*70)\n",
    "print('Sklearn - best estimator MLPClassifier: ', grid_sc_sklearn_mlpc_clf.best_estimator_)\n",
    "print(\"Предсказание класса через лучшие параметры параметры\", \n",
    "      roc_auc_score(y_valid, grid_sc_sklearn_mlpc_clf.best_estimator_.predict_proba(X_valid)[:, 1]))\n",
    "##############################################################################################"
   ]
  },
  {
   "cell_type": "code",
   "execution_count": 25,
   "metadata": {
    "scrolled": true
   },
   "outputs": [
    {
     "name": "stdout",
     "output_type": "stream",
     "text": [
      "Fitting 5 folds for each of 20 candidates, totalling 100 fits\n"
     ]
    },
    {
     "name": "stderr",
     "output_type": "stream",
     "text": [
      "[Parallel(n_jobs=-1)]: Using backend LokyBackend with 12 concurrent workers.\n",
      "[Parallel(n_jobs=-1)]: Done   8 tasks      | elapsed:   45.9s\n",
      "[Parallel(n_jobs=-1)]: Done 100 out of 100 | elapsed:  6.8min finished\n",
      "C:\\Users\\user\\anaconda3\\lib\\site-packages\\sklearn\\linear_model\\_sag.py:330: ConvergenceWarning: The max_iter was reached which means the coef_ did not converge\n",
      "  \"the coef_ did not converge\", ConvergenceWarning)\n",
      "C:\\Users\\user\\anaconda3\\lib\\site-packages\\sklearn\\linear_model\\_sag.py:330: ConvergenceWarning: The max_iter was reached which means the coef_ did not converge\n",
      "  \"the coef_ did not converge\", ConvergenceWarning)\n",
      "C:\\Users\\user\\anaconda3\\lib\\site-packages\\sklearn\\linear_model\\_sag.py:330: ConvergenceWarning: The max_iter was reached which means the coef_ did not converge\n",
      "  \"the coef_ did not converge\", ConvergenceWarning)\n",
      "C:\\Users\\user\\anaconda3\\lib\\site-packages\\sklearn\\linear_model\\_sag.py:330: ConvergenceWarning: The max_iter was reached which means the coef_ did not converge\n",
      "  \"the coef_ did not converge\", ConvergenceWarning)\n",
      "C:\\Users\\user\\anaconda3\\lib\\site-packages\\sklearn\\linear_model\\_sag.py:330: ConvergenceWarning: The max_iter was reached which means the coef_ did not converge\n",
      "  \"the coef_ did not converge\", ConvergenceWarning)\n",
      "C:\\Users\\user\\anaconda3\\lib\\site-packages\\sklearn\\linear_model\\_sag.py:330: ConvergenceWarning: The max_iter was reached which means the coef_ did not converge\n",
      "  \"the coef_ did not converge\", ConvergenceWarning)\n"
     ]
    },
    {
     "name": "stdout",
     "output_type": "stream",
     "text": [
      "----------------------------------------------------------------------\n",
      "Sklearn - best estimator MLPClassifier:  StackingClassifier(cv=5,\n",
      "                   estimators=[('grid_rfc',\n",
      "                                Pipeline(memory=None,\n",
      "                                         steps=[('select',\n",
      "                                                 SelectFromModel(estimator=RandomForestClassifier(bootstrap=True,\n",
      "                                                                                                  ccp_alpha=0.0,\n",
      "                                                                                                  class_weight=None,\n",
      "                                                                                                  criterion='entropy',\n",
      "                                                                                                  max_depth=None,\n",
      "                                                                                                  max_features='auto',\n",
      "                                                                                                  max_leaf_nodes=None,\n",
      "                                                                                                  max_samples=None,\n",
      "                                                                                                  min_impurity_decrease=0.0,\n",
      "                                                                                                  min_impurity_split=None,\n",
      "                                                                                                  min_samples_leaf=1,\n",
      "                                                                                                  min_sam...\n",
      "                                                 epsilon=1e-08,\n",
      "                                                 hidden_layer_sizes=200,\n",
      "                                                 learning_rate='constant',\n",
      "                                                 learning_rate_init=0.001,\n",
      "                                                 max_fun=15000, max_iter=500,\n",
      "                                                 momentum=0.9,\n",
      "                                                 n_iter_no_change=10,\n",
      "                                                 nesterovs_momentum=True,\n",
      "                                                 power_t=0.5, random_state=57,\n",
      "                                                 shuffle=True, solver='adam',\n",
      "                                                 tol=0.0001,\n",
      "                                                 validation_fraction=0.1,\n",
      "                                                 verbose=False,\n",
      "                                                 warm_start=False),\n",
      "                   n_jobs=None, passthrough=False, stack_method='predict_proba',\n",
      "                   verbose=0)\n",
      "Предсказание класса через лучшие параметры параметры 0.85520688697584\n"
     ]
    }
   ],
   "source": [
    "##############################################################################################\n",
    "estimators = [\n",
    "              ('grid_rfc', grid_rfc.best_estimator_),\n",
    "              ('grid_gbc', grid_gbc.best_estimator_),\n",
    "              ('clf_gnb', clf_gnb),\n",
    "              ('grid_lr', grid_lr.best_estimator_),\n",
    "              ('mlpc_grid', mlpc_grid.best_estimator_)\n",
    "]\n",
    "\n",
    "sc_clf = StackingClassifier(estimators=estimators, final_estimator=MLPClassifier(), cv=5)\n",
    "\n",
    "# parameters_mlpc = {\n",
    "#     'activation': ['identity', 'logistic', 'tanh', 'relu'],\n",
    "#     'solver': ['lbfgs', 'sgd', 'adam'],\n",
    "#     'max_iter': [50, 100, 150],\n",
    "#     'alpha': [0.0001, 0.0005],\n",
    "#     'learning_rate': ['constant', 'invscaling', 'adaptive'],\n",
    "#     'hidden_layer_sizes': [100, 150, 200],\n",
    "#     'random_state': [57]\n",
    "# }\n",
    "\n",
    "parameters_sc_lr = {\n",
    "    'final_estimator__activation': ['relu'],\n",
    "    'final_estimator__solver': ['adam'],\n",
    "    'final_estimator__max_iter': [150, 200, 300, 500],\n",
    "    'final_estimator__hidden_layer_sizes': [100, 150, 200, 300, 500],\n",
    "    'final_estimator__learning_rate': ['constant'],\n",
    "    'final_estimator__random_state': [57],\n",
    "    'stack_method': ['predict_proba']\n",
    "}\n",
    "\n",
    "grid_sc_sklearn_mlpc_clf = GridSearchCV(sc_clf, parameters_sc_lr, cv=5, scoring='roc_auc', n_jobs=-1, verbose=3)\n",
    "grid_sc_sklearn_mlpc_clf.fit(X_train, y_train)\n",
    "print(\"-\"*70)\n",
    "print('Sklearn - best estimator MLPClassifier: ', grid_sc_sklearn_mlpc_clf.best_estimator_)\n",
    "print(\"Предсказание класса через лучшие параметры параметры\", \n",
    "      roc_auc_score(y_valid, grid_sc_sklearn_mlpc_clf.best_estimator_.predict_proba(X_valid)[:, 1]))\n",
    "##############################################################################################"
   ]
  },
  {
   "cell_type": "code",
   "execution_count": 24,
   "metadata": {
    "scrolled": true
   },
   "outputs": [
    {
     "data": {
      "text/plain": [
       "MLPClassifier(activation='relu', alpha=0.0001, batch_size='auto', beta_1=0.9,\n",
       "              beta_2=0.999, early_stopping=False, epsilon=1e-08,\n",
       "              hidden_layer_sizes=100, learning_rate='constant',\n",
       "              learning_rate_init=0.001, max_fun=15000, max_iter=200,\n",
       "              momentum=0.9, n_iter_no_change=10, nesterovs_momentum=True,\n",
       "              power_t=0.5, random_state=57, shuffle=True, solver='adam',\n",
       "              tol=0.0001, validation_fraction=0.1, verbose=False,\n",
       "              warm_start=False)"
      ]
     },
     "execution_count": 24,
     "metadata": {},
     "output_type": "execute_result"
    }
   ],
   "source": [
    "grid_sc_sklearn_clf.best_estimator_.final_estimator_"
   ]
  },
  {
   "cell_type": "code",
   "execution_count": null,
   "metadata": {},
   "outputs": [],
   "source": []
  },
  {
   "cell_type": "code",
   "execution_count": null,
   "metadata": {
    "colab": {
     "base_uri": "https://localhost:8080/"
    },
    "executionInfo": {
     "elapsed": 550277,
     "status": "ok",
     "timestamp": 1635273933035,
     "user": {
      "displayName": "Ярослав Янин",
      "photoUrl": "https://lh3.googleusercontent.com/a/default-user=s64",
      "userId": "06336103527584088219"
     },
     "user_tz": -180
    },
    "id": "7a4dMEtMtH9g",
    "outputId": "e57df1cf-fd68-409c-9514-4019d202075a",
    "scrolled": true
   },
   "outputs": [],
   "source": [
    "parameters_sc_lr = {\n",
    "    'final_estimator__penalty': ['l2'],\n",
    "    'final_estimator__solver': ['lbfgs'],\n",
    "    'final_estimator__class_weight': ['balanced'],\n",
    "    'final_estimator__C': [10, 20, 30, 50],\n",
    "    'final_estimator__max_iter': [50000],\n",
    "    'final_estimator__random_state': [57],\n",
    "    'stack_method': ['predict_proba']\n",
    "}\n",
    "\n",
    "grid_sc_sklearn_clf = GridSearchCV(sc_clf, parameters_sc_lr, cv=5, scoring='roc_auc', n_jobs=-1, verbose=3)\n",
    "grid_sc_sklearn_clf.fit(X_train, y_train)\n",
    "\n",
    "print('Sklearn - best estimator: ', grid_sc_sklearn_clf.best_estimator_)\n",
    "print(\"Предсказание класса через лучшие параметры параметры\", \n",
    "      roc_auc_score(y_valid, grid_sc_sklearn_clf.best_estimator_.predict_proba(X_valid)[:, 1]))"
   ]
  },
  {
   "cell_type": "code",
   "execution_count": null,
   "metadata": {
    "colab": {
     "base_uri": "https://localhost:8080/"
    },
    "executionInfo": {
     "elapsed": 680024,
     "status": "ok",
     "timestamp": 1635274613047,
     "user": {
      "displayName": "Ярослав Янин",
      "photoUrl": "https://lh3.googleusercontent.com/a/default-user=s64",
      "userId": "06336103527584088219"
     },
     "user_tz": -180
    },
    "id": "4oTL-0OgtmMS",
    "outputId": "0262dadb-a6e4-4911-b4a6-48febab7cfa1",
    "scrolled": true
   },
   "outputs": [],
   "source": [
    "parameters_sc_lr = {\n",
    "    'final_estimator__penalty': ['l1'],\n",
    "    'final_estimator__solver': ['liblinear'],\n",
    "    'final_estimator__class_weight': ['balanced'],\n",
    "    'final_estimator__C': [0.01, 0.1, 1, 10, 20],\n",
    "    'final_estimator__max_iter': [50000],\n",
    "    'final_estimator__random_state': [57],\n",
    "    'stack_method': ['predict_proba']\n",
    "}\n",
    "\n",
    "grid_sc_sklearn_clf = GridSearchCV(sc_clf, parameters_sc_lr, cv=5, scoring='roc_auc', n_jobs=-1, verbose=3)\n",
    "grid_sc_sklearn_clf.fit(X_train, y_train)\n",
    "\n",
    "print('Sklearn - best estimator: ', grid_sc_sklearn_clf.best_estimator_)\n",
    "print(\"Предсказание класса через лучшие параметры параметры\", \n",
    "      roc_auc_score(y_valid, grid_sc_sklearn_clf.best_estimator_.predict_proba(X_valid)[:, 1]))"
   ]
  },
  {
   "cell_type": "code",
   "execution_count": null,
   "metadata": {
    "id": "cIktYICLkfBV"
   },
   "outputs": [],
   "source": [
    "from xgboost import XGBClassifier\n",
    "from catboost import CatBoostClassifier\n",
    "import lightgbm as lgb\n",
    "from sklearn.ensemble import StackingClassifier\n",
    "from sklearn.model_selection import GridSearchCV, cross_val_score\n",
    "from sklearn.metrics import roc_auc_score\n",
    "\n",
    "\n",
    "#############################################################################################\n",
    "params_xgb = {\n",
    "        'min_child_weight': [5],\n",
    "        'gamma': [5],\n",
    "        'subsample': [0.1],\n",
    "        'colsample_bytree': [0.5, 0.55, 0.6, ],\n",
    "        'max_depth': [2]\n",
    "        }\n",
    "\n",
    "clf_xgb = XGBClassifier()\n",
    "xgb_grid = GridSearchCV(clf_xgb, params_xgb, cv=5, verbose=4, scoring='roc_auc', refit=True, n_jobs=-1)\n",
    "xgb_grid.fit(X_train, y_train)\n",
    "#############################################################################################\n",
    "\n",
    "\n",
    "#############################################################################################\n",
    "parametrs_lgb = {\n",
    "    'num_leaves': [6],\n",
    "   'max_depth': [4],\n",
    "   'class_weight': ['balanced'], \n",
    "   'random_state': [100],\n",
    "   'learning_rate': [0.05],\n",
    "   'n_estimators': [110]\n",
    "}\n",
    "\n",
    "clf_lgb = lgb.LGBMClassifier()\n",
    "lgb_grid = GridSearchCV(clf_lgb, parametrs_lgb, cv=5, verbose=4, scoring='roc_auc', refit=True, n_jobs=-1)\n",
    "lgb_grid.fit(X_train, y_train)\n",
    "#############################################################################################\n",
    "\n",
    "\n",
    "#############################################################################################\n",
    "parameters_lr= {\n",
    "    'penalty': ['elasticnet', 'l1', 'l2', 'none'],\n",
    "    'C': [0.01, 0.1, 1, 10, 20, 50],\n",
    "    'class_weight': [None],\n",
    "    'max_iter': [1000],\n",
    "    'solver': ['saga']\n",
    "}\n",
    "clf_lr = LogisticRegression()\n",
    "lr_grid = GridSearchCV(clf_lr, parameters_lr, cv=5, scoring='roc_auc', n_jobs=-1, verbose=3)\n",
    "lr_grid.fit(X_train, y_train)\n",
    "#############################################################################################\n",
    "\n",
    "\n",
    "#############################################################################################\n",
    "cbc_clf = CatBoostClassifier(iterations=400,\n",
    "                       depth=4,\n",
    "                       learning_rate=0.05,\n",
    "                       loss_function='Logloss',\n",
    "                       verbose=False,\n",
    "                       random_seed = 4,\n",
    "                       l2_leaf_reg = 40,\n",
    "                       eval_metric='AUC'\n",
    "                       )\n",
    "\n",
    "parametrs_cbc = {\n",
    "    'iterations': [160],\n",
    "    \"learning_rate\": [0.05],\n",
    "    'min_data_in_leaf': [6],\n",
    "    'depth': [5],\n",
    "    'l2_leaf_reg': [0]    \n",
    "}\n",
    "\n",
    "cbc_grid = GridSearchCV(cbc_clf, parametrs_cbc, cv=5, verbose=4, scoring='roc_auc', refit=True, n_jobs=-1)\n",
    "cbc_grid.fit(X_train, y_train)\n",
    "#############################################################################################\n",
    "\n",
    "estimators = [\n",
    "     ('xgb', xgb_grid.best_estimator_),\n",
    "     ('lgb', lgb_grid.best_estimator_),\n",
    "     ('cbc', cbc_grid.best_estimator_),\n",
    "    ('lr', lr_grid.best_estimator_)\n",
    "]\n",
    "\n",
    "sc_clf = StackingClassifier(estimators=estimators, final_estimator=LogisticRegression(), cv=5)\n",
    "parameters_sc_lr = {\n",
    "    'final_estimator__C': [10, 1, 0.1],\n",
    "    'final_estimator__penalty': ['elasticnet'],\n",
    "    'final_estimator__solver': ['saga'],\n",
    "    'final_estimator__l1_ratio': [0.5, 0.9],\n",
    "    'stack_method': ['predict_proba']\n",
    "}\n",
    "gs_sc_estim_clf = GridSearchCV(sc_clf, parameters_sc_lr, cv=5, scoring='roc_auc', n_jobs=-1, verbose=3)\n",
    "gs_sc_estim_clf.fit(X_train, y_train)\n",
    "print('StackingClassifier - best estimator: ', gs_sc_estim_clf.best_estimator_)\n",
    "print(\"Предсказание вероятности \", roc_auc_score(y_valid, gs_sc_estim_clf.best_estimator_.predict_proba(X_valid)[:, 1]))"
   ]
  },
  {
   "cell_type": "code",
   "execution_count": null,
   "metadata": {
    "id": "X4EDzHgrm7Jp"
   },
   "outputs": [],
   "source": [
    "from sklearn.ensemble import VotingClassifier\n",
    "vk_clf = VotingClassifier(\n",
    "    estimators= [\n",
    "        ('grid_sc_sklearn_clf', grid_sc_sklearn_clf.best_estimator_),\n",
    "        ('grid_sc_estim_clf', gs_sc_estim_clf.best_estimator_),\n",
    "        ('xgb', xgb_grid.best_estimator_),\n",
    "        ('lgb', lgb_grid.best_estimator_),\n",
    "        ('cbc', cbc_grid.best_estimator_)\n",
    "\n",
    "    ],\n",
    "    voting='soft')\n",
    "\n",
    "parameters_vk = {\n",
    "    'n_jobs': [-1]\n",
    "}\n",
    "gs_vk_clf = GridSearchCV(estimator=vk_clf, param_grid=parameters_vk, cv=5, scoring='roc_auc', n_jobs=-1, verbose=3)\n",
    "gs_vk_clf.fit(X_train, y_train)\n",
    "\n",
    "\n",
    "# submission = pd.DataFrame(gs_vk_clf.best_estimator_.predict_proba(X_predict)[:, 1], columns=[\"Churn\"])\n",
    "# submission.to_csv(PATH.format('my_submission_voiting.csv'), columns=[\"Churn\"])\n",
    "print('VotingClassifier - best estimator: ', gs_vk_clf.best_estimator_)\n",
    "print('VotingClassifier - best params: ', gs_vk_clf.best_params_)\n",
    "print(\"Предсказание вероятности \", roc_auc_score(y_valid, gs_vk_clf.best_estimator_.predict_proba(X_valid)[:, 1]))"
   ]
  },
  {
   "cell_type": "code",
   "execution_count": null,
   "metadata": {},
   "outputs": [],
   "source": []
  },
  {
   "cell_type": "markdown",
   "metadata": {
    "id": "Na9pdFc7nav_"
   },
   "source": [
    "### Ищем лучшее количество фичей с помощью SelectKBest для точного предсказания LogisticRegression и GradientBoostingClassifier"
   ]
  },
  {
   "cell_type": "code",
   "execution_count": null,
   "metadata": {
    "colab": {
     "base_uri": "https://localhost:8080/"
    },
    "executionInfo": {
     "elapsed": 1914198,
     "status": "ok",
     "timestamp": 1635240051619,
     "user": {
      "displayName": "Ярослав Янин",
      "photoUrl": "https://lh3.googleusercontent.com/a/default-user=s64",
      "userId": "06336103527584088219"
     },
     "user_tz": -180
    },
    "id": "8OE3gdWZNI7g",
    "outputId": "aa43f1b9-35d7-4829-f8d5-01423b0cf53a"
   },
   "outputs": [],
   "source": [
    "from sklearn.linear_model import LogisticRegression\n",
    "from sklearn.ensemble import GradientBoostingClassifier\n",
    "from sklearn.model_selection import GridSearchCV, cross_val_score\n",
    "from sklearn.metrics import roc_auc_score\n",
    "\n",
    "\n",
    "def transformer_selecter(num_cols, data_train, value_train, data_valid):\n",
    "    X_train_tr_sl = data_train.copy()\n",
    "    y_train_tr_sl = value_train.copy()\n",
    "    X_valid_tr_sl = data_valid.copy()\n",
    "    selecter = SelectKBest(f_classif, k=num_cols).fit(X_train_tr_sl, y_train_tr_sl)\n",
    "    return selecter.transform(X_train_tr_sl), selecter.transform(X_valid_tr_sl)\n",
    "    \n",
    "    \n",
    "def learn_logreg(data_train, value_train, data_valid, value_valid):\n",
    "    \"\"\"\n",
    "    SelectFromModel - 0.8535 - 62\n",
    "    \"\"\"\n",
    "\n",
    "    X_train_lr = data_train.copy()\n",
    "    y_train_lr = value_train.copy()\n",
    "    X_valid_lr = data_valid.copy()\n",
    "    y_valid_lr = value_valid.copy()\n",
    "    \n",
    "    selector = SelectFromModel(estimator=LogisticRegression(solver='saga', random_state=57)).fit(X_train_lr, y_train_lr)\n",
    "    X_train_lr = selector.transform(X_train_lr)\n",
    "    X_valid_lr = selector.transform(X_valid_lr)\n",
    "\n",
    "    parameters_lr= {\n",
    "        'penalty': ['l1', 'l2', 'elasticnet'],\n",
    "        'C': [0.01, 0.05, 0.1, 0.5, 1, 5, 10, 15, 20],\n",
    "        'class_weight': ['balanced', None],\n",
    "        'max_iter': [10000],\n",
    "        'random_state': [57],\n",
    "        'solver': ['saga']\n",
    "    }\n",
    "    clf_lr = LogisticRegression()\n",
    "    lr_grid = GridSearchCV(clf_lr, parameters_lr, cv=5, scoring='roc_auc', n_jobs=-1, verbose=1)\n",
    "    lr_grid.fit(X_train_lr, y_train_lr)\n",
    "    return roc_auc_score(y_valid_lr, lr_grid.best_estimator_.predict_proba(X_valid_lr)[:, 1])\n",
    "\n",
    "\n",
    "def learn_rfc(data_train, value_train, data_valid, value_valid):\n",
    "    \"\"\"\n",
    "    SelectFromModel - 0.8520 - 40\n",
    "    \"\"\"\n",
    "  \n",
    "    X_train_rfc = data_train.copy()\n",
    "    y_train_rfc = value_train.copy()\n",
    "    X_valid_rfc = data_valid.copy()\n",
    "    y_valid_rfc = value_valid.copy()\n",
    "\n",
    "    selector = SelectFromModel(\n",
    "        estimator=GradientBoostingClassifier(loss='exponential', criterion='friedman_mse', random_state=57)\n",
    "    ).fit(X_train_rfc, y_train_rfc)\n",
    "    X_train_rfc = selector.transform(X_train_rfc)\n",
    "    X_valid_rfc = selector.transform(X_valid_rfc)\n",
    "\n",
    "    parameters_gbc = {\n",
    "            'learning_rate': [0.05],\n",
    "            'n_estimators': [150, 200, 250, 300],\n",
    "            'max_depth': [1, 2, 5],\n",
    "            'random_state': [57]\n",
    "            }\n",
    "\n",
    "    clf_gbc = GradientBoostingClassifier()\n",
    "    gbc_grid = GridSearchCV(clf_gbc, parameters_gbc, cv=5, verbose=1, scoring='roc_auc', refit=True, n_jobs=-1)\n",
    "    gbc_grid.fit(X_train_rfc, y_train_rfc)\n",
    "    return roc_auc_score(y_valid_rfc, gbc_grid.best_estimator_.predict_proba(X_valid_rfc)[:, 1])\n",
    "\n",
    "logreg = []\n",
    "rfc = []\n",
    "num_best = [i for i in range(30, 68, 2)]\n",
    "for i in range(30, 68, 2):\n",
    "    X_train_trans, X_valid_trans = transformer_selecter(num_cols=i, data_train=X_train, \n",
    "                                                        value_train=y_train, data_valid=X_valid)\n",
    "    logreg.append(\n",
    "        learn_logreg(data_train=X_train_trans, data_valid=X_valid_trans, value_train=y_train, value_valid=y_valid)\n",
    "    )\n",
    "    rfc.append(\n",
    "        learn_rfc(data_train=X_train_trans, data_valid=X_valid_trans, value_train=y_train, value_valid=y_valid)\n",
    "    )\n"
   ]
  },
  {
   "cell_type": "code",
   "execution_count": null,
   "metadata": {
    "colab": {
     "base_uri": "https://localhost:8080/",
     "height": 1000
    },
    "executionInfo": {
     "elapsed": 11785,
     "status": "ok",
     "timestamp": 1635240063401,
     "user": {
      "displayName": "Ярослав Янин",
      "photoUrl": "https://lh3.googleusercontent.com/a/default-user=s64",
      "userId": "06336103527584088219"
     },
     "user_tz": -180
    },
    "id": "2i0MQbSeNI9y",
    "outputId": "88c7b4e6-4c04-4317-f06a-d73c8f5f0409"
   },
   "outputs": [],
   "source": [
    "import matplotlib.pyplot as plt\n",
    "\n",
    "\n",
    "print(f\"Лучшее значение метрики для GradientBoostingClassifier {'%.4f' % max(rfc)}\")\n",
    "print(f\"Достигнуто при количестве фичей {num_best[rfc.index(max(rfc))]}\")\n",
    "\n",
    "# plot figure\n",
    "plt.figure(figsize=(10, 8))\n",
    "plt.grid()\n",
    "plt.plot(num_best, rfc, 'ro')\n",
    "plt.plot(num_best, rfc, 'g--')\n",
    "plt.title(\"График зависимости метрики от используемых фич для GradientBoostingClassifier\")\n",
    "plt.xlabel('Features numbers')\n",
    "plt.ylabel('roc_auc_score')\n",
    "\n",
    "print(f\"Лучшее значение метрики для LogisticRegression {'%.4f' % max(logreg)}\")\n",
    "print(f\"Достигнуто при количестве фичей {num_best[logreg.index(max(logreg))]}\")\n",
    "\n",
    "# plot figure\n",
    "plt.figure(figsize=(10, 8))\n",
    "plt.grid()\n",
    "plt.plot(num_best, logreg, 'ro')\n",
    "plt.plot(num_best, logreg, 'g--')\n",
    "plt.title(\"График зависимости метрики от используемых фич для LogisticRegression\")\n",
    "plt.xlabel('Features numbers')\n",
    "plt.ylabel('roc_auc_score')\n",
    "plt.show()\n",
    "\n",
    "X_train.hist(figsize=(16, 30))"
   ]
  },
  {
   "cell_type": "markdown",
   "metadata": {
    "id": "jHOHw8M76_gc"
   },
   "source": [
    "#### Буду дальше использовать 48 признаков!"
   ]
  },
  {
   "cell_type": "markdown",
   "metadata": {
    "id": "589XuS1_dfKb"
   },
   "source": [
    "### Поиск лучших параметров для GradientBoostingClassifier"
   ]
  },
  {
   "cell_type": "code",
   "execution_count": null,
   "metadata": {
    "colab": {
     "base_uri": "https://localhost:8080/"
    },
    "executionInfo": {
     "elapsed": 167770,
     "status": "ok",
     "timestamp": 1635251163758,
     "user": {
      "displayName": "Ярослав Янин",
      "photoUrl": "https://lh3.googleusercontent.com/a/default-user=s64",
      "userId": "06336103527584088219"
     },
     "user_tz": -180
    },
    "id": "Z8Avlw_5NJAK",
    "outputId": "7dbb0458-e774-4008-9ed2-13f09d3dde92"
   },
   "outputs": [],
   "source": [
    "from sklearn.ensemble import GradientBoostingClassifier\n",
    "from sklearn.model_selection import GridSearchCV, cross_val_score\n",
    "from sklearn.metrics import roc_auc_score\n",
    "\n",
    "\n",
    "##############################################################################################\n",
    "# GradientBoostingClassifier\n",
    "\n",
    "X_train_gbc = X_train.copy()\n",
    "y_train_gbc = y_train.copy()\n",
    "X_valid_gbc = X_valid.copy()\n",
    "y_valid_gbc = y_valid.copy()\n",
    "\n",
    "selector = SelectFromModel(estimator=GradientBoostingClassifier(loss='exponential', criterion='friedman_mse')).fit(X_train_gbc, y_train_gbc)\n",
    "X_train_gbc = selector.transform(X_train_gbc)\n",
    "X_valid_gbc = selector.transform(X_valid_gbc)\n",
    "\n",
    "# Started parameters\n",
    "# parameters_gbc = {\n",
    "#         'learning_rate': [0.05, 0.1, 0.5, 0.9],\n",
    "#         'n_estimators': [50, 100, 150, 200, 250, 300],\n",
    "#         'subsample': [0.1, 0.5, 1, 5],\n",
    "#         'min_samples_leaf': [1, 2, 3],\n",
    "#         'max_depth': [1, 2, 3, 4, 5],\n",
    "#         'max_features': ['sqrt', 'log2', None],\n",
    "#         'random_state': [57]\n",
    "#         }\n",
    "\n",
    "parameters_gbc = {\n",
    "        'learning_rate': [0.05],\n",
    "        'n_estimators': [200, 300, 400],\n",
    "        'subsample': [1, 2, 3],\n",
    "        'min_samples_leaf': [2, 3],\n",
    "        'max_depth': [1, 2],\n",
    "        'max_features': [None],\n",
    "        'random_state': [57]\n",
    "        }\n",
    "\n",
    "clf_gbc = GradientBoostingClassifier()\n",
    "gbc_grid = GridSearchCV(clf_gbc, parameters_gbc, cv=5, verbose=4, scoring='roc_auc', refit=True, n_jobs=-1)\n",
    "gbc_grid.fit(X_train_gbc, y_train_gbc)\n",
    "\n",
    "print('GradientBoostingClassifier - best estimator: ', gbc_grid.best_estimator_)\n",
    "print(\"Предсказание класса через лучшие параметры параметры\", \n",
    "      roc_auc_score(y_valid_gbc, gbc_grid.best_estimator_.predict_proba(X_valid_gbc)[:, 1]))\n",
    "##############################################################################################"
   ]
  },
  {
   "cell_type": "markdown",
   "metadata": {
    "id": "m4prs4WpfK4k"
   },
   "source": [
    "### Поиск лучших параметров для MLPClassifier"
   ]
  },
  {
   "cell_type": "code",
   "execution_count": null,
   "metadata": {
    "colab": {
     "base_uri": "https://localhost:8080/"
    },
    "executionInfo": {
     "elapsed": 917220,
     "status": "ok",
     "timestamp": 1635253299896,
     "user": {
      "displayName": "Ярослав Янин",
      "photoUrl": "https://lh3.googleusercontent.com/a/default-user=s64",
      "userId": "06336103527584088219"
     },
     "user_tz": -180
    },
    "id": "PHjnaFvRNJCk",
    "outputId": "09118c29-70ee-48f8-95f1-19e07254be78"
   },
   "outputs": [],
   "source": [
    "from sklearn.neural_network import MLPClassifier\n",
    "from sklearn.model_selection import GridSearchCV, cross_val_score\n",
    "from sklearn.metrics import roc_auc_score\n",
    "\n",
    "\n",
    "##############################################################################################\n",
    "# MLPClassifier\n",
    "\n",
    "X_train_mlpc = X_train.copy()\n",
    "y_train_mlpc = y_train.copy()\n",
    "X_valid_mlpc = X_valid.copy()\n",
    "y_valid_mlpc = y_valid.copy()\n",
    "\n",
    "# Started parameters\n",
    "# parameters_mlpc = {\n",
    "#     'activation': ['tanh', 'logistic', 'identity', 'relu'],\n",
    "#     'solver': ['lbfgs', 'sgd', 'adam'],\n",
    "#     'max_iter': [100, 200, 500, 1000],\n",
    "#     'alpha': [0.0001, 0.0005, 0.001, 0.005, 0.01, 0.05, 0.1, 0.5, 1, 5, 10],\n",
    "#     'learning_rate': ['constant', 'invscaling', 'adaptive'],\n",
    "#     'hidden_layer_sizes': [1, 5, 10, 50, 100],\n",
    "#     'random_state': [57]\n",
    "# }\n",
    "\n",
    "parameters_mlpc = {\n",
    "    'activation': ['logistic'],\n",
    "    'solver': ['adam'],\n",
    "    'max_iter': [50, 100, 150],\n",
    "    'alpha': [0.0001, 0.0005],\n",
    "    'learning_rate': ['constant'],\n",
    "    'hidden_layer_sizes': [100, 150, 200],\n",
    "    'random_state': [57]\n",
    "}\n",
    "clf_mlpc = MLPClassifier()\n",
    "mlpc_grid = GridSearchCV(clf_mlpc, parameters_mlpc, cv=5, scoring='roc_auc', n_jobs=-1, verbose=3)\n",
    "mlpc_grid.fit(X_train_mlpc, y_train_mlpc)\n",
    "\n",
    "print('MLPClassifier - best estimator: ', mlpc_grid.best_estimator_)\n",
    "print(\"Предсказание класса через лучшие параметры параметры\", \n",
    "      roc_auc_score(y_valid_mlpc, mlpc_grid.best_estimator_.predict_proba(X_valid_mlpc)[:, 1]))\n",
    "##############################################################################################"
   ]
  },
  {
   "cell_type": "markdown",
   "metadata": {
    "id": "EqNaCRHV16OK"
   },
   "source": [
    "### Поиск лучших параметров для LogisticRegression"
   ]
  },
  {
   "cell_type": "code",
   "execution_count": null,
   "metadata": {
    "colab": {
     "base_uri": "https://localhost:8080/"
    },
    "executionInfo": {
     "elapsed": 15635,
     "status": "ok",
     "timestamp": 1635256246303,
     "user": {
      "displayName": "Ярослав Янин",
      "photoUrl": "https://lh3.googleusercontent.com/a/default-user=s64",
      "userId": "06336103527584088219"
     },
     "user_tz": -180
    },
    "id": "KRF-1Dx316kN",
    "outputId": "20bfcffc-59b3-4b2f-a28f-86128bda517c"
   },
   "outputs": [],
   "source": [
    "from sklearn.linear_model import LogisticRegression\n",
    "from sklearn.model_selection import GridSearchCV, cross_val_score\n",
    "from sklearn.metrics import roc_auc_score\n",
    "\n",
    "\n",
    "###########################################################################################################\n",
    "# LogisticRegression\n",
    "\n",
    "X_train_lr = X_train.copy()\n",
    "y_train_lr = y_train.copy()\n",
    "X_valid_lr = X_valid.copy()\n",
    "y_valid_lr = y_valid.copy()\n",
    "    \n",
    "selector = SelectFromModel(estimator=LogisticRegression(solver='saga', random_state=57)).fit(X_train_lr, y_train_lr)\n",
    "X_train_lr = selector.transform(X_train_lr)\n",
    "X_valid_lr = selector.transform(X_valid_lr)\n",
    "\n",
    "parameters_lr= {\n",
    "    'penalty': ['l1', 'l2', 'elasticnet'],\n",
    "    'C': [0.01, 0.05, 0.1, 0.5, 1, 5, 10, 15, 20],\n",
    "    'class_weight': ['balanced', None],\n",
    "    'max_iter': [10000],\n",
    "    'random_state': [57],\n",
    "    'solver': ['saga']\n",
    "}\n",
    "clf_lr = LogisticRegression()\n",
    "lr_grid = GridSearchCV(clf_lr, parameters_lr, cv=5, scoring='roc_auc', n_jobs=-1, verbose=1)\n",
    "lr_grid.fit(X_train_lr, y_train_lr)\n",
    "print(\"-\"*100)\n",
    "print('LogisticRegression - best estimator: ', lr_grid.best_estimator_)\n",
    "print(\"Предсказание класса через лучшие параметры параметры\", \n",
    "      roc_auc_score(y_valid_lr, lr_grid.best_estimator_.predict_proba(X_valid_lr)[:, 1]))\n",
    "print(\"-\"*100)\n",
    "###########################################################################################################\n",
    "\n",
    "selector = SelectFromModel(estimator=LogisticRegression(random_state=57, solver='liblinear')).fit(X_train_lr, y_train_lr)\n",
    "X_train_lr = selector.transform(X_train_lr)\n",
    "X_valid_lr = selector.transform(X_valid_lr)\n",
    "\n",
    "parameters_lr= {\n",
    "        'penalty': ['l1', 'l2'],\n",
    "        'C': [0.01, 0.05, 0.1, 0.5, 1, 5, 10, 15, 20],\n",
    "        'class_weight': ['balanced', None],\n",
    "        'max_iter': [10000],\n",
    "        'random_state': [57],\n",
    "        'solver': ['liblinear']\n",
    "}\n",
    "clf_lr = LogisticRegression()\n",
    "lr_grid = GridSearchCV(clf_lr, parameters_lr, cv=5, scoring='roc_auc', n_jobs=-1, verbose=1)\n",
    "lr_grid.fit(X_train_lr, y_train_lr)\n",
    "\n",
    "print(\"-\"*100)\n",
    "print('LogisticRegression - best estimator: ', lr_grid.best_estimator_)\n",
    "print(\"Предсказание класса через лучшие параметры параметры\", \n",
    "      roc_auc_score(y_valid_lr, lr_grid.best_estimator_.predict_proba(X_valid_lr)[:, 1]))\n",
    "print(\"-\"*100)"
   ]
  },
  {
   "cell_type": "markdown",
   "metadata": {
    "id": "XONv0qgJg605"
   },
   "source": [
    "### Поиск лучших параметров для GaussianNB"
   ]
  },
  {
   "cell_type": "code",
   "execution_count": null,
   "metadata": {
    "colab": {
     "base_uri": "https://localhost:8080/"
    },
    "executionInfo": {
     "elapsed": 348,
     "status": "ok",
     "timestamp": 1635255761278,
     "user": {
      "displayName": "Ярослав Янин",
      "photoUrl": "https://lh3.googleusercontent.com/a/default-user=s64",
      "userId": "06336103527584088219"
     },
     "user_tz": -180
    },
    "id": "-o8bzfJqNJEx",
    "outputId": "97193f26-3696-4670-fee9-c4f9624d3fe9"
   },
   "outputs": [],
   "source": [
    "from sklearn.naive_bayes import GaussianNB\n",
    "from sklearn.model_selection import GridSearchCV, cross_val_score\n",
    "from sklearn.metrics import roc_auc_score\n",
    "\n",
    "\n",
    "##############################################################################################\n",
    "# GaussianNB\n",
    "\n",
    "X_train_gnb = X_train.copy()\n",
    "y_train_gnb = y_train.copy()\n",
    "X_valid_gnb = X_valid.copy()\n",
    "y_valid_gnb = y_valid.copy()\n",
    "\n",
    "# selector = SelectFromModel(estimator=GaussianNB()).fit(X_train_gnb, y_train_gnb)\n",
    "# X_train_gnb = selector.transform(X_train_gnb)\n",
    "# X_valid_gnb = selector.transform(X_valid_gnb)\n",
    "\n",
    "clf_gnb = GaussianNB()\n",
    "clf_gnb.fit(X_train_gnb, y_train_gnb)\n",
    "\n",
    "print(\"Предсказание класса через лучшие параметры параметры\", \n",
    "      roc_auc_score(y_valid_gnb, clf_gnb.predict_proba(X_valid_gnb)[:, 1]))\n",
    "##############################################################################################"
   ]
  },
  {
   "cell_type": "markdown",
   "metadata": {
    "id": "aIpq3fSzhym0"
   },
   "source": [
    "### Поиск лучших параметров для RandomForestClassifier"
   ]
  },
  {
   "cell_type": "code",
   "execution_count": null,
   "metadata": {
    "colab": {
     "base_uri": "https://localhost:8080/"
    },
    "executionInfo": {
     "elapsed": 17620,
     "status": "ok",
     "timestamp": 1635257750387,
     "user": {
      "displayName": "Ярослав Янин",
      "photoUrl": "https://lh3.googleusercontent.com/a/default-user=s64",
      "userId": "06336103527584088219"
     },
     "user_tz": -180
    },
    "id": "fwG11f5kNJHU",
    "outputId": "a00dad93-867a-4c84-f226-60184d7899d4"
   },
   "outputs": [],
   "source": [
    "from sklearn.ensemble import RandomForestClassifier\n",
    "from sklearn.model_selection import GridSearchCV, cross_val_score\n",
    "from sklearn.metrics import roc_auc_score\n",
    "\n",
    "\n",
    "##############################################################################################\n",
    "# RandomForestClassifier\n",
    "\n",
    "X_train_rfc = X_train.copy()\n",
    "y_train_rfc = y_train.copy()\n",
    "X_valid_rfc = X_valid.copy()\n",
    "y_valid_rfc = y_valid.copy()\n",
    "\n",
    "selector = SelectFromModel(estimator=RandomForestClassifier()).fit(X_train_rfc, y_train_rfc)\n",
    "X_train_rfc = selector.transform(X_train_rfc)\n",
    "X_valid_rfc = selector.transform(X_valid_rfc)\n",
    "\n",
    "# Start parameters\n",
    "# parameters_rfc = {\n",
    "#     'n_estimators': [10, 50, 100, 150, 200],\n",
    "#     'criterion': ['gini','entropy'],\n",
    "#     'min_samples_leaf': [1, 5, 10, 15, 20],\n",
    "#     'max_features': ['sqrt', 'log2'],\n",
    "#     'bootstrap':[False],\n",
    "#     'max_samples': [5, 10, 15, 20]\n",
    "# }\n",
    "\n",
    "parameters_rfc = {\n",
    "    'n_estimators': [200, 500, 1000],\n",
    "    'criterion': ['entropy'],\n",
    "    'min_samples_leaf': [1],\n",
    "    'max_features': ['sqrt'],\n",
    "    'max_samples': [80]\n",
    "}\n",
    "\n",
    "clf_rfc = RandomForestClassifier()\n",
    "rfc_grid = GridSearchCV(clf_rfc, parameters_rfc, cv=5, scoring='roc_auc', n_jobs=-1, verbose=3)\n",
    "rfc_grid.fit(X_train_rfc, y_train_rfc)\n",
    "\n",
    "print('RandomForestClassifier - best estimator: ', rfc_grid.best_estimator_)\n",
    "print(\"Предсказание класса через лучшие параметры параметры\", \n",
    "      roc_auc_score(y_valid_rfc, rfc_grid.best_estimator_.predict_proba(X_valid_rfc)[:, 1]))\n",
    "##############################################################################################"
   ]
  },
  {
   "cell_type": "markdown",
   "metadata": {
    "id": "DmDagEbLi2KS"
   },
   "source": [
    "### Поиск лучших параметров для LogisticRegression"
   ]
  },
  {
   "cell_type": "code",
   "execution_count": null,
   "metadata": {
    "id": "cLtKBbG8NJJx"
   },
   "outputs": [],
   "source": [
    "from sklearn.linear_model import LogisticRegression\n",
    "from sklearn.model_selection import GridSearchCV, cross_val_score\n",
    "from sklearn.metrics import roc_auc_score\n",
    "\n",
    "\n",
    "##############################################################################################\n",
    "# LogisticRegression\n",
    "\n",
    "X_train_lr = data_train.copy()\n",
    "y_train_lr = value_train.copy()\n",
    "X_valid_lr = data_valid.copy()\n",
    "y_valid_lr = value_valid.copy()\n",
    "    \n",
    "selector = SelectFromModel(estimator=LogisticRegression(solver='saga', random_state=57)).fit(X_train_lr, y_train_lr)\n",
    "X_train_lr = selector.transform(X_train_lr)\n",
    "X_valid_lr = selector.transform(X_valid_lr)\n",
    "\n",
    "parameters_lr= {\n",
    "    'penalty': ['l1', 'l2', 'elasticnet'],\n",
    "    'C': [0.01, 0.05, 0.1, 0.5, 1, 5, 10, 15, 20],\n",
    "    'class_weight': ['balanced', None],\n",
    "    'max_iter': [10000],\n",
    "    'solver': ['saga']\n",
    "}\n",
    "clf_lr = LogisticRegression()\n",
    "lr_grid = GridSearchCV(clf_lr, parameters_lr, cv=5, scoring='roc_auc', n_jobs=-1, verbose=1)\n",
    "lr_grid.fit(X_train_lr, y_train_lr)\n",
    "\n",
    "print('LogisticRegression - best estimator: ', lr_grid.best_estimator_)\n",
    "print(\"Предсказание класса через лучшие параметры параметры\", \n",
    "      roc_auc_score(y_valid_lr, lr_grid.best_estimator_.predict_proba(X_valid_lr)[:, 1]))\n",
    "##############################################################################################"
   ]
  },
  {
   "cell_type": "markdown",
   "metadata": {
    "id": "_uyKbsrckzd3"
   },
   "source": [
    "### Поиск лучших параметров для XGBClassifier"
   ]
  },
  {
   "cell_type": "code",
   "execution_count": 16,
   "metadata": {
    "id": "A6MGC-9djGVr"
   },
   "outputs": [
    {
     "name": "stdout",
     "output_type": "stream",
     "text": [
      "Fitting 5 folds for each of 3 candidates, totalling 15 fits\n"
     ]
    },
    {
     "name": "stderr",
     "output_type": "stream",
     "text": [
      "[Parallel(n_jobs=-1)]: Using backend LokyBackend with 12 concurrent workers.\n",
      "[Parallel(n_jobs=-1)]: Done   4 out of  15 | elapsed:    0.5s remaining:    1.5s\n",
      "[Parallel(n_jobs=-1)]: Done   8 out of  15 | elapsed:    0.5s remaining:    0.4s\n",
      "[Parallel(n_jobs=-1)]: Done  12 out of  15 | elapsed:    0.6s remaining:    0.1s\n",
      "[Parallel(n_jobs=-1)]: Done  15 out of  15 | elapsed:    0.9s finished\n"
     ]
    },
    {
     "name": "stdout",
     "output_type": "stream",
     "text": [
      "XGBClassifier - best estimator:  XGBClassifier(base_score=0.5, booster='gbtree', colsample_bylevel=1,\n",
      "              colsample_bynode=1, colsample_bytree=0.5, eval_metric='auc',\n",
      "              gamma=5, learning_rate=0.1, max_delta_step=0, max_depth=1,\n",
      "              min_child_weight=4, missing=None, n_estimators=500, n_jobs=1,\n",
      "              nthread=None, objective='binary:logistic', random_state=57,\n",
      "              reg_alpha=0, reg_lambda=1, scale_pos_weight=1, seed=57,\n",
      "              silent=None, subsample=0.5, verbosity=1)\n",
      "Предсказание класса через лучшие параметры параметры 0.8543205591039524\n"
     ]
    }
   ],
   "source": [
    "from xgboost import XGBClassifier\n",
    "from sklearn.model_selection import GridSearchCV, cross_val_score\n",
    "from sklearn.metrics import roc_auc_score\n",
    "\n",
    "\n",
    "#############################################################################################\n",
    "# XGBClassifier\n",
    "\n",
    "X_train_xgbc = X_train.copy()\n",
    "y_train_xgbc = y_train.copy()\n",
    "X_valid_xgbc = X_valid.copy()\n",
    "y_valid_xgbc = y_valid.copy()\n",
    "    \n",
    "selector = SelectFromModel(estimator=XGBClassifier(eval_metric='auc')).fit(X_train_xgbc, y_train_xgbc)\n",
    "X_train_xgbc = selector.transform(X_train_xgbc)\n",
    "X_valid_xgbc = selector.transform(X_valid_xgbc)\n",
    "\n",
    "# params_xgbc = {\n",
    "#         'min_child_weight': [1, 2, 3, 4, 5, 10],\n",
    "#         'gamma': [0.01, 0.05, 0.1, 0.5, 1, 5, 10],\n",
    "#         'subsample': [0.05, 0.1, 0.5, 0.9],\n",
    "#         'colsample_bytree': [0.1, 0.4, 0.5, 0.6, 0.9],\n",
    "#         'max_depth': [1, 2, 3, 4, 5, 10],\n",
    "#         'n_estimators': [10, 50, 100, 200, 500],\n",
    "#         'eval_metric': ['auc'],\n",
    "#         'seed': [57]\n",
    "#         }\n",
    "\n",
    "params_xgbc = {\n",
    "        'min_child_weight': [4],\n",
    "        'gamma': [5],\n",
    "        'subsample': [0.5],\n",
    "        'colsample_bytree': [0.5],\n",
    "        'max_depth': [1],\n",
    "        'n_estimators': [500],\n",
    "        'eval_metric': ['auc'],\n",
    "        'random_state': [57],\n",
    "        'seed': [57]\n",
    "        }\n",
    "\n",
    "clf_xgbc = XGBClassifier()\n",
    "xgbc_grid = GridSearchCV(clf_xgbc, params_xgbc, cv=5, verbose=4, scoring='roc_auc', refit=True, n_jobs=-1)\n",
    "xgbc_grid.fit(X_train_xgbc, y_train_xgbc)\n",
    "\n",
    "print('XGBClassifier - best estimator: ', xgbc_grid.best_estimator_)\n",
    "print(\"Предсказание класса через лучшие параметры параметры\", \n",
    "      roc_auc_score(y_valid_xgbc, xgbc_grid.best_estimator_.predict_proba(X_valid_xgbc)[:, 1]))\n",
    "#############################################################################################"
   ]
  },
  {
   "cell_type": "markdown",
   "metadata": {
    "id": "jrzNOzr4mqMa"
   },
   "source": [
    "### Поиск лучших параметров для LGBMClassifier"
   ]
  },
  {
   "cell_type": "code",
   "execution_count": 26,
   "metadata": {
    "id": "DjYtKHoEjGYL"
   },
   "outputs": [
    {
     "name": "stdout",
     "output_type": "stream",
     "text": [
      "Fitting 5 folds for each of 1500 candidates, totalling 7500 fits\n"
     ]
    },
    {
     "name": "stderr",
     "output_type": "stream",
     "text": [
      "[Parallel(n_jobs=-1)]: Using backend LokyBackend with 12 concurrent workers.\n",
      "[Parallel(n_jobs=-1)]: Done   1 tasks      | elapsed:    0.9s\n",
      "[Parallel(n_jobs=-1)]: Done  76 tasks      | elapsed:    1.3s\n",
      "[Parallel(n_jobs=-1)]: Done 410 tasks      | elapsed:    9.7s\n",
      "[Parallel(n_jobs=-1)]: Done 652 tasks      | elapsed:   21.3s\n",
      "[Parallel(n_jobs=-1)]: Done 913 tasks      | elapsed:   30.8s\n",
      "[Parallel(n_jobs=-1)]: Done 1386 tasks      | elapsed:   48.8s\n",
      "[Parallel(n_jobs=-1)]: Done 1966 tasks      | elapsed:  1.1min\n",
      "[Parallel(n_jobs=-1)]: Done 2663 tasks      | elapsed:  1.5min\n",
      "[Parallel(n_jobs=-1)]: Done 3346 tasks      | elapsed:  1.8min\n",
      "[Parallel(n_jobs=-1)]: Done 4016 tasks      | elapsed:  2.1min\n",
      "[Parallel(n_jobs=-1)]: Done 4883 tasks      | elapsed:  2.7min\n",
      "[Parallel(n_jobs=-1)]: Done 5812 tasks      | elapsed:  3.2min\n",
      "[Parallel(n_jobs=-1)]: Done 6802 tasks      | elapsed:  3.8min\n",
      "[Parallel(n_jobs=-1)]: Done 7477 out of 7500 | elapsed:  4.1min remaining:    0.7s\n"
     ]
    },
    {
     "name": "stdout",
     "output_type": "stream",
     "text": [
      "LGBMClassifier - best estimator:  LGBMClassifier(boosting_type='dart', class_weight=None, colsample_bytree=1.0,\n",
      "               eval_metric='auc', importance_type='split', learning_rate=0.1,\n",
      "               max_depth=3, min_child_samples=20, min_child_weight=0.001,\n",
      "               min_split_gain=0.0, n_estimators=100, n_jobs=-1, num_leaves=5,\n",
      "               objective=None, random_state=57, reg_alpha=0.0, reg_lambda=0.0,\n",
      "               silent='warn', subsample=1.0, subsample_for_bin=200000,\n",
      "               subsample_freq=0)\n",
      "Предсказание класса через лучшие параметры параметры 0.8404262704804222\n"
     ]
    },
    {
     "name": "stderr",
     "output_type": "stream",
     "text": [
      "[Parallel(n_jobs=-1)]: Done 7500 out of 7500 | elapsed:  4.1min finished\n"
     ]
    }
   ],
   "source": [
    "import lightgbm as lgb\n",
    "\n",
    "\n",
    "#############################################################################################\n",
    "# LGBMClassifier\n",
    "\n",
    "X_train_lgbmc = X_train.copy()\n",
    "y_train_lgbmc = y_train.copy()\n",
    "X_valid_lgbmc = X_valid.copy()\n",
    "y_valid_lgbmc = y_valid.copy()\n",
    "    \n",
    "selector = SelectFromModel(estimator=lgb.LGBMClassifier()).fit(X_train_lgbmc, y_train_lgbmc)\n",
    "X_train_lgbmc = selector.transform(X_train_lgbmc)\n",
    "X_valid_lgbmc = selector.transform(X_valid_lgbmc)\n",
    "\n",
    "# parametrs_lgbmc = {\n",
    "#     'num_leaves': [1, 5, 6, 7, 10],\n",
    "#    'max_depth': [1, 2, 3, 4, 5, 10],\n",
    "#    'class_weight': ['balanced', None], \n",
    "#    'random_state': [57],\n",
    "#    'learning_rate': [0.01, 0.05, 0.1, 0.5, 0.9],\n",
    "#    'n_estimators': [10, 50, 100, 200, 500],\n",
    "#    'eval_metric': ['auc']\n",
    "# }\n",
    "\n",
    "parametrs_lgbmc = {\n",
    "    'boosting_type': ['dart'],\n",
    "    'num_leaves': [1, 5, 6, 7, 10],\n",
    "   'max_depth': [1, 2, 3, 4, 5, 10],\n",
    "   'class_weight': ['balanced', None], \n",
    "   'random_state': [57],\n",
    "   'learning_rate': [0.01, 0.05, 0.1, 0.5, 0.9],\n",
    "   'n_estimators': [10, 50, 100, 200, 500],\n",
    "   'eval_metric': ['auc']\n",
    "}\n",
    "\n",
    "clf_lgbmc = lgb.LGBMClassifier()\n",
    "lgbmc_grid = GridSearchCV(clf_lgbmc, parametrs_lgbmc, cv=5, verbose=4, scoring='roc_auc', refit=True, n_jobs=-1)\n",
    "lgbmc_grid.fit(X_train_lgbmc, y_train_lgbmc)\n",
    "\n",
    "print('LGBMClassifier - best estimator: ', lgbmc_grid.best_estimator_)\n",
    "print(\"Предсказание класса через лучшие параметры параметры\", \n",
    "      roc_auc_score(y_valid_lgbmc, lgbmc_grid.best_estimator_.predict_proba(X_valid_lgbmc)[:, 1]))\n",
    "#############################################################################################"
   ]
  },
  {
   "cell_type": "markdown",
   "metadata": {
    "id": "JSyuiPNBpR8b"
   },
   "source": [
    "### Поиск лучших значений для CatBoostClassifier"
   ]
  },
  {
   "cell_type": "code",
   "execution_count": null,
   "metadata": {
    "id": "RcIhM-YvjGas"
   },
   "outputs": [],
   "source": [
    "from catboost import CatBoostClassifier\n",
    "\n",
    "\n",
    "#############################################################################################\n",
    "# CatBoostClassifier\n",
    "\n",
    "X_train_cbc = X_train.copy()\n",
    "y_train_cbc = y_train.copy()\n",
    "X_valid_cbc = X_valid.copy()\n",
    "y_valid_cbc = y_valid.copy()\n",
    "    \n",
    "selector = SelectFromModel(estimator=CatBoostClassifier()).fit(X_train_cbc, y_train_cbc)\n",
    "X_train_cbc = selector.transform(X_train_cbc)\n",
    "X_valid_cbc = selector.transform(X_valid_cbc)\n",
    "\n",
    "clf_cbc = CatBoostClassifier(iterations=400,\n",
    "                       depth=4,\n",
    "                       learning_rate=0.05,\n",
    "                       loss_function='Logloss',\n",
    "                       verbose=False,\n",
    "                       random_seed = 4,\n",
    "                       l2_leaf_reg = 40,\n",
    "                       eval_metric='AUC:type=Classic'\n",
    "                       )\n",
    "\n",
    "parametrs_cbc = {\n",
    "    'iterations': [10, 50, 100, 150, 200, 500],\n",
    "    \"learning_rate\": [0.01, 0.05, 0.1, 0.5, 0.9],\n",
    "    'min_data_in_leaf': [1, 2, 3, 5, 10],\n",
    "    'depth': [1, 2, 3, 4, 5, 10],\n",
    "    'l2_leaf_reg': [0, 0.001, 0.005, 0.01, 0.05, 0.1]    \n",
    "}\n",
    "\n",
    "cbc_grid = GridSearchCV(cbc_clf, parametrs_cbc, cv=5, verbose=4, scoring='roc_auc', refit=True, n_jobs=-1)\n",
    "cbc_grid.fit(X_train_cbc, y_train_cbc)\n",
    "\n",
    "print('CatBoostClassifier - best estimator: ', cbc_grid.best_estimator_)\n",
    "print(\"Предсказание класса через лучшие параметры параметры\", \n",
    "      roc_auc_score(y_valid_cbc, cbc_grid.best_estimator_.predict_proba(X_valid_cbc)[:, 1]))\n",
    "#############################################################################################"
   ]
  },
  {
   "cell_type": "code",
   "execution_count": null,
   "metadata": {
    "colab": {
     "base_uri": "https://localhost:8080/"
    },
    "executionInfo": {
     "elapsed": 204563,
     "status": "ok",
     "timestamp": 1634569659784,
     "user": {
      "displayName": "Ярослав Янин",
      "photoUrl": "https://lh3.googleusercontent.com/a/default-user=s64",
      "userId": "06336103527584088219"
     },
     "user_tz": -180
    },
    "id": "tcpVwzdLohTU",
    "outputId": "18f3d78b-7081-45fe-9cee-72da57e3e0ff"
   },
   "outputs": [],
   "source": []
  },
  {
   "cell_type": "code",
   "execution_count": null,
   "metadata": {
    "colab": {
     "base_uri": "https://localhost:8080/"
    },
    "executionInfo": {
     "elapsed": 149994,
     "status": "ok",
     "timestamp": 1634570117322,
     "user": {
      "displayName": "Ярослав Янин",
      "photoUrl": "https://lh3.googleusercontent.com/a/default-user=s64",
      "userId": "06336103527584088219"
     },
     "user_tz": -180
    },
    "id": "rxSj1-g19fw6",
    "outputId": "e232169e-ef97-496c-a4b7-1922a6dc0d33"
   },
   "outputs": [],
   "source": []
  },
  {
   "cell_type": "markdown",
   "metadata": {
    "id": "rf4Kjt96EEZU"
   },
   "source": [
    "Выпишите какое лучшее качество и с какими параметрами вам удалось получить\n",
    "0.856"
   ]
  },
  {
   "cell_type": "markdown",
   "metadata": {
    "id": "dDMXbvNZEEZV"
   },
   "source": [
    "# Предсказания"
   ]
  },
  {
   "cell_type": "code",
   "execution_count": null,
   "metadata": {
    "id": "G_P4wFNaEEZW"
   },
   "outputs": [],
   "source": [
    "# Лучшая модель\n",
    "best_model = gs_vk_clf"
   ]
  },
  {
   "cell_type": "code",
   "execution_count": null,
   "metadata": {
    "id": "FfSufx0CEEZZ"
   },
   "outputs": [],
   "source": [
    "X_test = pd.read_csv('./test.csv')\n",
    "submission = pd.read_csv('./submission.csv')\n",
    "\n",
    "submission['Churn'] = # best_model.predict_proba(X_test) / best_model.predict(X_test)\n",
    "submission.to_csv('./my_submission.csv')"
   ]
  },
  {
   "cell_type": "markdown",
   "metadata": {
    "id": "mkxjbGkVEEZc"
   },
   "source": [
    "# Kaggle (5 баллов)\n",
    "\n",
    "Как выставить баллы:\n",
    "\n",
    "1) 1 >= roc auc > 0.84 это 5 баллов\n",
    "\n",
    "2) 0.84 >= roc auc > 0.7 это 3 балла\n",
    "\n",
    "3) 0.7 >= roc auc > 0.6 это 1 балл\n",
    "\n",
    "4) 0.6 >= roc auc это 0 баллов\n",
    "\n",
    "\n",
    "Для выполнения задания необходимо выполнить следующие шаги.\n",
    "* Зарегистрироваться на платформе [kaggle.com](kaggle.com). Процесс выставления оценок будет проходить при подведении итогового рейтинга. Пожалуйста, укажите во вкладке Team -> Team name свои имя и фамилию в формате Имя_Фамилия (важно, чтобы имя и фамилия совпадали с данными на Stepik).\n",
    "* Обучить модель, получить файл с ответами в формате .csv и сдать его в конкурс. Пробуйте и экспериментируйте. Обратите внимание, что вы можете выполнять до 20 попыток сдачи на kaggle в день.\n",
    "* После окончания соревнования отправить в итоговый ноутбук с решением на степик. \n",
    "* После дедлайна проверьте посылки других участников по критериям. Для этого надо зайти на степик, скачать их ноутбук и проверить скор в соревновании."
   ]
  }
 ],
 "metadata": {
  "colab": {
   "collapsed_sections": [],
   "name": "baseline.ipynb",
   "provenance": []
  },
  "kernelspec": {
   "display_name": "Python 3",
   "language": "python",
   "name": "python3"
  },
  "language_info": {
   "codemirror_mode": {
    "name": "ipython",
    "version": 3
   },
   "file_extension": ".py",
   "mimetype": "text/x-python",
   "name": "python",
   "nbconvert_exporter": "python",
   "pygments_lexer": "ipython3",
   "version": "3.7.6"
  }
 },
 "nbformat": 4,
 "nbformat_minor": 1
}
