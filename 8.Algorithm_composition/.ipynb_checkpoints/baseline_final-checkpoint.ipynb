{
 "cells": [
  {
   "cell_type": "markdown",
   "metadata": {},
   "source": [
    "<a id='Main'></a>\n",
    "# Оглавление\n",
    "\n",
    "[Вводная информация](#Enter)\n",
    "\n",
    "1. [Первая часть. Исследование данных](#label_first_part) \n",
    "\n",
    "2. [Анализ данных](#label_for_analys_data)\n",
    "\n",
    "3. [Применение линейных моделей](#label_for_learn_linear_model)\n",
    "    - [LabelEncoder для категориальных признаков](#label_for_learn_linear_model_LabelEncoder)\n",
    "    - [OneHotEncoder для категориальных признаков](#label_for_learn_linear_model_OneHotEncoder)\n",
    "    - [StandardScaler для нормализации числовых признаков](#label_for_learn_linear_model_StandardScaler)\n",
    "    - [Ищем лучшие параметры для LogisticRegression](#label_for_learn_linear_model_LogisticRegression)\n",
    "    \n",
    "4. [Применение градиентного бустинга](#label_for_learn_catboost)\n",
    "\n",
    "5. [Эксперимент с построением стекинга на разных методах](#label_for_learn_stacking)\n",
    "    - [Что еще стоит попробовать](#label_for_learn_stacking_try)\n",
    "    - [Чистка данных. Реализация через функцию](#label_for_learn_stacking_cleaning)\n",
    "    - [Поиск оптимального количества фичей с помощью SelectKBest для точного предсказания LogisticRegression и GradientBoostingClassifier](#label_for_learn_stacking_selection)\n",
    "    - [Сравнение качества модели при использовании SelectKBest и без в различных вариациях](#label_for_learn_stacking_selection_find_best)\n",
    "    - [ Выводы для каждой модели](#label_for_learn_stacking_selection_find_best_results)\n",
    "    - Поиск оптимальных гиперпараметров:\n",
    "        - [Поиск лучших параметров для LogisticRegression](#label_for_learn_stacking_LogisticRegression)\n",
    "        - [Поиск лучших параметров для GradientBoostingClassifier](#label_for_learn_stacking_GradientBoostingClassifier)\n",
    "        - [Поиск лучших параметров для MLPClassifier](#label_for_learn_stacking_MLPClassifier)\n",
    "        - [Поиск лучших параметров для RandomForestClassifier](#label_for_learn_stacking_RandomForestClassifier)\n",
    "        - [Поиск лучших параметров для XGBClassifier](#label_for_learn_stacking_XGBClassifier)\n",
    "        - [Поиск лучших параметров для LGBMClassifier](#label_for_learn_stacking_LGBMClassifier)\n",
    "        - [Поиск лучших значений для CatBoostClassifier](#label_for_learn_stacking_CatBoostClassifier)\n",
    "    - [Использование стекинга для моделей с лучшими параметрами для моделей из Sklearn](#label_for_learn_stacking_sklearn)\n",
    "        - [Использование стекинга для моделей с лучшими параметрами c итоговым методом LogisticRegression](#label_for_learn_stacking_sklearn_LogisticRegression)\n",
    "        - [Использование стекинга для моделей с лучшими параметрами c итоговым методом NuSVC](#label_for_learn_stacking_sklearn_NuSVC)\n",
    "    - [Использование стекинга для моделей с лучшими параметрами для моделей из XGBClassifier, CatBoostClassifier, lightgbm](#label_for_learn_stacking_libraries)\n",
    "        - [Использование стекинга для моделей с лучшими параметрами c итоговым методом LogisticRegression](#label_for_learn_stacking_libraries_LogisticRegression)\n",
    "        - [Использование стекинга для моделей с лучшими параметрами c итоговым методом NuSVC](#label_for_learn_stacking_libraries_NuSVC)\n",
    "        \n",
    "        \n",
    "        \n",
    "\n"
   ]
  },
  {
   "cell_type": "markdown",
   "metadata": {},
   "source": [
    "<p style=\"align: center;\"><img align=center src=\"https://s8.hostingkartinok.com/uploads/images/2018/08/308b49fcfbc619d629fe4604bceb67ac.jpg\" width=500 height=450/></p>\n",
    "\n",
    "<h3 style=\"text-align: center;\"><b>Школа глубокого обучения ФПМИ МФТИ</b></h3>\n",
    "\n",
    "<h3 style=\"text-align: center;\"><b>Домашнее задание. Продвинутый поток. Весна 2021</b></h3>\n",
    "\n",
    "Это домашнее задание будет посвящено полноценному решению задачи машинного обучения."
   ]
  },
  {
   "cell_type": "markdown",
   "metadata": {},
   "source": [
    "<a id='Enter'></a>\n",
    "\n",
    "Есть две части этого домашнего задания: \n",
    "* Сделать полноценный отчет о вашей работе: как вы обработали данные, какие модели попробовали и какие результаты получились (максимум 10 баллов). За каждую выполненную часть будет начислено определенное количество баллов.\n",
    "* Лучшее решение отправить в соревнование на [kaggle](https://www.kaggle.com/c/advanced-dls-spring-2021/) (максимум 5 баллов). За прохождение определенного порогов будут начисляться баллы.\n",
    "\n",
    "\n",
    "**Обе части будут проверяться в формате peer-review. Т.е. вашу посылку на степик будут проверять несколько других студентов и аггрегация их оценок будет выставлена. В то же время вам тоже нужно будет проверить несколько других учеников.**\n",
    "\n",
    "**Пожалуйста, делайте свою работу чистой и понятной, чтобы облегчить проверку. Если у вас будут проблемы с решением или хочется совета, то пишите в наш чат в телеграме или в лс @runfme. Если вы захотите проаппелировать оценку, то пипшите в лс @runfme.**\n",
    "\n",
    "**Во всех пунктах указания это минимальный набор вещей, которые стоит сделать. Если вы можете сделать какой-то шаг лучше или добавить что-то свое - дерзайте!**\n",
    "\n",
    "[Перейти к \"Оглавлению\"](#Main)"
   ]
  },
  {
   "cell_type": "markdown",
   "metadata": {},
   "source": [
    "# Как проверять?\n",
    "\n",
    "Ставьте полный балл, если выполнены все рекомендации или сделано что-то более интересное и сложное. За каждый отсустствующий пункт из рекомендация снижайте 1 балл."
   ]
  },
  {
   "cell_type": "markdown",
   "metadata": {},
   "source": [
    "# Метрика\n",
    "\n",
    "Перед решением любой задачи важно понимать, как будет оцениваться ваше решение. В данном случае мы используем стандартную для задачи классификации метрику ROC-AUC. Ее можно вычислить используя только предсказанные вероятности и истинные классы без конкретного порога классификации + она раотает даже если классы в данных сильно несбалансированны (примеров одного класса в десятки раз больше примеров длугого). Именно поэтому она очень удобна для соревнований.\n",
    "\n",
    "Посчитать ее легко:\n"
   ]
  },
  {
   "cell_type": "code",
   "execution_count": 1,
   "metadata": {},
   "outputs": [
    {
     "data": {
      "text/plain": [
       "0.8333333333333333"
      ]
     },
     "execution_count": 1,
     "metadata": {},
     "output_type": "execute_result"
    }
   ],
   "source": [
    "from sklearn.metrics import roc_auc_score\n",
    "\n",
    "y_true = [\n",
    "    0,\n",
    "    1,\n",
    "    1,\n",
    "    0,\n",
    "    1\n",
    "]\n",
    "\n",
    "y_predictions = [\n",
    "    0.1,\n",
    "    0.9,\n",
    "    0.4,\n",
    "    0.6,\n",
    "    0.61\n",
    "]\n",
    "\n",
    "roc_auc_score(y_true, y_predictions)"
   ]
  },
  {
   "cell_type": "markdown",
   "metadata": {},
   "source": [
    "<a id='label_first_part'></a>\n",
    "# Первая часть. Исследование\n",
    "[Перейти к \"Оглавлению\"](#Main)"
   ]
  },
  {
   "cell_type": "code",
   "execution_count": 2,
   "metadata": {},
   "outputs": [],
   "source": [
    "import pandas as pd\n",
    "import numpy as np\n",
    "from matplotlib import pyplot as plt"
   ]
  },
  {
   "cell_type": "markdown",
   "metadata": {},
   "source": [
    "## Загрузка данных (2 балла)\n",
    "\n",
    "1) Посмотрите на случайные строчки. \n",
    "\n",
    "2) Посмотрите, есть ли в датасете незаполненные значения (nan'ы) с помощью data.isna() или data.info() и, если нужно, замените их на что-то. Будет хорошо, если вы построите табличку с количеством nan в каждой колонке."
   ]
  },
  {
   "cell_type": "code",
   "execution_count": 3,
   "metadata": {
    "scrolled": true
   },
   "outputs": [
    {
     "name": "stdout",
     "output_type": "stream",
     "text": [
      "Количество строк 5282, количество признаков 20\n"
     ]
    },
    {
     "data": {
      "text/html": [
       "<div>\n",
       "<style scoped>\n",
       "    .dataframe tbody tr th:only-of-type {\n",
       "        vertical-align: middle;\n",
       "    }\n",
       "\n",
       "    .dataframe tbody tr th {\n",
       "        vertical-align: top;\n",
       "    }\n",
       "\n",
       "    .dataframe thead th {\n",
       "        text-align: right;\n",
       "    }\n",
       "</style>\n",
       "<table border=\"1\" class=\"dataframe\">\n",
       "  <thead>\n",
       "    <tr style=\"text-align: right;\">\n",
       "      <th></th>\n",
       "      <th>ClientPeriod</th>\n",
       "      <th>MonthlySpending</th>\n",
       "      <th>TotalSpent</th>\n",
       "      <th>Sex</th>\n",
       "      <th>IsSeniorCitizen</th>\n",
       "      <th>HasPartner</th>\n",
       "      <th>HasChild</th>\n",
       "      <th>HasPhoneService</th>\n",
       "      <th>HasMultiplePhoneNumbers</th>\n",
       "      <th>HasInternetService</th>\n",
       "      <th>HasOnlineSecurityService</th>\n",
       "      <th>HasOnlineBackup</th>\n",
       "      <th>HasDeviceProtection</th>\n",
       "      <th>HasTechSupportAccess</th>\n",
       "      <th>HasOnlineTV</th>\n",
       "      <th>HasMovieSubscription</th>\n",
       "      <th>HasContractPhone</th>\n",
       "      <th>IsBillingPaperless</th>\n",
       "      <th>PaymentMethod</th>\n",
       "      <th>Churn</th>\n",
       "    </tr>\n",
       "  </thead>\n",
       "  <tbody>\n",
       "    <tr>\n",
       "      <th>0</th>\n",
       "      <td>55</td>\n",
       "      <td>19.50</td>\n",
       "      <td>1026.35</td>\n",
       "      <td>Male</td>\n",
       "      <td>0</td>\n",
       "      <td>Yes</td>\n",
       "      <td>Yes</td>\n",
       "      <td>Yes</td>\n",
       "      <td>No</td>\n",
       "      <td>No</td>\n",
       "      <td>No internet service</td>\n",
       "      <td>No internet service</td>\n",
       "      <td>No internet service</td>\n",
       "      <td>No internet service</td>\n",
       "      <td>No internet service</td>\n",
       "      <td>No internet service</td>\n",
       "      <td>One year</td>\n",
       "      <td>No</td>\n",
       "      <td>Mailed check</td>\n",
       "      <td>0</td>\n",
       "    </tr>\n",
       "    <tr>\n",
       "      <th>1</th>\n",
       "      <td>72</td>\n",
       "      <td>25.85</td>\n",
       "      <td>1872.2</td>\n",
       "      <td>Male</td>\n",
       "      <td>0</td>\n",
       "      <td>Yes</td>\n",
       "      <td>No</td>\n",
       "      <td>Yes</td>\n",
       "      <td>Yes</td>\n",
       "      <td>No</td>\n",
       "      <td>No internet service</td>\n",
       "      <td>No internet service</td>\n",
       "      <td>No internet service</td>\n",
       "      <td>No internet service</td>\n",
       "      <td>No internet service</td>\n",
       "      <td>No internet service</td>\n",
       "      <td>Two year</td>\n",
       "      <td>No</td>\n",
       "      <td>Credit card (automatic)</td>\n",
       "      <td>0</td>\n",
       "    </tr>\n",
       "    <tr>\n",
       "      <th>2</th>\n",
       "      <td>1</td>\n",
       "      <td>75.90</td>\n",
       "      <td>75.9</td>\n",
       "      <td>Male</td>\n",
       "      <td>0</td>\n",
       "      <td>No</td>\n",
       "      <td>No</td>\n",
       "      <td>Yes</td>\n",
       "      <td>No</td>\n",
       "      <td>Fiber optic</td>\n",
       "      <td>No</td>\n",
       "      <td>No</td>\n",
       "      <td>No</td>\n",
       "      <td>Yes</td>\n",
       "      <td>No</td>\n",
       "      <td>No</td>\n",
       "      <td>Month-to-month</td>\n",
       "      <td>Yes</td>\n",
       "      <td>Electronic check</td>\n",
       "      <td>1</td>\n",
       "    </tr>\n",
       "    <tr>\n",
       "      <th>3</th>\n",
       "      <td>32</td>\n",
       "      <td>79.30</td>\n",
       "      <td>2570</td>\n",
       "      <td>Female</td>\n",
       "      <td>1</td>\n",
       "      <td>Yes</td>\n",
       "      <td>No</td>\n",
       "      <td>Yes</td>\n",
       "      <td>Yes</td>\n",
       "      <td>Fiber optic</td>\n",
       "      <td>No</td>\n",
       "      <td>No</td>\n",
       "      <td>Yes</td>\n",
       "      <td>No</td>\n",
       "      <td>No</td>\n",
       "      <td>No</td>\n",
       "      <td>Month-to-month</td>\n",
       "      <td>No</td>\n",
       "      <td>Mailed check</td>\n",
       "      <td>0</td>\n",
       "    </tr>\n",
       "    <tr>\n",
       "      <th>4</th>\n",
       "      <td>60</td>\n",
       "      <td>115.25</td>\n",
       "      <td>6758.45</td>\n",
       "      <td>Female</td>\n",
       "      <td>0</td>\n",
       "      <td>Yes</td>\n",
       "      <td>Yes</td>\n",
       "      <td>Yes</td>\n",
       "      <td>Yes</td>\n",
       "      <td>Fiber optic</td>\n",
       "      <td>Yes</td>\n",
       "      <td>Yes</td>\n",
       "      <td>Yes</td>\n",
       "      <td>Yes</td>\n",
       "      <td>Yes</td>\n",
       "      <td>Yes</td>\n",
       "      <td>Two year</td>\n",
       "      <td>No</td>\n",
       "      <td>Credit card (automatic)</td>\n",
       "      <td>0</td>\n",
       "    </tr>\n",
       "    <tr>\n",
       "      <th>5</th>\n",
       "      <td>25</td>\n",
       "      <td>19.80</td>\n",
       "      <td>475.2</td>\n",
       "      <td>Female</td>\n",
       "      <td>0</td>\n",
       "      <td>No</td>\n",
       "      <td>No</td>\n",
       "      <td>Yes</td>\n",
       "      <td>No</td>\n",
       "      <td>No</td>\n",
       "      <td>No internet service</td>\n",
       "      <td>No internet service</td>\n",
       "      <td>No internet service</td>\n",
       "      <td>No internet service</td>\n",
       "      <td>No internet service</td>\n",
       "      <td>No internet service</td>\n",
       "      <td>Two year</td>\n",
       "      <td>No</td>\n",
       "      <td>Credit card (automatic)</td>\n",
       "      <td>0</td>\n",
       "    </tr>\n",
       "    <tr>\n",
       "      <th>6</th>\n",
       "      <td>27</td>\n",
       "      <td>90.15</td>\n",
       "      <td>2423.4</td>\n",
       "      <td>Female</td>\n",
       "      <td>0</td>\n",
       "      <td>Yes</td>\n",
       "      <td>No</td>\n",
       "      <td>Yes</td>\n",
       "      <td>Yes</td>\n",
       "      <td>Fiber optic</td>\n",
       "      <td>No</td>\n",
       "      <td>No</td>\n",
       "      <td>Yes</td>\n",
       "      <td>No</td>\n",
       "      <td>No</td>\n",
       "      <td>Yes</td>\n",
       "      <td>Month-to-month</td>\n",
       "      <td>No</td>\n",
       "      <td>Bank transfer (automatic)</td>\n",
       "      <td>0</td>\n",
       "    </tr>\n",
       "  </tbody>\n",
       "</table>\n",
       "</div>"
      ],
      "text/plain": [
       "   ClientPeriod  MonthlySpending TotalSpent     Sex  IsSeniorCitizen  \\\n",
       "0            55            19.50    1026.35    Male                0   \n",
       "1            72            25.85     1872.2    Male                0   \n",
       "2             1            75.90       75.9    Male                0   \n",
       "3            32            79.30       2570  Female                1   \n",
       "4            60           115.25    6758.45  Female                0   \n",
       "5            25            19.80      475.2  Female                0   \n",
       "6            27            90.15     2423.4  Female                0   \n",
       "\n",
       "  HasPartner HasChild HasPhoneService HasMultiplePhoneNumbers  \\\n",
       "0        Yes      Yes             Yes                      No   \n",
       "1        Yes       No             Yes                     Yes   \n",
       "2         No       No             Yes                      No   \n",
       "3        Yes       No             Yes                     Yes   \n",
       "4        Yes      Yes             Yes                     Yes   \n",
       "5         No       No             Yes                      No   \n",
       "6        Yes       No             Yes                     Yes   \n",
       "\n",
       "  HasInternetService HasOnlineSecurityService      HasOnlineBackup  \\\n",
       "0                 No      No internet service  No internet service   \n",
       "1                 No      No internet service  No internet service   \n",
       "2        Fiber optic                       No                   No   \n",
       "3        Fiber optic                       No                   No   \n",
       "4        Fiber optic                      Yes                  Yes   \n",
       "5                 No      No internet service  No internet service   \n",
       "6        Fiber optic                       No                   No   \n",
       "\n",
       "   HasDeviceProtection HasTechSupportAccess          HasOnlineTV  \\\n",
       "0  No internet service  No internet service  No internet service   \n",
       "1  No internet service  No internet service  No internet service   \n",
       "2                   No                  Yes                   No   \n",
       "3                  Yes                   No                   No   \n",
       "4                  Yes                  Yes                  Yes   \n",
       "5  No internet service  No internet service  No internet service   \n",
       "6                  Yes                   No                   No   \n",
       "\n",
       "  HasMovieSubscription HasContractPhone IsBillingPaperless  \\\n",
       "0  No internet service         One year                 No   \n",
       "1  No internet service         Two year                 No   \n",
       "2                   No   Month-to-month                Yes   \n",
       "3                   No   Month-to-month                 No   \n",
       "4                  Yes         Two year                 No   \n",
       "5  No internet service         Two year                 No   \n",
       "6                  Yes   Month-to-month                 No   \n",
       "\n",
       "               PaymentMethod  Churn  \n",
       "0               Mailed check      0  \n",
       "1    Credit card (automatic)      0  \n",
       "2           Electronic check      1  \n",
       "3               Mailed check      0  \n",
       "4    Credit card (automatic)      0  \n",
       "5    Credit card (automatic)      0  \n",
       "6  Bank transfer (automatic)      0  "
      ]
     },
     "execution_count": 3,
     "metadata": {},
     "output_type": "execute_result"
    }
   ],
   "source": [
    "# from google.colab import drive\n",
    "# drive.mount('/content/drive')\n",
    "\n",
    "# data = pd.read_csv('/content/drive/My Drive/DeepLearningSchool/8.Algorithm_composition/train.csv')\n",
    "# print(f\"Количество строк {data.shape[0]}, количество признаков {data.shape[1]}\")\n",
    "# data.head()\n",
    "\n",
    "data = pd.read_csv(r'C:\\Users\\user\\PycharmProjects\\DeepLearningSchool\\8.Algorithm_composition\\train.csv')\n",
    "print(f\"Количество строк {data.shape[0]}, количество признаков {data.shape[1]}\")\n",
    "data.head(7)"
   ]
  },
  {
   "cell_type": "code",
   "execution_count": 4,
   "metadata": {},
   "outputs": [],
   "source": [
    "# Для вашего удобства списки с именами разных колонок\n",
    "\n",
    "# Числовые признаки\n",
    "num_cols = [\n",
    "    'ClientPeriod',\n",
    "    'MonthlySpending',\n",
    "    'TotalSpent'\n",
    "]\n",
    "\n",
    "# Категориальные признаки\n",
    "cat_cols = [\n",
    "    'Sex',\n",
    "    'IsSeniorCitizen',\n",
    "    'HasPartner',\n",
    "    'HasChild',\n",
    "    'HasPhoneService',\n",
    "    'HasMultiplePhoneNumbers',\n",
    "    'HasInternetService',\n",
    "    'HasOnlineSecurityService',\n",
    "    'HasOnlineBackup',\n",
    "    'HasDeviceProtection',\n",
    "    'HasTechSupportAccess',\n",
    "    'HasOnlineTV',\n",
    "    'HasMovieSubscription',\n",
    "    'HasContractPhone',\n",
    "    'IsBillingPaperless',\n",
    "    'PaymentMethod'\n",
    "]\n",
    "\n",
    "feature_cols = num_cols + cat_cols\n",
    "target_col = 'Churn'"
   ]
  },
  {
   "cell_type": "code",
   "execution_count": 5,
   "metadata": {
    "scrolled": true
   },
   "outputs": [
    {
     "name": "stdout",
     "output_type": "stream",
     "text": [
      "<class 'pandas.core.frame.DataFrame'>\n",
      "RangeIndex: 5282 entries, 0 to 5281\n",
      "Data columns (total 20 columns):\n",
      " #   Column                    Non-Null Count  Dtype  \n",
      "---  ------                    --------------  -----  \n",
      " 0   ClientPeriod              5282 non-null   int64  \n",
      " 1   MonthlySpending           5282 non-null   float64\n",
      " 2   TotalSpent                5282 non-null   object \n",
      " 3   Sex                       5282 non-null   object \n",
      " 4   IsSeniorCitizen           5282 non-null   int64  \n",
      " 5   HasPartner                5282 non-null   object \n",
      " 6   HasChild                  5282 non-null   object \n",
      " 7   HasPhoneService           5282 non-null   object \n",
      " 8   HasMultiplePhoneNumbers   5282 non-null   object \n",
      " 9   HasInternetService        5282 non-null   object \n",
      " 10  HasOnlineSecurityService  5282 non-null   object \n",
      " 11  HasOnlineBackup           5282 non-null   object \n",
      " 12  HasDeviceProtection       5282 non-null   object \n",
      " 13  HasTechSupportAccess      5282 non-null   object \n",
      " 14  HasOnlineTV               5282 non-null   object \n",
      " 15  HasMovieSubscription      5282 non-null   object \n",
      " 16  HasContractPhone          5282 non-null   object \n",
      " 17  IsBillingPaperless        5282 non-null   object \n",
      " 18  PaymentMethod             5282 non-null   object \n",
      " 19  Churn                     5282 non-null   int64  \n",
      "dtypes: float64(1), int64(3), object(16)\n",
      "memory usage: 825.4+ KB\n"
     ]
    }
   ],
   "source": [
    "# Общая информация о данных\n",
    "data.info()"
   ]
  },
  {
   "cell_type": "code",
   "execution_count": 6,
   "metadata": {
    "scrolled": true
   },
   "outputs": [
    {
     "name": "stdout",
     "output_type": "stream",
     "text": [
      "ClientPeriod                False\n",
      "MonthlySpending             False\n",
      "TotalSpent                  False\n",
      "Sex                         False\n",
      "IsSeniorCitizen             False\n",
      "HasPartner                  False\n",
      "HasChild                    False\n",
      "HasPhoneService             False\n",
      "HasMultiplePhoneNumbers     False\n",
      "HasInternetService          False\n",
      "HasOnlineSecurityService    False\n",
      "HasOnlineBackup             False\n",
      "HasDeviceProtection         False\n",
      "HasTechSupportAccess        False\n",
      "HasOnlineTV                 False\n",
      "HasMovieSubscription        False\n",
      "HasContractPhone            False\n",
      "IsBillingPaperless          False\n",
      "PaymentMethod               False\n",
      "Churn                       False\n",
      "dtype: bool\n"
     ]
    },
    {
     "data": {
      "text/plain": [
       "ClientPeriod                0\n",
       "MonthlySpending             0\n",
       "TotalSpent                  0\n",
       "Sex                         0\n",
       "IsSeniorCitizen             0\n",
       "HasPartner                  0\n",
       "HasChild                    0\n",
       "HasPhoneService             0\n",
       "HasMultiplePhoneNumbers     0\n",
       "HasInternetService          0\n",
       "HasOnlineSecurityService    0\n",
       "HasOnlineBackup             0\n",
       "HasDeviceProtection         0\n",
       "HasTechSupportAccess        0\n",
       "HasOnlineTV                 0\n",
       "HasMovieSubscription        0\n",
       "HasContractPhone            0\n",
       "IsBillingPaperless          0\n",
       "PaymentMethod               0\n",
       "Churn                       0\n",
       "dtype: int64"
      ]
     },
     "execution_count": 6,
     "metadata": {},
     "output_type": "execute_result"
    }
   ],
   "source": [
    "# Смотрим None в данных\n",
    "print(data.isna().any())\n",
    "# Если бы были пропуски, то вывели бы сумму таких значений\n",
    "data.isna().sum()"
   ]
  },
  {
   "cell_type": "code",
   "execution_count": 7,
   "metadata": {
    "scrolled": true
   },
   "outputs": [
    {
     "name": "stdout",
     "output_type": "stream",
     "text": [
      "ClientPeriod                False\n",
      "MonthlySpending             False\n",
      "TotalSpent                  False\n",
      "Sex                         False\n",
      "IsSeniorCitizen             False\n",
      "HasPartner                  False\n",
      "HasChild                    False\n",
      "HasPhoneService             False\n",
      "HasMultiplePhoneNumbers     False\n",
      "HasInternetService          False\n",
      "HasOnlineSecurityService    False\n",
      "HasOnlineBackup             False\n",
      "HasDeviceProtection         False\n",
      "HasTechSupportAccess        False\n",
      "HasOnlineTV                 False\n",
      "HasMovieSubscription        False\n",
      "HasContractPhone            False\n",
      "IsBillingPaperless          False\n",
      "PaymentMethod               False\n",
      "Churn                       False\n",
      "dtype: bool\n"
     ]
    },
    {
     "data": {
      "text/plain": [
       "ClientPeriod                0\n",
       "MonthlySpending             0\n",
       "TotalSpent                  0\n",
       "Sex                         0\n",
       "IsSeniorCitizen             0\n",
       "HasPartner                  0\n",
       "HasChild                    0\n",
       "HasPhoneService             0\n",
       "HasMultiplePhoneNumbers     0\n",
       "HasInternetService          0\n",
       "HasOnlineSecurityService    0\n",
       "HasOnlineBackup             0\n",
       "HasDeviceProtection         0\n",
       "HasTechSupportAccess        0\n",
       "HasOnlineTV                 0\n",
       "HasMovieSubscription        0\n",
       "HasContractPhone            0\n",
       "IsBillingPaperless          0\n",
       "PaymentMethod               0\n",
       "Churn                       0\n",
       "dtype: int64"
      ]
     },
     "execution_count": 7,
     "metadata": {},
     "output_type": "execute_result"
    }
   ],
   "source": [
    "# Смотрим пропуски в данных\n",
    "print(data.isnull().any())\n",
    "# Если бы были пропуски, то вывели бы сумму таких значений\n",
    "data.isna().sum()"
   ]
  },
  {
   "cell_type": "markdown",
   "metadata": {},
   "source": [
    "<a id='label_for_analys_data'></a>\n",
    "\n",
    "## Анализ данных (3 балла)\n",
    "\n",
    "1) Для численных призанков постройте гистограмму (*plt.hist(...)*) или boxplot (*plt.boxplot(...)*). Для категориальных посчитайте количество каждого значения для каждого признака. Для каждой колонки надо сделать *data.value_counts()* и построить bar диаграммы *plt.bar(...)* или круговые диаграммы *plt.pie(...)* (хорошо, елси вы сможете это сделать на одном гарфике с помощью *plt.subplots(...)*). \n",
    "\n",
    "2) Посмотрите на распределение целевой переменной и скажите, являются ли классы несбалансированными.\n",
    "\n",
    "3) (Если будет желание) Поиграйте с разными библиотеками для визуализации - *sns*, *pandas_visual_analysis*, etc.\n",
    "\n",
    "Второй пункт очень важен, потому что существуют задачи классификации с несбалансированными классами. Например, это может значить, что в датасете намного больше примеров 0 класса. В таких случаях нужно 1) не использовать accuracy как метрику 2) использовать методы борьбы с imbalanced dataset (обычно если датасет сильно несбалансирован, т.е. класса 1 в 20 раз меньше класса 0).\n",
    "\n",
    "[Перейти к \"Оглавлению\"](#Main)"
   ]
  },
  {
   "cell_type": "code",
   "execution_count": 8,
   "metadata": {
    "scrolled": true
   },
   "outputs": [
    {
     "data": {
      "image/png": "[encoded data removed]",
      "text/plain": [
       "<Figure size 1152x1152 with 3 Axes>"
      ]
     },
     "metadata": {
      "needs_background": "light"
     },
     "output_type": "display_data"
    }
   ],
   "source": [
    "# YOUR CODE\n",
    "# Задание 1. Смотрим на числовые признаки\n",
    "import matplotlib.pyplot as plt\n",
    "num_cols = [\n",
    "    'ClientPeriod',\n",
    "    'MonthlySpending',\n",
    "    'TotalSpent'\n",
    "]\n",
    "\n",
    "data['TotalSpent'] = data['TotalSpent'].replace(' ', '0')\n",
    "data['TotalSpent'] = data['TotalSpent'].astype(float)\n",
    "data['TotalSpent'] = data['TotalSpent'].replace(0, data['TotalSpent'].mean())\n",
    "\n",
    "plt.figure(figsize = (16, 16))\n",
    "for i in range(len(num_cols)):\n",
    "    plt.subplot(2,2,i+1)\n",
    "    plt.grid(True, linestyle='--', color='0.75')\n",
    "    plt.hist(data[num_cols[i]], 15)\n",
    "    plt.xlabel(f'{num_cols[i]}', size = '14')\n",
    "    plt.ylabel('Количество значений', size = '14')\n",
    "plt.show()"
   ]
  },
  {
   "cell_type": "code",
   "execution_count": 9,
   "metadata": {},
   "outputs": [
    {
     "data": {
      "image/png": "[encoded data removed]",
      "text/plain": [
       "<Figure size 1152x5760 with 16 Axes>"
      ]
     },
     "metadata": {
      "needs_background": "light"
     },
     "output_type": "display_data"
    }
   ],
   "source": [
    "# YOUR CODE\n",
    "# Задание 1. Смотрим на категориальные признаки\n",
    "import matplotlib.pyplot as plt\n",
    "cat_cols = [\n",
    "    'Sex',\n",
    "    'IsSeniorCitizen',\n",
    "    'HasPartner',\n",
    "    'HasChild',\n",
    "    'HasPhoneService',\n",
    "    'HasMultiplePhoneNumbers',\n",
    "    'HasInternetService',\n",
    "    'HasOnlineSecurityService',\n",
    "    'HasOnlineBackup',\n",
    "    'HasDeviceProtection',\n",
    "    'HasTechSupportAccess',\n",
    "    'HasOnlineTV',\n",
    "    'HasMovieSubscription',\n",
    "    'HasContractPhone',\n",
    "    'IsBillingPaperless',\n",
    "    'PaymentMethod'\n",
    "]\n",
    "\n",
    "plt.figure(figsize = (16, 80))\n",
    "\n",
    "for i in range(len(cat_cols)):\n",
    "    plt.subplot(8,2,i+1)\n",
    "    plt.grid(True, linestyle='--', color='0.75')\n",
    "    plt.bar(data[cat_cols[i]].unique(), data[cat_cols[i]].value_counts())\n",
    "    plt.xlabel(f'{cat_cols[i]}', size = '14')\n",
    "    plt.ylabel('Количество значений', size = '14')\n",
    "plt.show()"
   ]
  },
  {
   "cell_type": "code",
   "execution_count": 10,
   "metadata": {
    "scrolled": true
   },
   "outputs": [
    {
     "data": {
      "image/png": "[encoded data removed]",
      "text/plain": [
       "<Figure size 720x720 with 1 Axes>"
      ]
     },
     "metadata": {
      "needs_background": "light"
     },
     "output_type": "display_data"
    }
   ],
   "source": [
    "# Задание 2\n",
    "# Классы не сбалансированны\n",
    "import matplotlib.pyplot as plt\n",
    "\n",
    "target_col = 'Churn'\n",
    "plt.figure(figsize = (10, 10))\n",
    "plt.grid(True, linestyle='--', color='0.75')\n",
    "plt.hist(data[target_col], 15)\n",
    "plt.xlabel(f'{target_col}', size = '14')\n",
    "plt.ylabel('Количество значений', size = '14')\n",
    "plt.show()"
   ]
  },
  {
   "cell_type": "markdown",
   "metadata": {},
   "source": [
    "(Дополнительно) Если вы нашли какие-то ошибки в данных или выбросы, то можете их убрать. Тут можно поэксперементировать с обработкой данных как угодно, но не за баллы."
   ]
  },
  {
   "cell_type": "code",
   "execution_count": 11,
   "metadata": {
    "scrolled": true
   },
   "outputs": [
    {
     "name": "stdout",
     "output_type": "stream",
     "text": [
      "ClientPeriod\n",
      "ClientPeriod 1.0860815984281866\n",
      "MonthlySpending\n",
      "MonthlySpending 1.1163815573048765\n",
      "TotalSpent\n",
      "TotalSpent 1.5705913890548282\n",
      "IsSeniorCitizen\n",
      "IsSeniorCitizen 0.32099011152814727\n"
     ]
    },
    {
     "data": {
      "text/html": [
       "<style  type=\"text/css\" >\n",
       "    #T_61ca6278_4564_11ec_a29b_fc6f1304fc4drow0_col0 {\n",
       "            background-color:  #b40426;\n",
       "            color:  #f1f1f1;\n",
       "        }    #T_61ca6278_4564_11ec_a29b_fc6f1304fc4drow0_col1 {\n",
       "            background-color:  #485fd1;\n",
       "            color:  #f1f1f1;\n",
       "        }    #T_61ca6278_4564_11ec_a29b_fc6f1304fc4drow0_col2 {\n",
       "            background-color:  #ec8165;\n",
       "            color:  #000000;\n",
       "        }    #T_61ca6278_4564_11ec_a29b_fc6f1304fc4drow0_col3 {\n",
       "            background-color:  #3b4cc0;\n",
       "            color:  #f1f1f1;\n",
       "        }    #T_61ca6278_4564_11ec_a29b_fc6f1304fc4drow1_col0 {\n",
       "            background-color:  #89acfd;\n",
       "            color:  #000000;\n",
       "        }    #T_61ca6278_4564_11ec_a29b_fc6f1304fc4drow1_col1 {\n",
       "            background-color:  #b40426;\n",
       "            color:  #f1f1f1;\n",
       "        }    #T_61ca6278_4564_11ec_a29b_fc6f1304fc4drow1_col2 {\n",
       "            background-color:  #f3c7b1;\n",
       "            color:  #000000;\n",
       "        }    #T_61ca6278_4564_11ec_a29b_fc6f1304fc4drow1_col3 {\n",
       "            background-color:  #7da0f9;\n",
       "            color:  #000000;\n",
       "        }    #T_61ca6278_4564_11ec_a29b_fc6f1304fc4drow2_col0 {\n",
       "            background-color:  #e97a5f;\n",
       "            color:  #000000;\n",
       "        }    #T_61ca6278_4564_11ec_a29b_fc6f1304fc4drow2_col1 {\n",
       "            background-color:  #ead4c8;\n",
       "            color:  #000000;\n",
       "        }    #T_61ca6278_4564_11ec_a29b_fc6f1304fc4drow2_col2 {\n",
       "            background-color:  #b40426;\n",
       "            color:  #f1f1f1;\n",
       "        }    #T_61ca6278_4564_11ec_a29b_fc6f1304fc4drow2_col3 {\n",
       "            background-color:  #5470de;\n",
       "            color:  #000000;\n",
       "        }    #T_61ca6278_4564_11ec_a29b_fc6f1304fc4drow3_col0 {\n",
       "            background-color:  #3b4cc0;\n",
       "            color:  #f1f1f1;\n",
       "        }    #T_61ca6278_4564_11ec_a29b_fc6f1304fc4drow3_col1 {\n",
       "            background-color:  #3b4cc0;\n",
       "            color:  #f1f1f1;\n",
       "        }    #T_61ca6278_4564_11ec_a29b_fc6f1304fc4drow3_col2 {\n",
       "            background-color:  #3b4cc0;\n",
       "            color:  #f1f1f1;\n",
       "        }    #T_61ca6278_4564_11ec_a29b_fc6f1304fc4drow3_col3 {\n",
       "            background-color:  #b40426;\n",
       "            color:  #f1f1f1;\n",
       "        }</style><table id=\"T_61ca6278_4564_11ec_a29b_fc6f1304fc4d\" ><thead>    <tr>        <th class=\"blank level0\" ></th>        <th class=\"col_heading level0 col0\" >ClientPeriod</th>        <th class=\"col_heading level0 col1\" >MonthlySpending</th>        <th class=\"col_heading level0 col2\" >TotalSpent</th>        <th class=\"col_heading level0 col3\" >IsSeniorCitizen</th>    </tr></thead><tbody>\n",
       "                <tr>\n",
       "                        <th id=\"T_61ca6278_4564_11ec_a29b_fc6f1304fc4dlevel0_row0\" class=\"row_heading level0 row0\" >ClientPeriod</th>\n",
       "                        <td id=\"T_61ca6278_4564_11ec_a29b_fc6f1304fc4drow0_col0\" class=\"data row0 col0\" >1.000000</td>\n",
       "                        <td id=\"T_61ca6278_4564_11ec_a29b_fc6f1304fc4drow0_col1\" class=\"data row0 col1\" >0.249414</td>\n",
       "                        <td id=\"T_61ca6278_4564_11ec_a29b_fc6f1304fc4drow0_col2\" class=\"data row0 col2\" >0.825107</td>\n",
       "                        <td id=\"T_61ca6278_4564_11ec_a29b_fc6f1304fc4drow0_col3\" class=\"data row0 col3\" >0.011561</td>\n",
       "            </tr>\n",
       "            <tr>\n",
       "                        <th id=\"T_61ca6278_4564_11ec_a29b_fc6f1304fc4dlevel0_row1\" class=\"row_heading level0 row1\" >MonthlySpending</th>\n",
       "                        <td id=\"T_61ca6278_4564_11ec_a29b_fc6f1304fc4drow1_col0\" class=\"data row1 col0\" >0.249414</td>\n",
       "                        <td id=\"T_61ca6278_4564_11ec_a29b_fc6f1304fc4drow1_col1\" class=\"data row1 col1\" >1.000000</td>\n",
       "                        <td id=\"T_61ca6278_4564_11ec_a29b_fc6f1304fc4drow1_col2\" class=\"data row1 col2\" >0.651511</td>\n",
       "                        <td id=\"T_61ca6278_4564_11ec_a29b_fc6f1304fc4drow1_col3\" class=\"data row1 col3\" >0.215456</td>\n",
       "            </tr>\n",
       "            <tr>\n",
       "                        <th id=\"T_61ca6278_4564_11ec_a29b_fc6f1304fc4dlevel0_row2\" class=\"row_heading level0 row2\" >TotalSpent</th>\n",
       "                        <td id=\"T_61ca6278_4564_11ec_a29b_fc6f1304fc4drow2_col0\" class=\"data row2 col0\" >0.825107</td>\n",
       "                        <td id=\"T_61ca6278_4564_11ec_a29b_fc6f1304fc4drow2_col1\" class=\"data row2 col1\" >0.651511</td>\n",
       "                        <td id=\"T_61ca6278_4564_11ec_a29b_fc6f1304fc4drow2_col2\" class=\"data row2 col2\" >1.000000</td>\n",
       "                        <td id=\"T_61ca6278_4564_11ec_a29b_fc6f1304fc4drow2_col3\" class=\"data row2 col3\" >0.093973</td>\n",
       "            </tr>\n",
       "            <tr>\n",
       "                        <th id=\"T_61ca6278_4564_11ec_a29b_fc6f1304fc4dlevel0_row3\" class=\"row_heading level0 row3\" >IsSeniorCitizen</th>\n",
       "                        <td id=\"T_61ca6278_4564_11ec_a29b_fc6f1304fc4drow3_col0\" class=\"data row3 col0\" >0.011561</td>\n",
       "                        <td id=\"T_61ca6278_4564_11ec_a29b_fc6f1304fc4drow3_col1\" class=\"data row3 col1\" >0.215456</td>\n",
       "                        <td id=\"T_61ca6278_4564_11ec_a29b_fc6f1304fc4drow3_col2\" class=\"data row3 col2\" >0.093973</td>\n",
       "                        <td id=\"T_61ca6278_4564_11ec_a29b_fc6f1304fc4drow3_col3\" class=\"data row3 col3\" >1.000000</td>\n",
       "            </tr>\n",
       "    </tbody></table>"
      ],
      "text/plain": [
       "<pandas.io.formats.style.Styler at 0x235de340488>"
      ]
     },
     "execution_count": 11,
     "metadata": {},
     "output_type": "execute_result"
    }
   ],
   "source": [
    "# YOUR CODE\n",
    "# Смотрим корреляции\n",
    "import matplotlib.pyplot as plt\n",
    "\n",
    "\n",
    "corr = data[feature_cols].corr()\n",
    "\n",
    "for i in corr:\n",
    "    print(i)\n",
    "    print(i, sum(corr[i])-1)\n",
    "\n",
    "corr.style.background_gradient(cmap='coolwarm')"
   ]
  },
  {
   "cell_type": "markdown",
   "metadata": {},
   "source": [
    "<a id='label_for_learn_linear_model'></a>\n",
    "\n",
    "## Применение линейных моделей (3 балла)\n",
    "\n",
    "1) Обработайте данные для того, чтобы к ним можно было применить LogisticRegression. Т.е. отнормируйте числовые признаки, а категориальные закодируйте с помощью one-hot-encoding'а. \n",
    "\n",
    "2) С помощью кроссвалидации или разделения на train/valid выборку протестируйте разные значения гиперпараметра C и выберите лучший (можно тестировать С=100, 10, 1, 0.1, 0.01, 0.001) по метрике ROC-AUC. \n",
    "\n",
    "Если вы разделяете на train/valid, то используйте LogisticRegressionCV. Он сам при вызове .fit() подберет параметр С. (не забудьте передать scroing='roc_auc', чтобы при кроссвалидации сравнивались значения этой метрики, и refit=True, чтобы при потом модель обучилась на всем датасете с лучшим параметром C). \n",
    "\n",
    "\n",
    "(более сложный вариант) Если вы будете использовать кроссвалидацию, то преобразования данных и LogisticRegression нужно соединить в один Pipeline с помощью make_pipeline, как это делалось во втором семинаре. Потом pipeline надо передать в GridSearchCV. Для one-hot-encoding'a можно испльзовать комбинацию LabelEncoder + OneHotEncoder (сначала превращаем строчки в числа, а потом числа првращаем в one-hot вектора.)\n",
    "\n",
    "[Перейти к \"Оглавлению\"](#Main)"
   ]
  },
  {
   "cell_type": "code",
   "execution_count": 12,
   "metadata": {},
   "outputs": [],
   "source": [
    "from sklearn.linear_model import LogisticRegression, LogisticRegressionCV\n",
    "from sklearn.model_selection import train_test_split, GridSearchCV\n",
    "from sklearn.preprocessing import StandardScaler, RobustScaler, LabelEncoder, OneHotEncoder\n",
    "from sklearn.pipeline import make_pipeline"
   ]
  },
  {
   "cell_type": "code",
   "execution_count": 13,
   "metadata": {},
   "outputs": [],
   "source": [
    "# YOUR CODE\n",
    "features_labels = []"
   ]
  },
  {
   "cell_type": "markdown",
   "metadata": {},
   "source": [
    "<a id='label_for_learn_linear_model_LabelEncoder'></a>\n",
    "\n",
    "### LabelEncoder для категориальных признаков\n",
    "\n",
    "[Перейти к \"Оглавлению\"](#Main)"
   ]
  },
  {
   "cell_type": "code",
   "execution_count": 14,
   "metadata": {},
   "outputs": [
    {
     "name": "stdout",
     "output_type": "stream",
     "text": [
      "(5282, 36)\n"
     ]
    },
    {
     "data": {
      "text/html": [
       "<div>\n",
       "<style scoped>\n",
       "    .dataframe tbody tr th:only-of-type {\n",
       "        vertical-align: middle;\n",
       "    }\n",
       "\n",
       "    .dataframe tbody tr th {\n",
       "        vertical-align: top;\n",
       "    }\n",
       "\n",
       "    .dataframe thead th {\n",
       "        text-align: right;\n",
       "    }\n",
       "</style>\n",
       "<table border=\"1\" class=\"dataframe\">\n",
       "  <thead>\n",
       "    <tr style=\"text-align: right;\">\n",
       "      <th></th>\n",
       "      <th>ClientPeriod</th>\n",
       "      <th>MonthlySpending</th>\n",
       "      <th>TotalSpent</th>\n",
       "      <th>Sex</th>\n",
       "      <th>IsSeniorCitizen</th>\n",
       "      <th>HasPartner</th>\n",
       "      <th>HasChild</th>\n",
       "      <th>HasPhoneService</th>\n",
       "      <th>HasMultiplePhoneNumbers</th>\n",
       "      <th>HasInternetService</th>\n",
       "      <th>...</th>\n",
       "      <th>HasInternetService_le</th>\n",
       "      <th>HasOnlineSecurityService_le</th>\n",
       "      <th>HasOnlineBackup_le</th>\n",
       "      <th>HasDeviceProtection_le</th>\n",
       "      <th>HasTechSupportAccess_le</th>\n",
       "      <th>HasOnlineTV_le</th>\n",
       "      <th>HasMovieSubscription_le</th>\n",
       "      <th>HasContractPhone_le</th>\n",
       "      <th>IsBillingPaperless_le</th>\n",
       "      <th>PaymentMethod_le</th>\n",
       "    </tr>\n",
       "  </thead>\n",
       "  <tbody>\n",
       "    <tr>\n",
       "      <th>0</th>\n",
       "      <td>55</td>\n",
       "      <td>19.50</td>\n",
       "      <td>1026.35</td>\n",
       "      <td>Male</td>\n",
       "      <td>0</td>\n",
       "      <td>Yes</td>\n",
       "      <td>Yes</td>\n",
       "      <td>Yes</td>\n",
       "      <td>No</td>\n",
       "      <td>No</td>\n",
       "      <td>...</td>\n",
       "      <td>2</td>\n",
       "      <td>1</td>\n",
       "      <td>1</td>\n",
       "      <td>1</td>\n",
       "      <td>1</td>\n",
       "      <td>1</td>\n",
       "      <td>1</td>\n",
       "      <td>1</td>\n",
       "      <td>0</td>\n",
       "      <td>3</td>\n",
       "    </tr>\n",
       "    <tr>\n",
       "      <th>1</th>\n",
       "      <td>72</td>\n",
       "      <td>25.85</td>\n",
       "      <td>1872.20</td>\n",
       "      <td>Male</td>\n",
       "      <td>0</td>\n",
       "      <td>Yes</td>\n",
       "      <td>No</td>\n",
       "      <td>Yes</td>\n",
       "      <td>Yes</td>\n",
       "      <td>No</td>\n",
       "      <td>...</td>\n",
       "      <td>2</td>\n",
       "      <td>1</td>\n",
       "      <td>1</td>\n",
       "      <td>1</td>\n",
       "      <td>1</td>\n",
       "      <td>1</td>\n",
       "      <td>1</td>\n",
       "      <td>2</td>\n",
       "      <td>0</td>\n",
       "      <td>1</td>\n",
       "    </tr>\n",
       "    <tr>\n",
       "      <th>2</th>\n",
       "      <td>1</td>\n",
       "      <td>75.90</td>\n",
       "      <td>75.90</td>\n",
       "      <td>Male</td>\n",
       "      <td>0</td>\n",
       "      <td>No</td>\n",
       "      <td>No</td>\n",
       "      <td>Yes</td>\n",
       "      <td>No</td>\n",
       "      <td>Fiber optic</td>\n",
       "      <td>...</td>\n",
       "      <td>1</td>\n",
       "      <td>0</td>\n",
       "      <td>0</td>\n",
       "      <td>0</td>\n",
       "      <td>2</td>\n",
       "      <td>0</td>\n",
       "      <td>0</td>\n",
       "      <td>0</td>\n",
       "      <td>1</td>\n",
       "      <td>2</td>\n",
       "    </tr>\n",
       "    <tr>\n",
       "      <th>3</th>\n",
       "      <td>32</td>\n",
       "      <td>79.30</td>\n",
       "      <td>2570.00</td>\n",
       "      <td>Female</td>\n",
       "      <td>1</td>\n",
       "      <td>Yes</td>\n",
       "      <td>No</td>\n",
       "      <td>Yes</td>\n",
       "      <td>Yes</td>\n",
       "      <td>Fiber optic</td>\n",
       "      <td>...</td>\n",
       "      <td>1</td>\n",
       "      <td>0</td>\n",
       "      <td>0</td>\n",
       "      <td>2</td>\n",
       "      <td>0</td>\n",
       "      <td>0</td>\n",
       "      <td>0</td>\n",
       "      <td>0</td>\n",
       "      <td>0</td>\n",
       "      <td>3</td>\n",
       "    </tr>\n",
       "    <tr>\n",
       "      <th>4</th>\n",
       "      <td>60</td>\n",
       "      <td>115.25</td>\n",
       "      <td>6758.45</td>\n",
       "      <td>Female</td>\n",
       "      <td>0</td>\n",
       "      <td>Yes</td>\n",
       "      <td>Yes</td>\n",
       "      <td>Yes</td>\n",
       "      <td>Yes</td>\n",
       "      <td>Fiber optic</td>\n",
       "      <td>...</td>\n",
       "      <td>1</td>\n",
       "      <td>2</td>\n",
       "      <td>2</td>\n",
       "      <td>2</td>\n",
       "      <td>2</td>\n",
       "      <td>2</td>\n",
       "      <td>2</td>\n",
       "      <td>2</td>\n",
       "      <td>0</td>\n",
       "      <td>1</td>\n",
       "    </tr>\n",
       "  </tbody>\n",
       "</table>\n",
       "<p>5 rows × 36 columns</p>\n",
       "</div>"
      ],
      "text/plain": [
       "   ClientPeriod  MonthlySpending  TotalSpent     Sex  IsSeniorCitizen  \\\n",
       "0            55            19.50     1026.35    Male                0   \n",
       "1            72            25.85     1872.20    Male                0   \n",
       "2             1            75.90       75.90    Male                0   \n",
       "3            32            79.30     2570.00  Female                1   \n",
       "4            60           115.25     6758.45  Female                0   \n",
       "\n",
       "  HasPartner HasChild HasPhoneService HasMultiplePhoneNumbers  \\\n",
       "0        Yes      Yes             Yes                      No   \n",
       "1        Yes       No             Yes                     Yes   \n",
       "2         No       No             Yes                      No   \n",
       "3        Yes       No             Yes                     Yes   \n",
       "4        Yes      Yes             Yes                     Yes   \n",
       "\n",
       "  HasInternetService  ... HasInternetService_le HasOnlineSecurityService_le  \\\n",
       "0                 No  ...                     2                           1   \n",
       "1                 No  ...                     2                           1   \n",
       "2        Fiber optic  ...                     1                           0   \n",
       "3        Fiber optic  ...                     1                           0   \n",
       "4        Fiber optic  ...                     1                           2   \n",
       "\n",
       "  HasOnlineBackup_le HasDeviceProtection_le HasTechSupportAccess_le  \\\n",
       "0                  1                      1                       1   \n",
       "1                  1                      1                       1   \n",
       "2                  0                      0                       2   \n",
       "3                  0                      2                       0   \n",
       "4                  2                      2                       2   \n",
       "\n",
       "  HasOnlineTV_le HasMovieSubscription_le HasContractPhone_le  \\\n",
       "0              1                       1                   1   \n",
       "1              1                       1                   2   \n",
       "2              0                       0                   0   \n",
       "3              0                       0                   0   \n",
       "4              2                       2                   2   \n",
       "\n",
       "  IsBillingPaperless_le  PaymentMethod_le  \n",
       "0                     0                 3  \n",
       "1                     0                 1  \n",
       "2                     1                 2  \n",
       "3                     0                 3  \n",
       "4                     0                 1  \n",
       "\n",
       "[5 rows x 36 columns]"
      ]
     },
     "execution_count": 14,
     "metadata": {},
     "output_type": "execute_result"
    }
   ],
   "source": [
    "le = LabelEncoder()\n",
    "for s in cat_cols:\n",
    "    le.fit(data[s])\n",
    "    data[s+'_le'] = le.transform(data[s])\n",
    "    features_labels.append(s+'_le')\n",
    "\n",
    "print(data.shape)\n",
    "data.head()"
   ]
  },
  {
   "cell_type": "markdown",
   "metadata": {},
   "source": [
    "<a id='label_for_learn_linear_model_OneHotEncoder'></a>\n",
    "\n",
    "### OneHotEncoder для категориальных признаков\n",
    "\n",
    "[Перейти к \"Оглавлению\"](#Main)"
   ]
  },
  {
   "cell_type": "code",
   "execution_count": 15,
   "metadata": {},
   "outputs": [
    {
     "name": "stdout",
     "output_type": "stream",
     "text": [
      "(5282, 63)\n"
     ]
    },
    {
     "data": {
      "text/html": [
       "<div>\n",
       "<style scoped>\n",
       "    .dataframe tbody tr th:only-of-type {\n",
       "        vertical-align: middle;\n",
       "    }\n",
       "\n",
       "    .dataframe tbody tr th {\n",
       "        vertical-align: top;\n",
       "    }\n",
       "\n",
       "    .dataframe thead th {\n",
       "        text-align: right;\n",
       "    }\n",
       "</style>\n",
       "<table border=\"1\" class=\"dataframe\">\n",
       "  <thead>\n",
       "    <tr style=\"text-align: right;\">\n",
       "      <th></th>\n",
       "      <th>ClientPeriod</th>\n",
       "      <th>MonthlySpending</th>\n",
       "      <th>TotalSpent</th>\n",
       "      <th>Churn</th>\n",
       "      <th>Sex_le</th>\n",
       "      <th>IsSeniorCitizen_le</th>\n",
       "      <th>HasPartner_le</th>\n",
       "      <th>HasChild_le</th>\n",
       "      <th>HasPhoneService_le</th>\n",
       "      <th>HasMultiplePhoneNumbers_le</th>\n",
       "      <th>...</th>\n",
       "      <th>HasMovieSubscription=2</th>\n",
       "      <th>HasContractPhone=0</th>\n",
       "      <th>HasContractPhone=1</th>\n",
       "      <th>HasContractPhone=2</th>\n",
       "      <th>IsBillingPaperless=0</th>\n",
       "      <th>IsBillingPaperless=1</th>\n",
       "      <th>PaymentMethod=0</th>\n",
       "      <th>PaymentMethod=1</th>\n",
       "      <th>PaymentMethod=2</th>\n",
       "      <th>PaymentMethod=3</th>\n",
       "    </tr>\n",
       "  </thead>\n",
       "  <tbody>\n",
       "    <tr>\n",
       "      <th>0</th>\n",
       "      <td>55</td>\n",
       "      <td>19.50</td>\n",
       "      <td>1026.35</td>\n",
       "      <td>0</td>\n",
       "      <td>1</td>\n",
       "      <td>0</td>\n",
       "      <td>1</td>\n",
       "      <td>1</td>\n",
       "      <td>1</td>\n",
       "      <td>0</td>\n",
       "      <td>...</td>\n",
       "      <td>0.0</td>\n",
       "      <td>0.0</td>\n",
       "      <td>1.0</td>\n",
       "      <td>0.0</td>\n",
       "      <td>1.0</td>\n",
       "      <td>0.0</td>\n",
       "      <td>0.0</td>\n",
       "      <td>0.0</td>\n",
       "      <td>0.0</td>\n",
       "      <td>1.0</td>\n",
       "    </tr>\n",
       "    <tr>\n",
       "      <th>1</th>\n",
       "      <td>72</td>\n",
       "      <td>25.85</td>\n",
       "      <td>1872.20</td>\n",
       "      <td>0</td>\n",
       "      <td>1</td>\n",
       "      <td>0</td>\n",
       "      <td>1</td>\n",
       "      <td>0</td>\n",
       "      <td>1</td>\n",
       "      <td>2</td>\n",
       "      <td>...</td>\n",
       "      <td>0.0</td>\n",
       "      <td>0.0</td>\n",
       "      <td>0.0</td>\n",
       "      <td>1.0</td>\n",
       "      <td>1.0</td>\n",
       "      <td>0.0</td>\n",
       "      <td>0.0</td>\n",
       "      <td>1.0</td>\n",
       "      <td>0.0</td>\n",
       "      <td>0.0</td>\n",
       "    </tr>\n",
       "    <tr>\n",
       "      <th>2</th>\n",
       "      <td>1</td>\n",
       "      <td>75.90</td>\n",
       "      <td>75.90</td>\n",
       "      <td>1</td>\n",
       "      <td>1</td>\n",
       "      <td>0</td>\n",
       "      <td>0</td>\n",
       "      <td>0</td>\n",
       "      <td>1</td>\n",
       "      <td>0</td>\n",
       "      <td>...</td>\n",
       "      <td>0.0</td>\n",
       "      <td>1.0</td>\n",
       "      <td>0.0</td>\n",
       "      <td>0.0</td>\n",
       "      <td>0.0</td>\n",
       "      <td>1.0</td>\n",
       "      <td>0.0</td>\n",
       "      <td>0.0</td>\n",
       "      <td>1.0</td>\n",
       "      <td>0.0</td>\n",
       "    </tr>\n",
       "    <tr>\n",
       "      <th>3</th>\n",
       "      <td>32</td>\n",
       "      <td>79.30</td>\n",
       "      <td>2570.00</td>\n",
       "      <td>0</td>\n",
       "      <td>0</td>\n",
       "      <td>1</td>\n",
       "      <td>1</td>\n",
       "      <td>0</td>\n",
       "      <td>1</td>\n",
       "      <td>2</td>\n",
       "      <td>...</td>\n",
       "      <td>0.0</td>\n",
       "      <td>1.0</td>\n",
       "      <td>0.0</td>\n",
       "      <td>0.0</td>\n",
       "      <td>1.0</td>\n",
       "      <td>0.0</td>\n",
       "      <td>0.0</td>\n",
       "      <td>0.0</td>\n",
       "      <td>0.0</td>\n",
       "      <td>1.0</td>\n",
       "    </tr>\n",
       "    <tr>\n",
       "      <th>4</th>\n",
       "      <td>60</td>\n",
       "      <td>115.25</td>\n",
       "      <td>6758.45</td>\n",
       "      <td>0</td>\n",
       "      <td>0</td>\n",
       "      <td>0</td>\n",
       "      <td>1</td>\n",
       "      <td>1</td>\n",
       "      <td>1</td>\n",
       "      <td>2</td>\n",
       "      <td>...</td>\n",
       "      <td>1.0</td>\n",
       "      <td>0.0</td>\n",
       "      <td>0.0</td>\n",
       "      <td>1.0</td>\n",
       "      <td>1.0</td>\n",
       "      <td>0.0</td>\n",
       "      <td>0.0</td>\n",
       "      <td>1.0</td>\n",
       "      <td>0.0</td>\n",
       "      <td>0.0</td>\n",
       "    </tr>\n",
       "  </tbody>\n",
       "</table>\n",
       "<p>5 rows × 63 columns</p>\n",
       "</div>"
      ],
      "text/plain": [
       "   ClientPeriod  MonthlySpending  TotalSpent  Churn  Sex_le  \\\n",
       "0            55            19.50     1026.35      0       1   \n",
       "1            72            25.85     1872.20      0       1   \n",
       "2             1            75.90       75.90      1       1   \n",
       "3            32            79.30     2570.00      0       0   \n",
       "4            60           115.25     6758.45      0       0   \n",
       "\n",
       "   IsSeniorCitizen_le  HasPartner_le  HasChild_le  HasPhoneService_le  \\\n",
       "0                   0              1            1                   1   \n",
       "1                   0              1            0                   1   \n",
       "2                   0              0            0                   1   \n",
       "3                   1              1            0                   1   \n",
       "4                   0              1            1                   1   \n",
       "\n",
       "   HasMultiplePhoneNumbers_le  ...  HasMovieSubscription=2  \\\n",
       "0                           0  ...                     0.0   \n",
       "1                           2  ...                     0.0   \n",
       "2                           0  ...                     0.0   \n",
       "3                           2  ...                     0.0   \n",
       "4                           2  ...                     1.0   \n",
       "\n",
       "   HasContractPhone=0  HasContractPhone=1  HasContractPhone=2  \\\n",
       "0                 0.0                 1.0                 0.0   \n",
       "1                 0.0                 0.0                 1.0   \n",
       "2                 1.0                 0.0                 0.0   \n",
       "3                 1.0                 0.0                 0.0   \n",
       "4                 0.0                 0.0                 1.0   \n",
       "\n",
       "   IsBillingPaperless=0  IsBillingPaperless=1  PaymentMethod=0  \\\n",
       "0                   1.0                   0.0              0.0   \n",
       "1                   1.0                   0.0              0.0   \n",
       "2                   0.0                   1.0              0.0   \n",
       "3                   1.0                   0.0              0.0   \n",
       "4                   1.0                   0.0              0.0   \n",
       "\n",
       "   PaymentMethod=1  PaymentMethod=2  PaymentMethod=3  \n",
       "0              0.0              0.0              1.0  \n",
       "1              1.0              0.0              0.0  \n",
       "2              0.0              1.0              0.0  \n",
       "3              0.0              0.0              1.0  \n",
       "4              1.0              0.0              0.0  \n",
       "\n",
       "[5 rows x 63 columns]"
      ]
     },
     "execution_count": 15,
     "metadata": {},
     "output_type": "execute_result"
    }
   ],
   "source": [
    "ohe = OneHotEncoder(handle_unknown='ignore')\n",
    "for s in cat_cols:\n",
    "    new_ohe_features = ohe.fit_transform(data[s].values.reshape(-1, 1)).toarray()\n",
    "    tmp = pd.DataFrame(new_ohe_features, columns=[s+'='+str(i) for i in range(new_ohe_features.shape[1])])\n",
    "    data = pd.concat([data, tmp], axis=1)\n",
    "    data.drop([s], axis=1, inplace=True)\n",
    "    [features_labels.append(s+'='+str(i)) for i in range(new_ohe_features.shape[1])]\n",
    "    \n",
    "\n",
    "print(data.shape)\n",
    "data.head()"
   ]
  },
  {
   "cell_type": "markdown",
   "metadata": {},
   "source": [
    "<a id='label_for_learn_linear_model_StandardScaler'></a>\n",
    "\n",
    "### Нормализация числовых признаков\n",
    "\n",
    "[Перейти к \"Оглавлению\"](#Main)"
   ]
  },
  {
   "cell_type": "code",
   "execution_count": 16,
   "metadata": {},
   "outputs": [
    {
     "name": "stdout",
     "output_type": "stream",
     "text": [
      "ClientPeriod\n",
      "MonthlySpending\n",
      "TotalSpent\n",
      "(5282, 63)\n"
     ]
    },
    {
     "data": {
      "text/html": [
       "<div>\n",
       "<style scoped>\n",
       "    .dataframe tbody tr th:only-of-type {\n",
       "        vertical-align: middle;\n",
       "    }\n",
       "\n",
       "    .dataframe tbody tr th {\n",
       "        vertical-align: top;\n",
       "    }\n",
       "\n",
       "    .dataframe thead th {\n",
       "        text-align: right;\n",
       "    }\n",
       "</style>\n",
       "<table border=\"1\" class=\"dataframe\">\n",
       "  <thead>\n",
       "    <tr style=\"text-align: right;\">\n",
       "      <th></th>\n",
       "      <th>Churn</th>\n",
       "      <th>Sex_le</th>\n",
       "      <th>IsSeniorCitizen_le</th>\n",
       "      <th>HasPartner_le</th>\n",
       "      <th>HasChild_le</th>\n",
       "      <th>HasPhoneService_le</th>\n",
       "      <th>HasMultiplePhoneNumbers_le</th>\n",
       "      <th>HasInternetService_le</th>\n",
       "      <th>HasOnlineSecurityService_le</th>\n",
       "      <th>HasOnlineBackup_le</th>\n",
       "      <th>...</th>\n",
       "      <th>HasContractPhone=2</th>\n",
       "      <th>IsBillingPaperless=0</th>\n",
       "      <th>IsBillingPaperless=1</th>\n",
       "      <th>PaymentMethod=0</th>\n",
       "      <th>PaymentMethod=1</th>\n",
       "      <th>PaymentMethod=2</th>\n",
       "      <th>PaymentMethod=3</th>\n",
       "      <th>ClientPeriod_ss</th>\n",
       "      <th>MonthlySpending_ss</th>\n",
       "      <th>TotalSpent_ss</th>\n",
       "    </tr>\n",
       "  </thead>\n",
       "  <tbody>\n",
       "    <tr>\n",
       "      <th>0</th>\n",
       "      <td>0</td>\n",
       "      <td>1</td>\n",
       "      <td>0</td>\n",
       "      <td>1</td>\n",
       "      <td>1</td>\n",
       "      <td>1</td>\n",
       "      <td>0</td>\n",
       "      <td>2</td>\n",
       "      <td>1</td>\n",
       "      <td>1</td>\n",
       "      <td>...</td>\n",
       "      <td>0.0</td>\n",
       "      <td>1.0</td>\n",
       "      <td>0.0</td>\n",
       "      <td>0.0</td>\n",
       "      <td>0.0</td>\n",
       "      <td>0.0</td>\n",
       "      <td>1.0</td>\n",
       "      <td>0.920767</td>\n",
       "      <td>-1.505447</td>\n",
       "      <td>-0.558054</td>\n",
       "    </tr>\n",
       "    <tr>\n",
       "      <th>1</th>\n",
       "      <td>0</td>\n",
       "      <td>1</td>\n",
       "      <td>0</td>\n",
       "      <td>1</td>\n",
       "      <td>0</td>\n",
       "      <td>1</td>\n",
       "      <td>2</td>\n",
       "      <td>2</td>\n",
       "      <td>1</td>\n",
       "      <td>1</td>\n",
       "      <td>...</td>\n",
       "      <td>1.0</td>\n",
       "      <td>1.0</td>\n",
       "      <td>0.0</td>\n",
       "      <td>0.0</td>\n",
       "      <td>1.0</td>\n",
       "      <td>0.0</td>\n",
       "      <td>0.0</td>\n",
       "      <td>1.613288</td>\n",
       "      <td>-1.294998</td>\n",
       "      <td>-0.184918</td>\n",
       "    </tr>\n",
       "    <tr>\n",
       "      <th>2</th>\n",
       "      <td>1</td>\n",
       "      <td>1</td>\n",
       "      <td>0</td>\n",
       "      <td>0</td>\n",
       "      <td>0</td>\n",
       "      <td>1</td>\n",
       "      <td>0</td>\n",
       "      <td>1</td>\n",
       "      <td>0</td>\n",
       "      <td>0</td>\n",
       "      <td>...</td>\n",
       "      <td>0.0</td>\n",
       "      <td>0.0</td>\n",
       "      <td>1.0</td>\n",
       "      <td>0.0</td>\n",
       "      <td>0.0</td>\n",
       "      <td>1.0</td>\n",
       "      <td>0.0</td>\n",
       "      <td>-1.279005</td>\n",
       "      <td>0.363737</td>\n",
       "      <td>-0.977334</td>\n",
       "    </tr>\n",
       "    <tr>\n",
       "      <th>3</th>\n",
       "      <td>0</td>\n",
       "      <td>0</td>\n",
       "      <td>1</td>\n",
       "      <td>1</td>\n",
       "      <td>0</td>\n",
       "      <td>1</td>\n",
       "      <td>2</td>\n",
       "      <td>1</td>\n",
       "      <td>0</td>\n",
       "      <td>0</td>\n",
       "      <td>...</td>\n",
       "      <td>0.0</td>\n",
       "      <td>1.0</td>\n",
       "      <td>0.0</td>\n",
       "      <td>0.0</td>\n",
       "      <td>0.0</td>\n",
       "      <td>0.0</td>\n",
       "      <td>1.0</td>\n",
       "      <td>-0.016173</td>\n",
       "      <td>0.476418</td>\n",
       "      <td>0.122908</td>\n",
       "    </tr>\n",
       "    <tr>\n",
       "      <th>4</th>\n",
       "      <td>0</td>\n",
       "      <td>0</td>\n",
       "      <td>0</td>\n",
       "      <td>1</td>\n",
       "      <td>1</td>\n",
       "      <td>1</td>\n",
       "      <td>2</td>\n",
       "      <td>1</td>\n",
       "      <td>2</td>\n",
       "      <td>2</td>\n",
       "      <td>...</td>\n",
       "      <td>1.0</td>\n",
       "      <td>1.0</td>\n",
       "      <td>0.0</td>\n",
       "      <td>0.0</td>\n",
       "      <td>1.0</td>\n",
       "      <td>0.0</td>\n",
       "      <td>0.0</td>\n",
       "      <td>1.124450</td>\n",
       "      <td>1.667856</td>\n",
       "      <td>1.970592</td>\n",
       "    </tr>\n",
       "  </tbody>\n",
       "</table>\n",
       "<p>5 rows × 63 columns</p>\n",
       "</div>"
      ],
      "text/plain": [
       "   Churn  Sex_le  IsSeniorCitizen_le  HasPartner_le  HasChild_le  \\\n",
       "0      0       1                   0              1            1   \n",
       "1      0       1                   0              1            0   \n",
       "2      1       1                   0              0            0   \n",
       "3      0       0                   1              1            0   \n",
       "4      0       0                   0              1            1   \n",
       "\n",
       "   HasPhoneService_le  HasMultiplePhoneNumbers_le  HasInternetService_le  \\\n",
       "0                   1                           0                      2   \n",
       "1                   1                           2                      2   \n",
       "2                   1                           0                      1   \n",
       "3                   1                           2                      1   \n",
       "4                   1                           2                      1   \n",
       "\n",
       "   HasOnlineSecurityService_le  HasOnlineBackup_le  ...  HasContractPhone=2  \\\n",
       "0                            1                   1  ...                 0.0   \n",
       "1                            1                   1  ...                 1.0   \n",
       "2                            0                   0  ...                 0.0   \n",
       "3                            0                   0  ...                 0.0   \n",
       "4                            2                   2  ...                 1.0   \n",
       "\n",
       "   IsBillingPaperless=0  IsBillingPaperless=1  PaymentMethod=0  \\\n",
       "0                   1.0                   0.0              0.0   \n",
       "1                   1.0                   0.0              0.0   \n",
       "2                   0.0                   1.0              0.0   \n",
       "3                   1.0                   0.0              0.0   \n",
       "4                   1.0                   0.0              0.0   \n",
       "\n",
       "   PaymentMethod=1  PaymentMethod=2  PaymentMethod=3  ClientPeriod_ss  \\\n",
       "0              0.0              0.0              1.0         0.920767   \n",
       "1              1.0              0.0              0.0         1.613288   \n",
       "2              0.0              1.0              0.0        -1.279005   \n",
       "3              0.0              0.0              1.0        -0.016173   \n",
       "4              1.0              0.0              0.0         1.124450   \n",
       "\n",
       "   MonthlySpending_ss  TotalSpent_ss  \n",
       "0           -1.505447      -0.558054  \n",
       "1           -1.294998      -0.184918  \n",
       "2            0.363737      -0.977334  \n",
       "3            0.476418       0.122908  \n",
       "4            1.667856       1.970592  \n",
       "\n",
       "[5 rows x 63 columns]"
      ]
     },
     "execution_count": 16,
     "metadata": {},
     "output_type": "execute_result"
    }
   ],
   "source": [
    "scaler = StandardScaler()\n",
    "for i in num_cols:\n",
    "    print(i)\n",
    "    data[i+'_ss'] = scaler.fit_transform(data[i].values.reshape(-1, 1))\n",
    "    features_labels.append(i+'_ss') \n",
    "    data.drop([i], axis=1, inplace=True)\n",
    "\n",
    "print(data.shape)\n",
    "data.head()"
   ]
  },
  {
   "cell_type": "markdown",
   "metadata": {},
   "source": [
    "<a id='label_for_learn_linear_model_LogisticRegression'></a>\n",
    "\n",
    "### Ищем лучшие параметры для LogisticRegression\n",
    "\n",
    "[Перейти к \"Оглавлению\"](#Main)"
   ]
  },
  {
   "cell_type": "code",
   "execution_count": 17,
   "metadata": {},
   "outputs": [
    {
     "name": "stdout",
     "output_type": "stream",
     "text": [
      "How long: 39.03, s\n",
      "LogisticRegression - best estimator:  LogisticRegression(C=10, class_weight=None, dual=False, fit_intercept=True,\n",
      "                   intercept_scaling=1, l1_ratio=0.1, max_iter=100,\n",
      "                   multi_class='auto', n_jobs=-1, penalty='elasticnet',\n",
      "                   random_state=None, solver='saga', tol=0.0001, verbose=0,\n",
      "                   warm_start=False)\n",
      "LogisticRegression - best score:  0.8404975979700445\n",
      "LogisticRegression - best predict:  0.7134198833657318\n"
     ]
    }
   ],
   "source": [
    "import time\n",
    "\n",
    "import warnings\n",
    "from sklearn.exceptions import ConvergenceWarning\n",
    "warnings.filterwarnings(action='ignore', category=ConvergenceWarning)\n",
    "\n",
    "t = time.time()\n",
    "parameters = {\n",
    "    'penalty': ('elasticnet', ),\n",
    "    'C': (100, 10, 1, 0.1, 0.01, 0.001),\n",
    "    'class_weight': ('balanced', None),\n",
    "    'solver': ('saga',),\n",
    "    'n_jobs': (-1,),\n",
    "    'l1_ratio': (0.1, 0.3, 0.5, 0.9)\n",
    "}\n",
    "\n",
    "lr_clf =  LogisticRegression()\n",
    "gs_lr_clf = GridSearchCV(lr_clf, parameters, cv=3, scoring='roc_auc')\n",
    "\n",
    "X_train, X_test, y_train, y_test = train_test_split(\n",
    "    data[features_labels], data[target_col], stratify=data[target_col], random_state=42, test_size=0.2\n",
    ")\n",
    "gs_lr_clf.fit(X_train, y_train)\n",
    "\n",
    "# End estimate. Writing some info\n",
    "print(f'How long: {\"%.2f\" % (time.time()-t)}, s')\n",
    "print('LogisticRegression - best estimator: ', gs_lr_clf.best_estimator_)\n",
    "print('LogisticRegression - best score: ', gs_lr_clf.best_score_)\n",
    "print(\"LogisticRegression - best predict: \", roc_auc_score(y_test, gs_lr_clf.predict(X_test)))"
   ]
  },
  {
   "cell_type": "markdown",
   "metadata": {},
   "source": [
    "Выпишите какое лучшее качество и с какими параметрами вам удалось получить\n",
    "\n",
    "LogisticRegression - best predict:  0.7140609090067574\n",
    "\n",
    "LogisticRegression - best estimator:  LogisticRegression(C=100, class_weight=None, dual=False, fit_intercept=True,\n",
    "                   intercept_scaling=1, l1_ratio=0.1, max_iter=100,\n",
    "                   multi_class='auto', n_jobs=-1, penalty='elasticnet',\n",
    "                   random_state=None, solver='saga', tol=0.0001, verbose=0,\n",
    "                   warm_start=False)"
   ]
  },
  {
   "cell_type": "code",
   "execution_count": null,
   "metadata": {},
   "outputs": [],
   "source": []
  },
  {
   "cell_type": "markdown",
   "metadata": {},
   "source": [
    "<a id='label_for_learn_catboost'></a>\n",
    "\n",
    "## Применение градиентного бустинга (2 балла)\n",
    "\n",
    "Если вы хотите получить баллы за точный ответ, то стоит попробовать градиентный бустинг. Часто градиентный бустинг с дефолтными параметрами даст вам 80% результата за 0% усилий.\n",
    "\n",
    "Мы будем использовать catboost, поэтому нам не надо кодировать категориальные признаки. catboost сделает это сам (в .fit() надо передать cat_features=cat_cols). А численные признаки нормировать для моделей, основанных на деревьях не нужно.\n",
    "\n",
    "1) Разделите выборку на train/valid. Протестируйте catboost cо стандартными параметрами.\n",
    "\n",
    "2) Протестируйте разные занчения параметроа количества деревьев и learning_rate'а и выберите лучшую по метрике ROC-AUC комбинацию. \n",
    "\n",
    "(Дополнительно) Есть некоторые сложности с тем, чтобы использовать CatBoostClassifier вместе с GridSearchCV, поэтому мы не просим использовать кроссвалидацию. Но можете попробовать)\n",
    "\n",
    "[Перейти к \"Оглавлению\"](#Main)"
   ]
  },
  {
   "cell_type": "code",
   "execution_count": 18,
   "metadata": {},
   "outputs": [
    {
     "name": "stdout",
     "output_type": "stream",
     "text": [
      "Requirement already satisfied: catboost in c:\\users\\user\\anaconda3\\lib\\site-packages (1.0.0)\n",
      "Requirement already satisfied: numpy>=1.16.0 in c:\\users\\user\\anaconda3\\lib\\site-packages (from catboost) (1.18.1)\n",
      "Requirement already satisfied: matplotlib in c:\\users\\user\\anaconda3\\lib\\site-packages (from catboost) (3.1.3)\n",
      "Requirement already satisfied: six in c:\\users\\user\\anaconda3\\lib\\site-packages (from catboost) (1.14.0)\n",
      "Requirement already satisfied: scipy in c:\\users\\user\\anaconda3\\lib\\site-packages (from catboost) (1.4.1)\n",
      "Requirement already satisfied: graphviz in c:\\users\\user\\anaconda3\\lib\\site-packages (from catboost) (0.17)\n",
      "Requirement already satisfied: pandas>=0.24.0 in c:\\users\\user\\anaconda3\\lib\\site-packages (from catboost) (1.0.1)\n",
      "Requirement already satisfied: plotly in c:\\users\\user\\anaconda3\\lib\\site-packages (from catboost) (5.3.1)\n",
      "Requirement already satisfied: kiwisolver>=1.0.1 in c:\\users\\user\\anaconda3\\lib\\site-packages (from matplotlib->catboost) (1.1.0)\n",
      "Requirement already satisfied: pyparsing!=2.0.4,!=2.1.2,!=2.1.6,>=2.0.1 in c:\\users\\user\\anaconda3\\lib\\site-packages (from matplotlib->catboost) (2.4.6)\n",
      "Requirement already satisfied: python-dateutil>=2.1 in c:\\users\\user\\anaconda3\\lib\\site-packages (from matplotlib->catboost) (2.8.1)\n",
      "Requirement already satisfied: cycler>=0.10 in c:\\users\\user\\anaconda3\\lib\\site-packages (from matplotlib->catboost) (0.10.0)\n",
      "Requirement already satisfied: pytz>=2017.2 in c:\\users\\user\\anaconda3\\lib\\site-packages (from pandas>=0.24.0->catboost) (2019.3)\n",
      "Requirement already satisfied: tenacity>=6.2.0 in c:\\users\\user\\anaconda3\\lib\\site-packages (from plotly->catboost) (8.0.1)\n",
      "Requirement already satisfied: setuptools in c:\\users\\user\\anaconda3\\lib\\site-packages (from kiwisolver>=1.0.1->matplotlib->catboost) (49.2.0)\n"
     ]
    },
    {
     "name": "stderr",
     "output_type": "stream",
     "text": [
      "WARNING: You are using pip version 20.1.1; however, version 21.3.1 is available.\n",
      "You should consider upgrading via the 'c:\\users\\user\\anaconda3\\python.exe -m pip install --upgrade pip' command.\n"
     ]
    }
   ],
   "source": [
    "!pip install catboost"
   ]
  },
  {
   "cell_type": "code",
   "execution_count": 20,
   "metadata": {},
   "outputs": [
    {
     "name": "stdout",
     "output_type": "stream",
     "text": [
      "Fitting 5 folds for each of 405 candidates, totalling 2025 fits\n"
     ]
    },
    {
     "name": "stderr",
     "output_type": "stream",
     "text": [
      "[Parallel(n_jobs=-1)]: Using backend LokyBackend with 12 concurrent workers.\n",
      "[Parallel(n_jobs=-1)]: Done   1 tasks      | elapsed:    0.2s\n",
      "[Parallel(n_jobs=-1)]: Done  74 tasks      | elapsed:    3.4s\n",
      "[Parallel(n_jobs=-1)]: Done 197 tasks      | elapsed:    8.7s\n",
      "[Parallel(n_jobs=-1)]: Done 368 tasks      | elapsed:   19.6s\n",
      "[Parallel(n_jobs=-1)]: Done 589 tasks      | elapsed:   36.9s\n",
      "[Parallel(n_jobs=-1)]: Done 858 tasks      | elapsed:   54.2s\n",
      "[Parallel(n_jobs=-1)]: Done 1177 tasks      | elapsed:  1.3min\n",
      "[Parallel(n_jobs=-1)]: Done 1544 tasks      | elapsed:  1.9min\n",
      "[Parallel(n_jobs=-1)]: Done 1961 tasks      | elapsed:  2.8min\n",
      "[Parallel(n_jobs=-1)]: Done 2025 out of 2025 | elapsed:  3.0min finished\n"
     ]
    },
    {
     "name": "stdout",
     "output_type": "stream",
     "text": [
      "How long: 612.16, s\n",
      "CatBoostClassifier - best estimator:  {'iterations': 100, 'learning_rate': 0.1, 'depth': 2, 'l2_leaf_reg': 0.5, 'loss_function': 'Logloss', 'random_seed': 4, 'verbose': False, 'eval_metric': 'AUC', 'min_data_in_leaf': 1}\n",
      "CatBoostClassifier - best score:  0.8468480901363865\n",
      "CatBoostClassifier - best predict:  0.701138572618717\n"
     ]
    }
   ],
   "source": [
    "from catboost import CatBoostClassifier\n",
    "\n",
    "\n",
    "cbc_clf = CatBoostClassifier(iterations=400,\n",
    "                       depth=4,\n",
    "                       learning_rate=0.05,\n",
    "                       loss_function='Logloss',\n",
    "                       verbose=False,\n",
    "                       random_seed = 4,\n",
    "                       l2_leaf_reg = 40,\n",
    "                       eval_metric='AUC'\n",
    "                       )\n",
    "\n",
    "# parametrs_cbc = {\n",
    "#     'iterations': [50, 100, 150, 200],\n",
    "#     \"learning_rate\": [0.01, 0.05, 0.1, 0.5],\n",
    "#     'min_data_in_leaf': [3, 6, 9, 12],\n",
    "#     'depth': [2, 3, 4, 5, 6],\n",
    "#     'l2_leaf_reg': [0, 0.01, 0.05, 0.1, 0.5]    \n",
    "# }\n",
    "\n",
    "parametrs_cbc = {\n",
    "    'iterations': [100, 150, 200],\n",
    "    \"learning_rate\": [0.01, 0.05, 0.1],\n",
    "    'min_data_in_leaf': [1, 2, 3],\n",
    "    'depth': [2, 3, 4],\n",
    "    'l2_leaf_reg': [0, 0.01, 0.05, 0.1, 0.5]    \n",
    "}\n",
    "\n",
    "cbc_grid = GridSearchCV(cbc_clf, parametrs_cbc, cv=5, verbose=4, scoring='roc_auc', refit=True, n_jobs=-1)\n",
    "cbc_grid.fit(X_train, y_train)\n",
    "\n",
    "# End estimate. Writing some info\n",
    "print(f'How long: {\"%.2f\" % (time.time()-t)}, s')\n",
    "print('CatBoostClassifier - best estimator: ', cbc_grid.best_estimator_.get_params())\n",
    "print('CatBoostClassifier - best score: ', cbc_grid.best_score_)\n",
    "print(\"CatBoostClassifier - best predict: \", roc_auc_score(y_test, cbc_grid.predict(X_test)))"
   ]
  },
  {
   "cell_type": "code",
   "execution_count": null,
   "metadata": {},
   "outputs": [],
   "source": []
  },
  {
   "cell_type": "markdown",
   "metadata": {},
   "source": [
    "<a id='label_for_learn_stacking'></a>\n",
    "\n",
    "# Эксперимент с построением стекинга на разных методах\n",
    "\n",
    "[Перейти к \"Оглавлению\"](#Main)"
   ]
  },
  {
   "cell_type": "markdown",
   "metadata": {},
   "source": [
    "<a id='label_for_learn_stacking_try'></a>\n",
    "\n",
    "## Что еще стоит попробовать\n",
    "- использовать голосование\n",
    "- разбить выборку на 2 части и на каждой подвыборке провести обучение алгоритмов\n",
    "- использовать sklearn.multiclass.OneVsRestClassifier\n",
    "- получше почистить данные\n",
    "- посмотреть на ошибки в определении классов и на сами фичи\n",
    "- зафиксировать random_state, тк от него зависит качество модели\n",
    "- использовать sklearn.preprocessing.PowerTransformer\n",
    "- использовать sklearn.preprocessing.Normalizer\n",
    "- использовать sklearn.preprocessing.SplineTransformer\n",
    "- попробовать Classification with Vowpal Wabbit\n",
    "- попробовать другой метаалгоритм\n",
    "- метаалгоритм в стекинге лучше обучать на другой подвыборке (!)\n",
    "- Заменить 0 и 1 на вероятности каждого значения (?)\n",
    "- признаки с бинарными значениями образуют 3 новых признака, которые плохо вляют на оценку. Стоит оставить только 1 признак???\n",
    "\n",
    "\n",
    "from sklearn.ensemble import AdaBoostClassifier\n",
    "from sklearn.ensemble import BaggingClassifier\n",
    "from sklearn.ensemble import ExtraTreesClassifier\n",
    "from sklearn.svm import SVC\n",
    "\n",
    "[Перейти к \"Оглавлению\"](#Main)"
   ]
  },
  {
   "cell_type": "code",
   "execution_count": null,
   "metadata": {},
   "outputs": [],
   "source": [
    "################################################################################################################\n",
    "from tqdm import tqdm\n",
    "from sklearn.ensemble import AdaBoostClassifier\n",
    "from sklearn.metrics import roc_auc_score\n",
    "from sklearn.linear_model import LogisticRegression\n",
    "\n",
    "import warnings\n",
    "from sklearn.exceptions import ConvergenceWarning\n",
    "warnings.filterwarnings(action='ignore', category=ConvergenceWarning)\n",
    "\n",
    "answer = []\n",
    "\n",
    "for i in tqdm(range(1, 20)):\n",
    "    clf = AdaBoostClassifier(base_estimator=gs_lr_clf.best_estimator_, n_estimators=i, random_state=0)\n",
    "    clf.fit(X_train, y_train)\n",
    "    answer.append(roc_auc_score(y_test, clf.predict(X_test)))\n",
    "    \n",
    "print(answer)\n",
    "################################################################################################################\n",
    "\n",
    "\n",
    "################################################################################################################\n",
    "from tqdm import tqdm\n",
    "from sklearn.ensemble import BaggingClassifier\n",
    "from sklearn.metrics import roc_auc_score\n",
    "from sklearn.linear_model import LogisticRegression\n",
    "\n",
    "import warnings\n",
    "from sklearn.exceptions import ConvergenceWarning\n",
    "warnings.filterwarnings(action='ignore', category=ConvergenceWarning)\n",
    "\n",
    "answer = []\n",
    "for i in tqdm(range(1, 20)):\n",
    "    clf = BaggingClassifier(base_estimator=gs_lr_clf.best_estimator_, n_estimators=i, random_state=0, n_jobs=-1)\n",
    "    clf.fit(X_train, y_train)\n",
    "    answer.append(roc_auc_score(y_test, clf.predict(X_test)))\n",
    "    \n",
    "print(max(answer))\n",
    "################################################################################################################\n",
    "\n",
    "\n",
    "################################################################################################################\n",
    "from tqdm import tqdm\n",
    "from sklearn.ensemble import ExtraTreesClassifier\n",
    "from sklearn.metrics import roc_auc_score\n",
    "from sklearn.linear_model import LogisticRegression\n",
    "\n",
    "import warnings\n",
    "from sklearn.exceptions import ConvergenceWarning\n",
    "warnings.filterwarnings(action='ignore', category=ConvergenceWarning)\n",
    "\n",
    "answer = []\n",
    "for i in tqdm(range(1, 20)):\n",
    "    clf = ExtraTreesClassifier(n_estimators=i*10, random_state=0, n_jobs=-1)\n",
    "    clf.fit(X_train, y_train)\n",
    "    answer.append(roc_auc_score(y_test, clf.predict(X_test)))\n",
    "    \n",
    "print(max(answer))\n",
    "################################################################################################################"
   ]
  },
  {
   "cell_type": "markdown",
   "metadata": {},
   "source": [
    "<a id='label_for_learn_stacking_cleaning'></a>\n",
    "\n",
    "## Чистка данных. Реализация через функцию\n",
    "### Реализация pipeline в следующий раз\n",
    "\n",
    "[Перейти к \"Оглавлению\"](#Main)"
   ]
  },
  {
   "cell_type": "code",
   "execution_count": 21,
   "metadata": {},
   "outputs": [],
   "source": [
    "import pandas as pd\n",
    "import numpy as np\n",
    "\n",
    "from sklearn.preprocessing import StandardScaler, RobustScaler, LabelEncoder, OneHotEncoder\n",
    "from sklearn.model_selection import train_test_split\n",
    "from sklearn.preprocessing import MaxAbsScaler\n",
    "from sklearn.feature_selection import SelectPercentile, f_classif\n",
    "from sklearn.feature_selection import SelectKBest, chi2\n",
    "from sklearn.preprocessing import QuantileTransformer\n",
    "from sklearn.preprocessing import PolynomialFeatures\n",
    "from sklearn.feature_selection import SelectFromModel\n",
    "\n",
    "\n",
    "\n",
    "def upload_and_prepare_data(where_data='computer', best=True):\n",
    "    \"\"\"\n",
    "    Вся очистка здесь для удобства использования\n",
    "    \"\"\"\n",
    "    \n",
    "    # Числовые признаки\n",
    "    num_cols = [\n",
    "        'ClientPeriod',\n",
    "        'MonthlySpending',\n",
    "        'TotalSpent'\n",
    "    ]\n",
    "\n",
    "    # Категориальные признаки\n",
    "    cat_cols = [\n",
    "        'Sex',\n",
    "        'IsSeniorCitizen',\n",
    "        'HasPartner',\n",
    "        'HasChild',\n",
    "        'HasPhoneService',\n",
    "        'HasMultiplePhoneNumbers',\n",
    "        'HasInternetService',\n",
    "        'HasOnlineSecurityService',\n",
    "        'HasOnlineBackup',\n",
    "        'HasDeviceProtection',\n",
    "        'HasTechSupportAccess',\n",
    "        'HasOnlineTV',\n",
    "        'HasMovieSubscription',\n",
    "        'HasContractPhone',\n",
    "        'IsBillingPaperless',\n",
    "        'PaymentMethod'\n",
    "    ]\n",
    "\n",
    "    \n",
    "    feature_cols = num_cols + cat_cols\n",
    "    target_col = 'Churn'\n",
    "    features_labels = []\n",
    "    \n",
    "    if where_data == 'computer':\n",
    "        data = pd.read_csv(r'C:\\Users\\user\\PycharmProjects\\DeepLearningSchool\\8.Algorithm_composition\\train.csv')\n",
    "        data_predict = pd.read_csv(r'C:\\Users\\user\\PycharmProjects\\DeepLearningSchool\\8.Algorithm_composition\\test.csv')\n",
    "    elif where_data == 'googleDisc':\n",
    "        from google.colab import drive\n",
    "        drive.mount('/content/drive')\n",
    "        data = pd.read_csv('/content/drive/My Drive/DeepLearningSchool/8.Algorithm_composition/hw/train.csv')\n",
    "        data_predict = pd.read_csv('/content/drive/My Drive/DeepLearningSchool/8.Algorithm_composition/hw/test.csv')\n",
    "    print(\"-\"*70)\n",
    "    print(f\"Количество строк {data.shape[0]} и количество признаков {data.shape[1]} для обучающей+валидационной выборки\")\n",
    "    print(f\"Количество строк {data_predict.shape[0]} и количество признаков {data_predict.shape[1]} для предсказаний\")\n",
    "    print(\"-\"*70)\n",
    "    \n",
    "    # Чтение данных для обучения модели\n",
    "    y = data['Churn']\n",
    "    data.drop(['Churn'], inplace=True, axis=True)\n",
    "    data['TotalSpent'] = data['TotalSpent'].replace(' ', '0')\n",
    "    data['TotalSpent'] = data['TotalSpent'].astype(float)\n",
    "    data['TotalSpent'] = data['TotalSpent'].replace(0, data['TotalSpent'].mean())\n",
    "\n",
    "    # Чтение данных для предсказания\n",
    "    data_predict['TotalSpent'] = data_predict['TotalSpent'].replace(' ', '0')\n",
    "    data_predict['TotalSpent'] = data_predict['TotalSpent'].astype(float)\n",
    "    data_predict['TotalSpent'] = data_predict['TotalSpent'].replace(0, data['TotalSpent'].mean())\n",
    "    X_predict = data_predict\n",
    "\n",
    "    #LabelEncoder для категориальных признаков\n",
    "    le = LabelEncoder()\n",
    "    for s in cat_cols:\n",
    "        le.fit(data[s])\n",
    "        data[s+'_le'] = le.transform(data[s])\n",
    "        X_predict[s+'_le'] = le.transform(X_predict[s])\n",
    "        features_labels.append(s+'_le')\n",
    "\n",
    "    # OneHotEncoder для категориальных признаков\n",
    "    ohe = OneHotEncoder(handle_unknown='ignore')\n",
    "    for s in cat_cols:\n",
    "        ohe.fit(data[s].values.reshape(-1, 1))\n",
    "        new_ohe_features = ohe.transform(X_predict[s].values.reshape(-1, 1)).toarray()\n",
    "        tmp = pd.DataFrame(new_ohe_features, \n",
    "                           columns=[s+'='+str(i) for i in range(new_ohe_features.shape[1])])\n",
    "        X_predict = pd.concat([X_predict, tmp], axis=1)\n",
    "        X_predict.drop([s], axis=1, inplace=True)\n",
    "        new_ohe_features = ohe.transform(data[s].values.reshape(-1, 1)).toarray()\n",
    "        tmp = pd.DataFrame(new_ohe_features, \n",
    "                           columns=[s+'='+str(i) for i in range(new_ohe_features.shape[1])])\n",
    "        data = pd.concat([data, tmp], axis=1)\n",
    "        data.drop([s], axis=1, inplace=True)\n",
    "        [features_labels.append(s+'='+str(i)) for i in range(new_ohe_features.shape[1])]\n",
    "\n",
    "    # Нормализация числовых признаков\n",
    "    scaler = StandardScaler()\n",
    "    for i in num_cols:\n",
    "        scaler.fit(data[i].values.reshape(-1, 1))\n",
    "        X_predict[i+'_ss'] = scaler.transform(X_predict[i].values.reshape(-1, 1))\n",
    "        X_predict.drop([i], axis=1, inplace=True)\n",
    "        data[i+'_ss'] = scaler.transform(data[i].values.reshape(-1, 1))\n",
    "        data.drop([i], axis=1, inplace=True)\n",
    "        features_labels.append(i+'_ss') \n",
    "\n",
    "    # Разбивание выборки для обучения на тестовую и валидационную\n",
    "    X_train, X_valid, y_train, y_valid = train_test_split(\n",
    "        data, y, stratify=y, random_state=42, test_size=0.2\n",
    "    )\n",
    "    \n",
    "    # Нормировка данных по размаху\n",
    "    transformer = MaxAbsScaler().fit(X_train)\n",
    "    X_train = pd.DataFrame(transformer.transform(X_train), columns=features_labels)\n",
    "    X_valid = pd.DataFrame(transformer.transform(X_valid), columns=features_labels)\n",
    "    X_predict = pd.DataFrame(transformer.transform(X_predict), columns=features_labels)\n",
    "    \n",
    "    # Добавление новых признаков\n",
    "    # Здесь появляются NaN. Проверить в чем дело\n",
    "    new_names = ['ClientPeriod_ss', 'MonthlySpending_ss', 'TotalSpent_ss']\n",
    "    pf = PolynomialFeatures(interaction_only=True, degree=2).fit(X_train[(new_names)])\n",
    "    X_train_pf = pf.transform(X_train[(new_names)])\n",
    "    X_valid_pf = pf.transform(X_valid[(new_names)])\n",
    "    X_predict_pf = pf.transform(X_predict[(new_names)])\n",
    "    new_names_pf = [f'new_names_{i}' for i in range(X_train_pf.shape[1])]\n",
    "    \n",
    "    X_train_pf = pd.DataFrame(X_train_pf, columns=new_names_pf)\n",
    "    X_valid_pf = pd.DataFrame(X_valid_pf, columns=new_names_pf)\n",
    "    X_predict_pf = pd.DataFrame(X_predict_pf, columns=new_names_pf)\n",
    "    \n",
    "    X_train = pd.concat([X_train, X_train_pf], axis=1)\n",
    "    X_valid = pd.concat([X_valid, X_valid_pf], axis=1)\n",
    "    X_predict = pd.concat([X_predict, X_predict_pf], axis=1)\n",
    "    \n",
    "    X_train = X_train.drop(['new_names_0'], axis=1)\n",
    "    X_valid = X_valid.drop(['new_names_0'], axis=1)\n",
    "    X_predict = X_predict.drop(['new_names_0'], axis=1)\n",
    "    \n",
    "    if best:\n",
    "        selecter = SelectKBest(f_classif, k=48).fit(X_train, y_train)\n",
    "        X_train = selecter.transform(X_train)\n",
    "        X_valid = selecter.transform(X_valid)\n",
    "        X_predict = selecter.transform(X_predict)\n",
    "    \n",
    "    print(\"-\"*70)\n",
    "    print(f\"Количество строк {X_train.shape[0]} и количество признаков {X_train.shape[1]} для тестовой выборки\")\n",
    "    print(f\"Количество строк {X_valid.shape[0]} и количество признаков {X_valid.shape[1]} для валидационной выборки\")\n",
    "    print(f\"Количество строк {X_predict.shape[0]} и количество признаков {X_predict.shape[1]} для предсказаний\")\n",
    "    print(\"-\"*70)\n",
    "    \n",
    "    return X_train, y_train, X_valid, y_valid, X_predict"
   ]
  },
  {
   "cell_type": "markdown",
   "metadata": {},
   "source": [
    "<a id='label_for_learn_stacking_selection'></a>\n",
    "\n",
    "### Поиск оптимального количества фичей с помощью SelectKBest для точного предсказания LogisticRegression и GradientBoostingClassifier\n",
    "\n",
    "[Перейти к \"Оглавлению\"](#Main)"
   ]
  },
  {
   "cell_type": "code",
   "execution_count": 22,
   "metadata": {
    "scrolled": true
   },
   "outputs": [
    {
     "name": "stdout",
     "output_type": "stream",
     "text": [
      "----------------------------------------------------------------------\n",
      "Количество строк 5282 и количество признаков 20 для обучающей+валидационной выборки\n",
      "Количество строк 1761 и количество признаков 19 для предсказаний\n",
      "----------------------------------------------------------------------\n",
      "----------------------------------------------------------------------\n",
      "Количество строк 4225 и количество признаков 68 для тестовой выборки\n",
      "Количество строк 1057 и количество признаков 68 для валидационной выборки\n",
      "Количество строк 1761 и количество признаков 68 для предсказаний\n",
      "----------------------------------------------------------------------\n",
      "Fitting 5 folds for each of 54 candidates, totalling 270 fits\n"
     ]
    },
    {
     "name": "stderr",
     "output_type": "stream",
     "text": [
      "[Parallel(n_jobs=-1)]: Using backend LokyBackend with 12 concurrent workers.\n",
      "[Parallel(n_jobs=-1)]: Done  28 tasks      | elapsed:    0.1s\n",
      "[Parallel(n_jobs=-1)]: Done 270 out of 270 | elapsed:    0.3s finished\n"
     ]
    },
    {
     "name": "stdout",
     "output_type": "stream",
     "text": [
      "Fitting 5 folds for each of 12 candidates, totalling 60 fits\n"
     ]
    },
    {
     "name": "stderr",
     "output_type": "stream",
     "text": [
      "[Parallel(n_jobs=-1)]: Using backend LokyBackend with 12 concurrent workers.\n",
      "[Parallel(n_jobs=-1)]: Done  26 tasks      | elapsed:    0.7s\n",
      "[Parallel(n_jobs=-1)]: Done  60 out of  60 | elapsed:    1.7s finished\n",
      "[Parallel(n_jobs=-1)]: Using backend LokyBackend with 12 concurrent workers.\n"
     ]
    },
    {
     "name": "stdout",
     "output_type": "stream",
     "text": [
      "Fitting 5 folds for each of 54 candidates, totalling 270 fits\n"
     ]
    },
    {
     "name": "stderr",
     "output_type": "stream",
     "text": [
      "[Parallel(n_jobs=-1)]: Done  28 tasks      | elapsed:    0.0s\n",
      "[Parallel(n_jobs=-1)]: Done 270 out of 270 | elapsed:    0.4s finished\n"
     ]
    },
    {
     "name": "stdout",
     "output_type": "stream",
     "text": [
      "Fitting 5 folds for each of 12 candidates, totalling 60 fits\n"
     ]
    },
    {
     "name": "stderr",
     "output_type": "stream",
     "text": [
      "[Parallel(n_jobs=-1)]: Using backend LokyBackend with 12 concurrent workers.\n",
      "[Parallel(n_jobs=-1)]: Done  26 tasks      | elapsed:    1.0s\n",
      "[Parallel(n_jobs=-1)]: Done  60 out of  60 | elapsed:    3.2s finished\n"
     ]
    },
    {
     "name": "stdout",
     "output_type": "stream",
     "text": [
      "Fitting 5 folds for each of 54 candidates, totalling 270 fits\n"
     ]
    },
    {
     "name": "stderr",
     "output_type": "stream",
     "text": [
      "[Parallel(n_jobs=-1)]: Using backend LokyBackend with 12 concurrent workers.\n",
      "[Parallel(n_jobs=-1)]: Done  28 tasks      | elapsed:    0.0s\n",
      "[Parallel(n_jobs=-1)]: Done 270 out of 270 | elapsed:    0.4s finished\n"
     ]
    },
    {
     "name": "stdout",
     "output_type": "stream",
     "text": [
      "Fitting 5 folds for each of 12 candidates, totalling 60 fits\n"
     ]
    },
    {
     "name": "stderr",
     "output_type": "stream",
     "text": [
      "[Parallel(n_jobs=-1)]: Using backend LokyBackend with 12 concurrent workers.\n",
      "[Parallel(n_jobs=-1)]: Done  26 tasks      | elapsed:    1.2s\n",
      "[Parallel(n_jobs=-1)]: Done  60 out of  60 | elapsed:    4.1s finished\n"
     ]
    },
    {
     "name": "stdout",
     "output_type": "stream",
     "text": [
      "Fitting 5 folds for each of 54 candidates, totalling 270 fits\n"
     ]
    },
    {
     "name": "stderr",
     "output_type": "stream",
     "text": [
      "[Parallel(n_jobs=-1)]: Using backend LokyBackend with 12 concurrent workers.\n",
      "[Parallel(n_jobs=-1)]: Done  28 tasks      | elapsed:    0.0s\n",
      "[Parallel(n_jobs=-1)]: Done 270 out of 270 | elapsed:    0.4s finished\n"
     ]
    },
    {
     "name": "stdout",
     "output_type": "stream",
     "text": [
      "Fitting 5 folds for each of 12 candidates, totalling 60 fits\n"
     ]
    },
    {
     "name": "stderr",
     "output_type": "stream",
     "text": [
      "[Parallel(n_jobs=-1)]: Using backend LokyBackend with 12 concurrent workers.\n",
      "[Parallel(n_jobs=-1)]: Done  26 tasks      | elapsed:    1.3s\n",
      "[Parallel(n_jobs=-1)]: Done  60 out of  60 | elapsed:    4.6s finished\n"
     ]
    },
    {
     "name": "stdout",
     "output_type": "stream",
     "text": [
      "Fitting 5 folds for each of 54 candidates, totalling 270 fits\n"
     ]
    },
    {
     "name": "stderr",
     "output_type": "stream",
     "text": [
      "[Parallel(n_jobs=-1)]: Using backend LokyBackend with 12 concurrent workers.\n",
      "[Parallel(n_jobs=-1)]: Done  28 tasks      | elapsed:    0.0s\n",
      "[Parallel(n_jobs=-1)]: Done 270 out of 270 | elapsed:    1.5s finished\n"
     ]
    },
    {
     "name": "stdout",
     "output_type": "stream",
     "text": [
      "Fitting 5 folds for each of 12 candidates, totalling 60 fits\n"
     ]
    },
    {
     "name": "stderr",
     "output_type": "stream",
     "text": [
      "[Parallel(n_jobs=-1)]: Using backend LokyBackend with 12 concurrent workers.\n",
      "[Parallel(n_jobs=-1)]: Done  26 tasks      | elapsed:    1.4s\n",
      "[Parallel(n_jobs=-1)]: Done  60 out of  60 | elapsed:    5.6s finished\n"
     ]
    },
    {
     "name": "stdout",
     "output_type": "stream",
     "text": [
      "Fitting 5 folds for each of 54 candidates, totalling 270 fits\n"
     ]
    },
    {
     "name": "stderr",
     "output_type": "stream",
     "text": [
      "[Parallel(n_jobs=-1)]: Using backend LokyBackend with 12 concurrent workers.\n",
      "[Parallel(n_jobs=-1)]: Done  28 tasks      | elapsed:    0.1s\n",
      "[Parallel(n_jobs=-1)]: Done 270 out of 270 | elapsed:    1.5s finished\n"
     ]
    },
    {
     "name": "stdout",
     "output_type": "stream",
     "text": [
      "Fitting 5 folds for each of 12 candidates, totalling 60 fits\n"
     ]
    },
    {
     "name": "stderr",
     "output_type": "stream",
     "text": [
      "[Parallel(n_jobs=-1)]: Using backend LokyBackend with 12 concurrent workers.\n",
      "[Parallel(n_jobs=-1)]: Done  26 tasks      | elapsed:    1.4s\n",
      "[Parallel(n_jobs=-1)]: Done  60 out of  60 | elapsed:    4.9s finished\n"
     ]
    },
    {
     "name": "stdout",
     "output_type": "stream",
     "text": [
      "Fitting 5 folds for each of 54 candidates, totalling 270 fits\n"
     ]
    },
    {
     "name": "stderr",
     "output_type": "stream",
     "text": [
      "[Parallel(n_jobs=-1)]: Using backend LokyBackend with 12 concurrent workers.\n",
      "[Parallel(n_jobs=-1)]: Done  28 tasks      | elapsed:    0.1s\n",
      "[Parallel(n_jobs=-1)]: Done 270 out of 270 | elapsed:    1.8s finished\n"
     ]
    },
    {
     "name": "stdout",
     "output_type": "stream",
     "text": [
      "Fitting 5 folds for each of 12 candidates, totalling 60 fits\n"
     ]
    },
    {
     "name": "stderr",
     "output_type": "stream",
     "text": [
      "[Parallel(n_jobs=-1)]: Using backend LokyBackend with 12 concurrent workers.\n",
      "[Parallel(n_jobs=-1)]: Done  26 tasks      | elapsed:    1.9s\n",
      "[Parallel(n_jobs=-1)]: Done  60 out of  60 | elapsed:    7.5s finished\n"
     ]
    },
    {
     "name": "stdout",
     "output_type": "stream",
     "text": [
      "Fitting 5 folds for each of 54 candidates, totalling 270 fits\n"
     ]
    },
    {
     "name": "stderr",
     "output_type": "stream",
     "text": [
      "[Parallel(n_jobs=-1)]: Using backend LokyBackend with 12 concurrent workers.\n",
      "[Parallel(n_jobs=-1)]: Done  28 tasks      | elapsed:    0.1s\n",
      "[Parallel(n_jobs=-1)]: Done 270 out of 270 | elapsed:    1.8s finished\n"
     ]
    },
    {
     "name": "stdout",
     "output_type": "stream",
     "text": [
      "Fitting 5 folds for each of 12 candidates, totalling 60 fits\n"
     ]
    },
    {
     "name": "stderr",
     "output_type": "stream",
     "text": [
      "[Parallel(n_jobs=-1)]: Using backend LokyBackend with 12 concurrent workers.\n",
      "[Parallel(n_jobs=-1)]: Done  26 tasks      | elapsed:    2.1s\n",
      "[Parallel(n_jobs=-1)]: Done  60 out of  60 | elapsed:    7.6s finished\n"
     ]
    },
    {
     "name": "stdout",
     "output_type": "stream",
     "text": [
      "Fitting 5 folds for each of 54 candidates, totalling 270 fits\n"
     ]
    },
    {
     "name": "stderr",
     "output_type": "stream",
     "text": [
      "[Parallel(n_jobs=-1)]: Using backend LokyBackend with 12 concurrent workers.\n",
      "[Parallel(n_jobs=-1)]: Done  28 tasks      | elapsed:    0.0s\n",
      "[Parallel(n_jobs=-1)]: Done 270 out of 270 | elapsed:    2.6s finished\n"
     ]
    },
    {
     "name": "stdout",
     "output_type": "stream",
     "text": [
      "Fitting 5 folds for each of 12 candidates, totalling 60 fits\n"
     ]
    },
    {
     "name": "stderr",
     "output_type": "stream",
     "text": [
      "[Parallel(n_jobs=-1)]: Using backend LokyBackend with 12 concurrent workers.\n",
      "[Parallel(n_jobs=-1)]: Done  26 tasks      | elapsed:    2.6s\n",
      "[Parallel(n_jobs=-1)]: Done  60 out of  60 | elapsed:    9.4s finished\n"
     ]
    },
    {
     "name": "stdout",
     "output_type": "stream",
     "text": [
      "Fitting 5 folds for each of 54 candidates, totalling 270 fits\n"
     ]
    },
    {
     "name": "stderr",
     "output_type": "stream",
     "text": [
      "[Parallel(n_jobs=-1)]: Using backend LokyBackend with 12 concurrent workers.\n",
      "[Parallel(n_jobs=-1)]: Done  29 tasks      | elapsed:    0.0s\n",
      "[Parallel(n_jobs=-1)]: Done 270 out of 270 | elapsed:    2.6s finished\n"
     ]
    },
    {
     "name": "stdout",
     "output_type": "stream",
     "text": [
      "Fitting 5 folds for each of 12 candidates, totalling 60 fits\n"
     ]
    },
    {
     "name": "stderr",
     "output_type": "stream",
     "text": [
      "[Parallel(n_jobs=-1)]: Using backend LokyBackend with 12 concurrent workers.\n",
      "[Parallel(n_jobs=-1)]: Done  26 tasks      | elapsed:    2.7s\n",
      "[Parallel(n_jobs=-1)]: Done  60 out of  60 | elapsed:   10.5s finished\n"
     ]
    },
    {
     "name": "stdout",
     "output_type": "stream",
     "text": [
      "Fitting 5 folds for each of 54 candidates, totalling 270 fits\n"
     ]
    },
    {
     "name": "stderr",
     "output_type": "stream",
     "text": [
      "[Parallel(n_jobs=-1)]: Using backend LokyBackend with 12 concurrent workers.\n",
      "[Parallel(n_jobs=-1)]: Done  28 tasks      | elapsed:    0.1s\n",
      "[Parallel(n_jobs=-1)]: Done 270 out of 270 | elapsed:    2.6s finished\n"
     ]
    },
    {
     "name": "stdout",
     "output_type": "stream",
     "text": [
      "Fitting 5 folds for each of 12 candidates, totalling 60 fits\n"
     ]
    },
    {
     "name": "stderr",
     "output_type": "stream",
     "text": [
      "[Parallel(n_jobs=-1)]: Using backend LokyBackend with 12 concurrent workers.\n",
      "[Parallel(n_jobs=-1)]: Done  26 tasks      | elapsed:    3.0s\n",
      "[Parallel(n_jobs=-1)]: Done  60 out of  60 | elapsed:   11.4s finished\n"
     ]
    },
    {
     "name": "stdout",
     "output_type": "stream",
     "text": [
      "Fitting 5 folds for each of 54 candidates, totalling 270 fits\n"
     ]
    },
    {
     "name": "stderr",
     "output_type": "stream",
     "text": [
      "[Parallel(n_jobs=-1)]: Using backend LokyBackend with 12 concurrent workers.\n",
      "[Parallel(n_jobs=-1)]: Done  28 tasks      | elapsed:    0.0s\n",
      "[Parallel(n_jobs=-1)]: Done 270 out of 270 | elapsed:    2.7s finished\n"
     ]
    },
    {
     "name": "stdout",
     "output_type": "stream",
     "text": [
      "Fitting 5 folds for each of 12 candidates, totalling 60 fits\n"
     ]
    },
    {
     "name": "stderr",
     "output_type": "stream",
     "text": [
      "[Parallel(n_jobs=-1)]: Using backend LokyBackend with 12 concurrent workers.\n",
      "[Parallel(n_jobs=-1)]: Done  26 tasks      | elapsed:    2.9s\n",
      "[Parallel(n_jobs=-1)]: Done  60 out of  60 | elapsed:   11.6s finished\n"
     ]
    },
    {
     "name": "stdout",
     "output_type": "stream",
     "text": [
      "Fitting 5 folds for each of 54 candidates, totalling 270 fits\n"
     ]
    },
    {
     "name": "stderr",
     "output_type": "stream",
     "text": [
      "[Parallel(n_jobs=-1)]: Using backend LokyBackend with 12 concurrent workers.\n",
      "[Parallel(n_jobs=-1)]: Done  28 tasks      | elapsed:    0.1s\n",
      "[Parallel(n_jobs=-1)]: Done 270 out of 270 | elapsed:    2.7s finished\n"
     ]
    },
    {
     "name": "stdout",
     "output_type": "stream",
     "text": [
      "Fitting 5 folds for each of 12 candidates, totalling 60 fits\n"
     ]
    },
    {
     "name": "stderr",
     "output_type": "stream",
     "text": [
      "[Parallel(n_jobs=-1)]: Using backend LokyBackend with 12 concurrent workers.\n",
      "[Parallel(n_jobs=-1)]: Done  26 tasks      | elapsed:    2.9s\n",
      "[Parallel(n_jobs=-1)]: Done  60 out of  60 | elapsed:   11.0s finished\n"
     ]
    },
    {
     "name": "stdout",
     "output_type": "stream",
     "text": [
      "Fitting 5 folds for each of 54 candidates, totalling 270 fits\n"
     ]
    },
    {
     "name": "stderr",
     "output_type": "stream",
     "text": [
      "[Parallel(n_jobs=-1)]: Using backend LokyBackend with 12 concurrent workers.\n",
      "[Parallel(n_jobs=-1)]: Done  28 tasks      | elapsed:    0.0s\n",
      "[Parallel(n_jobs=-1)]: Done 270 out of 270 | elapsed:    3.0s finished\n"
     ]
    },
    {
     "name": "stdout",
     "output_type": "stream",
     "text": [
      "Fitting 5 folds for each of 12 candidates, totalling 60 fits\n"
     ]
    },
    {
     "name": "stderr",
     "output_type": "stream",
     "text": [
      "[Parallel(n_jobs=-1)]: Using backend LokyBackend with 12 concurrent workers.\n",
      "[Parallel(n_jobs=-1)]: Done  26 tasks      | elapsed:    3.3s\n",
      "[Parallel(n_jobs=-1)]: Done  60 out of  60 | elapsed:   11.6s finished\n"
     ]
    },
    {
     "name": "stdout",
     "output_type": "stream",
     "text": [
      "Fitting 5 folds for each of 54 candidates, totalling 270 fits\n"
     ]
    },
    {
     "name": "stderr",
     "output_type": "stream",
     "text": [
      "[Parallel(n_jobs=-1)]: Using backend LokyBackend with 12 concurrent workers.\n",
      "[Parallel(n_jobs=-1)]: Done  28 tasks      | elapsed:    0.0s\n",
      "[Parallel(n_jobs=-1)]: Done 270 out of 270 | elapsed:    2.6s finished\n"
     ]
    },
    {
     "name": "stdout",
     "output_type": "stream",
     "text": [
      "Fitting 5 folds for each of 12 candidates, totalling 60 fits\n"
     ]
    },
    {
     "name": "stderr",
     "output_type": "stream",
     "text": [
      "[Parallel(n_jobs=-1)]: Using backend LokyBackend with 12 concurrent workers.\n",
      "[Parallel(n_jobs=-1)]: Done  26 tasks      | elapsed:    3.0s\n",
      "[Parallel(n_jobs=-1)]: Done  60 out of  60 | elapsed:   11.4s finished\n"
     ]
    },
    {
     "name": "stdout",
     "output_type": "stream",
     "text": [
      "Fitting 5 folds for each of 54 candidates, totalling 270 fits\n"
     ]
    },
    {
     "name": "stderr",
     "output_type": "stream",
     "text": [
      "[Parallel(n_jobs=-1)]: Using backend LokyBackend with 12 concurrent workers.\n",
      "[Parallel(n_jobs=-1)]: Done  28 tasks      | elapsed:    0.0s\n",
      "[Parallel(n_jobs=-1)]: Done 270 out of 270 | elapsed:    7.6s finished\n"
     ]
    },
    {
     "name": "stdout",
     "output_type": "stream",
     "text": [
      "Fitting 5 folds for each of 12 candidates, totalling 60 fits\n"
     ]
    },
    {
     "name": "stderr",
     "output_type": "stream",
     "text": [
      "[Parallel(n_jobs=-1)]: Using backend LokyBackend with 12 concurrent workers.\n",
      "[Parallel(n_jobs=-1)]: Done  26 tasks      | elapsed:    3.2s\n",
      "[Parallel(n_jobs=-1)]: Done  60 out of  60 | elapsed:   12.9s finished\n"
     ]
    },
    {
     "name": "stdout",
     "output_type": "stream",
     "text": [
      "Fitting 5 folds for each of 54 candidates, totalling 270 fits\n"
     ]
    },
    {
     "name": "stderr",
     "output_type": "stream",
     "text": [
      "[Parallel(n_jobs=-1)]: Using backend LokyBackend with 12 concurrent workers.\n",
      "[Parallel(n_jobs=-1)]: Done  28 tasks      | elapsed:    0.0s\n",
      "[Parallel(n_jobs=-1)]: Done 270 out of 270 | elapsed:    2.3s finished\n"
     ]
    },
    {
     "name": "stdout",
     "output_type": "stream",
     "text": [
      "Fitting 5 folds for each of 12 candidates, totalling 60 fits\n"
     ]
    },
    {
     "name": "stderr",
     "output_type": "stream",
     "text": [
      "[Parallel(n_jobs=-1)]: Using backend LokyBackend with 12 concurrent workers.\n",
      "[Parallel(n_jobs=-1)]: Done  26 tasks      | elapsed:    3.2s\n",
      "[Parallel(n_jobs=-1)]: Done  60 out of  60 | elapsed:   12.8s finished\n"
     ]
    },
    {
     "name": "stdout",
     "output_type": "stream",
     "text": [
      "Fitting 5 folds for each of 54 candidates, totalling 270 fits\n"
     ]
    },
    {
     "name": "stderr",
     "output_type": "stream",
     "text": [
      "[Parallel(n_jobs=-1)]: Using backend LokyBackend with 12 concurrent workers.\n",
      "[Parallel(n_jobs=-1)]: Done  28 tasks      | elapsed:    0.1s\n",
      "[Parallel(n_jobs=-1)]: Done 270 out of 270 | elapsed:    8.4s finished\n"
     ]
    },
    {
     "name": "stdout",
     "output_type": "stream",
     "text": [
      "Fitting 5 folds for each of 12 candidates, totalling 60 fits\n"
     ]
    },
    {
     "name": "stderr",
     "output_type": "stream",
     "text": [
      "[Parallel(n_jobs=-1)]: Using backend LokyBackend with 12 concurrent workers.\n",
      "[Parallel(n_jobs=-1)]: Done  26 tasks      | elapsed:    3.4s\n",
      "[Parallel(n_jobs=-1)]: Done  60 out of  60 | elapsed:   13.0s finished\n"
     ]
    },
    {
     "name": "stdout",
     "output_type": "stream",
     "text": [
      "Fitting 5 folds for each of 54 candidates, totalling 270 fits\n"
     ]
    },
    {
     "name": "stderr",
     "output_type": "stream",
     "text": [
      "[Parallel(n_jobs=-1)]: Using backend LokyBackend with 12 concurrent workers.\n",
      "[Parallel(n_jobs=-1)]: Done  28 tasks      | elapsed:    0.0s\n",
      "[Parallel(n_jobs=-1)]: Done 270 out of 270 | elapsed:    5.9s finished\n"
     ]
    },
    {
     "name": "stdout",
     "output_type": "stream",
     "text": [
      "Fitting 5 folds for each of 12 candidates, totalling 60 fits\n"
     ]
    },
    {
     "name": "stderr",
     "output_type": "stream",
     "text": [
      "[Parallel(n_jobs=-1)]: Using backend LokyBackend with 12 concurrent workers.\n",
      "[Parallel(n_jobs=-1)]: Done  26 tasks      | elapsed:    3.6s\n",
      "[Parallel(n_jobs=-1)]: Done  60 out of  60 | elapsed:   14.0s finished\n"
     ]
    },
    {
     "name": "stdout",
     "output_type": "stream",
     "text": [
      "Fitting 5 folds for each of 54 candidates, totalling 270 fits\n"
     ]
    },
    {
     "name": "stderr",
     "output_type": "stream",
     "text": [
      "[Parallel(n_jobs=-1)]: Using backend LokyBackend with 12 concurrent workers.\n",
      "[Parallel(n_jobs=-1)]: Done  29 tasks      | elapsed:    0.1s\n",
      "[Parallel(n_jobs=-1)]: Done 270 out of 270 | elapsed:    6.5s finished\n"
     ]
    },
    {
     "name": "stdout",
     "output_type": "stream",
     "text": [
      "Fitting 5 folds for each of 12 candidates, totalling 60 fits\n"
     ]
    },
    {
     "name": "stderr",
     "output_type": "stream",
     "text": [
      "[Parallel(n_jobs=-1)]: Using backend LokyBackend with 12 concurrent workers.\n",
      "[Parallel(n_jobs=-1)]: Done  26 tasks      | elapsed:    3.6s\n",
      "[Parallel(n_jobs=-1)]: Done  60 out of  60 | elapsed:   13.3s finished\n"
     ]
    },
    {
     "name": "stdout",
     "output_type": "stream",
     "text": [
      "Fitting 5 folds for each of 54 candidates, totalling 270 fits\n"
     ]
    },
    {
     "name": "stderr",
     "output_type": "stream",
     "text": [
      "[Parallel(n_jobs=-1)]: Using backend LokyBackend with 12 concurrent workers.\n",
      "[Parallel(n_jobs=-1)]: Done  29 tasks      | elapsed:    0.1s\n",
      "[Parallel(n_jobs=-1)]: Done 270 out of 270 | elapsed:    9.3s finished\n"
     ]
    },
    {
     "name": "stdout",
     "output_type": "stream",
     "text": [
      "Fitting 5 folds for each of 12 candidates, totalling 60 fits\n"
     ]
    },
    {
     "name": "stderr",
     "output_type": "stream",
     "text": [
      "[Parallel(n_jobs=-1)]: Using backend LokyBackend with 12 concurrent workers.\n",
      "[Parallel(n_jobs=-1)]: Done  26 tasks      | elapsed:    3.3s\n",
      "[Parallel(n_jobs=-1)]: Done  60 out of  60 | elapsed:   12.8s finished\n"
     ]
    }
   ],
   "source": [
    "from sklearn.linear_model import LogisticRegression\n",
    "from sklearn.ensemble import GradientBoostingClassifier\n",
    "from sklearn.model_selection import GridSearchCV, cross_val_score\n",
    "from sklearn.metrics import roc_auc_score\n",
    "\n",
    "\n",
    "def transformer_selecter(num_cols, data_train, value_train, data_valid):\n",
    "    \"\"\"\n",
    "    Отбор признаков\n",
    "    \"\"\"\n",
    "    X_train_tr_sl = data_train.copy()\n",
    "    y_train_tr_sl = value_train.copy()\n",
    "    X_valid_tr_sl = data_valid.copy()\n",
    "    selecter = SelectKBest(f_classif, k=num_cols).fit(X_train_tr_sl, y_train_tr_sl)\n",
    "    return selecter.transform(X_train_tr_sl), selecter.transform(X_valid_tr_sl)\n",
    "    \n",
    "    \n",
    "def learn_logreg(data_train, value_train, data_valid, value_valid):\n",
    "    \"\"\"\n",
    "    Обучение LogisticRegression\n",
    "    SelectFromModel - 0.8535 - 62\n",
    "    \"\"\"\n",
    "\n",
    "    X_train_lr = data_train.copy()\n",
    "    y_train_lr = value_train.copy()\n",
    "    X_valid_lr = data_valid.copy()\n",
    "    y_valid_lr = value_valid.copy()\n",
    "    \n",
    "    selector = SelectFromModel(estimator=LogisticRegression(solver='saga', random_state=57)).fit(X_train_lr, y_train_lr)\n",
    "    X_train_lr = selector.transform(X_train_lr)\n",
    "    X_valid_lr = selector.transform(X_valid_lr)\n",
    "\n",
    "    parameters_lr= {\n",
    "        'penalty': ['l1', 'l2', 'elasticnet'],\n",
    "        'C': [0.01, 0.05, 0.1, 0.5, 1, 5, 10, 15, 20],\n",
    "        'class_weight': ['balanced', None],\n",
    "        'max_iter': [50000],\n",
    "        'random_state': [57],\n",
    "        'solver': ['saga']\n",
    "    }\n",
    "    clf_lr = LogisticRegression()\n",
    "    lr_grid = GridSearchCV(clf_lr, parameters_lr, cv=5, scoring='roc_auc', n_jobs=-1, verbose=1)\n",
    "    lr_grid.fit(X_train_lr, y_train_lr)\n",
    "    return roc_auc_score(y_valid_lr, lr_grid.best_estimator_.predict_proba(X_valid_lr)[:, 1])\n",
    "\n",
    "\n",
    "def learn_rfc(data_train, value_train, data_valid, value_valid):\n",
    "    \"\"\"\n",
    "    Обучение GradientBoostingClassifier\n",
    "    SelectFromModel - 0.8520 - 40\n",
    "    \"\"\"\n",
    "  \n",
    "    X_train_rfc = data_train.copy()\n",
    "    y_train_rfc = value_train.copy()\n",
    "    X_valid_rfc = data_valid.copy()\n",
    "    y_valid_rfc = value_valid.copy()\n",
    "\n",
    "    selector = SelectFromModel(\n",
    "        estimator=GradientBoostingClassifier(loss='exponential', criterion='friedman_mse', random_state=57)\n",
    "    ).fit(X_train_rfc, y_train_rfc)\n",
    "    X_train_rfc = selector.transform(X_train_rfc)\n",
    "    X_valid_rfc = selector.transform(X_valid_rfc)\n",
    "\n",
    "    parameters_gbc = {\n",
    "            'learning_rate': [0.05],\n",
    "            'n_estimators': [150, 200, 250, 300],\n",
    "            'max_depth': [1, 2, 5],\n",
    "            'random_state': [57]\n",
    "            }\n",
    "\n",
    "    clf_gbc = GradientBoostingClassifier()\n",
    "    gbc_grid = GridSearchCV(clf_gbc, parameters_gbc, cv=5, verbose=1, scoring='roc_auc', refit=True, n_jobs=-1)\n",
    "    gbc_grid.fit(X_train_rfc, y_train_rfc)\n",
    "    return roc_auc_score(y_valid_rfc, gbc_grid.best_estimator_.predict_proba(X_valid_rfc)[:, 1])\n",
    "\n",
    "\n",
    "\n",
    "logreg = []\n",
    "rfc = []\n",
    "num_best = [i for i in range(6, 68, 3)]\n",
    "X_train, y_train, X_valid, y_valid, X_predict = upload_and_prepare_data(where_data='computer', best=False)\n",
    "\n",
    "# Меняя количество фич находим лучшую модель и считаем качество на валидационной выборке\n",
    "for i in range(6, 68, 3):\n",
    "    X_train_trans, X_valid_trans = transformer_selecter(num_cols=i, data_train=X_train, \n",
    "                                                        value_train=y_train, data_valid=X_valid)\n",
    "    logreg.append(\n",
    "        learn_logreg(data_train=X_train_trans, data_valid=X_valid_trans, value_train=y_train, value_valid=y_valid)\n",
    "    )\n",
    "    rfc.append(\n",
    "        learn_rfc(data_train=X_train_trans, data_valid=X_valid_trans, value_train=y_train, value_valid=y_valid)\n",
    "    )"
   ]
  },
  {
   "cell_type": "code",
   "execution_count": 31,
   "metadata": {
    "scrolled": true
   },
   "outputs": [
    {
     "name": "stdout",
     "output_type": "stream",
     "text": [
      "Лучшее значение метрики для GradientBoostingClassifier 0.8520\n",
      "Достигнуто при количестве фичей 39\n",
      "Лучшее значение метрики для LogisticRegression 0.8535\n",
      "Достигнуто при количестве фичей 63\n"
     ]
    },
    {
     "data": {
      "image/png": "[encoded data removed]",
      "text/plain": [
       "<Figure size 720x576 with 1 Axes>"
      ]
     },
     "metadata": {
      "needs_background": "light"
     },
     "output_type": "display_data"
    },
    {
     "data": {
      "image/png": "[encoded data removed]",
      "text/plain": [
       "<Figure size 720x576 with 1 Axes>"
      ]
     },
     "metadata": {
      "needs_background": "light"
     },
     "output_type": "display_data"
    }
   ],
   "source": [
    "# Строим графики зависимости качества от количества используемых признаков\n",
    "import matplotlib.pyplot as plt\n",
    "\n",
    "\n",
    "print(f\"Лучшее значение метрики для GradientBoostingClassifier {'%.4f' % max(rfc)}\")\n",
    "print(f\"Достигнуто при количестве фичей {num_best[rfc.index(max(rfc))]}\")\n",
    "\n",
    "# plot figure\n",
    "plt.figure(figsize=(10, 8))\n",
    "plt.grid()\n",
    "plt.plot(num_best, rfc, 'ro')\n",
    "plt.plot(num_best, rfc, 'g--')\n",
    "plt.title(\"График зависимости метрики от используемых фич для GradientBoostingClassifier\")\n",
    "plt.xlabel('Features numbers')\n",
    "plt.ylabel('roc_auc_score')\n",
    "\n",
    "print(f\"Лучшее значение метрики для LogisticRegression {'%.4f' % max(logreg)}\")\n",
    "print(f\"Достигнуто при количестве фичей {num_best[logreg.index(max(logreg))]}\")\n",
    "\n",
    "# plot figure\n",
    "plt.figure(figsize=(10, 8))\n",
    "plt.grid()\n",
    "plt.plot(num_best, logreg, 'ro')\n",
    "plt.plot(num_best, logreg, 'g--')\n",
    "plt.title(\"График зависимости метрики от используемых фич для LogisticRegression\")\n",
    "plt.xlabel('Features numbers')\n",
    "plt.ylabel('roc_auc_score')\n",
    "plt.show()"
   ]
  },
  {
   "cell_type": "code",
   "execution_count": null,
   "metadata": {},
   "outputs": [],
   "source": []
  },
  {
   "cell_type": "markdown",
   "metadata": {},
   "source": [
    "<a id='label_for_learn_stacking_selection_find_best'></a>\n",
    "\n",
    "## Сравнение качества модели при использовании SelectKBest и без в различных вариациях\n",
    "\n",
    "[Перейти к \"Оглавлению\"](#Main)"
   ]
  },
  {
   "cell_type": "code",
   "execution_count": 23,
   "metadata": {
    "scrolled": true
   },
   "outputs": [
    {
     "name": "stdout",
     "output_type": "stream",
     "text": [
      "----------------------------------------------------------------------\n",
      "Количество строк 5282 и количество признаков 20 для обучающей+валидационной выборки\n",
      "Количество строк 1761 и количество признаков 19 для предсказаний\n",
      "----------------------------------------------------------------------\n",
      "----------------------------------------------------------------------\n",
      "Количество строк 4225 и количество признаков 68 для тестовой выборки\n",
      "Количество строк 1057 и количество признаков 68 для валидационной выборки\n",
      "Количество строк 1761 и количество признаков 68 для предсказаний\n",
      "----------------------------------------------------------------------\n",
      "Fitting 5 folds for each of 54 candidates, totalling 270 fits\n"
     ]
    },
    {
     "name": "stderr",
     "output_type": "stream",
     "text": [
      "[Parallel(n_jobs=-1)]: Using backend LokyBackend with 12 concurrent workers.\n",
      "[Parallel(n_jobs=-1)]: Done  28 tasks      | elapsed:    0.0s\n",
      "[Parallel(n_jobs=-1)]: Done 270 out of 270 | elapsed:    2.5s finished\n"
     ]
    },
    {
     "name": "stdout",
     "output_type": "stream",
     "text": [
      "----------------------------------------------------------------------------------------------------\n",
      "LogisticRegression - best estimator:  LogisticRegression(C=0.5, class_weight=None, dual=False, fit_intercept=True,\n",
      "                   intercept_scaling=1, l1_ratio=None, max_iter=10000,\n",
      "                   multi_class='auto', n_jobs=None, penalty='l1',\n",
      "                   random_state=57, solver='saga', tol=0.0001, verbose=0,\n",
      "                   warm_start=False)\n",
      "Предсказание класса через лучшие параметры параметры 0.8548389336295473\n",
      "----------------------------------------------------------------------------------------------------\n",
      "----------------------------------------------------------------------\n",
      "Количество строк 5282 и количество признаков 20 для обучающей+валидационной выборки\n",
      "Количество строк 1761 и количество признаков 19 для предсказаний\n",
      "----------------------------------------------------------------------\n",
      "----------------------------------------------------------------------\n",
      "Количество строк 4225 и количество признаков 48 для тестовой выборки\n",
      "Количество строк 1057 и количество признаков 48 для валидационной выборки\n",
      "Количество строк 1761 и количество признаков 48 для предсказаний\n",
      "----------------------------------------------------------------------\n",
      "----------------------------------------------------------------------\n",
      "Количество строк 4225 и количество признаков 14 для тестовой выборки\n",
      "Количество строк 1057 и количество признаков 14 для валидационной выборки\n",
      "----------------------------------------------------------------------\n",
      "Fitting 5 folds for each of 54 candidates, totalling 270 fits\n"
     ]
    },
    {
     "name": "stderr",
     "output_type": "stream",
     "text": [
      "[Parallel(n_jobs=-1)]: Using backend LokyBackend with 12 concurrent workers.\n",
      "[Parallel(n_jobs=-1)]: Done  28 tasks      | elapsed:    0.0s\n",
      "[Parallel(n_jobs=-1)]: Done 270 out of 270 | elapsed:    2.4s finished\n"
     ]
    },
    {
     "name": "stdout",
     "output_type": "stream",
     "text": [
      "----------------------------------------------------------------------------------------------------\n",
      "LogisticRegression - best estimator:  LogisticRegression(C=20, class_weight=None, dual=False, fit_intercept=True,\n",
      "                   intercept_scaling=1, l1_ratio=None, max_iter=10000,\n",
      "                   multi_class='auto', n_jobs=None, penalty='l1',\n",
      "                   random_state=57, solver='saga', tol=0.0001, verbose=0,\n",
      "                   warm_start=False)\n",
      "Предсказание класса через лучшие параметры параметры 0.8491090437841341\n",
      "----------------------------------------------------------------------------------------------------\n",
      "----------------------------------------------------------------------\n",
      "Количество строк 5282 и количество признаков 20 для обучающей+валидационной выборки\n",
      "Количество строк 1761 и количество признаков 19 для предсказаний\n",
      "----------------------------------------------------------------------\n",
      "----------------------------------------------------------------------\n",
      "Количество строк 4225 и количество признаков 68 для тестовой выборки\n",
      "Количество строк 1057 и количество признаков 68 для валидационной выборки\n",
      "Количество строк 1761 и количество признаков 68 для предсказаний\n",
      "----------------------------------------------------------------------\n",
      "Fitting 5 folds for each of 54 candidates, totalling 270 fits\n"
     ]
    },
    {
     "name": "stderr",
     "output_type": "stream",
     "text": [
      "[Parallel(n_jobs=-1)]: Using backend LokyBackend with 12 concurrent workers.\n",
      "[Parallel(n_jobs=-1)]: Done  30 tasks      | elapsed:    0.2s\n",
      "[Parallel(n_jobs=-1)]: Done 270 out of 270 | elapsed:   32.0s finished\n"
     ]
    },
    {
     "name": "stdout",
     "output_type": "stream",
     "text": [
      "----------------------------------------------------------------------------------------------------\n",
      "LogisticRegression - best estimator:  LogisticRegression(C=0.5, class_weight=None, dual=False, fit_intercept=True,\n",
      "                   intercept_scaling=1, l1_ratio=None, max_iter=10000,\n",
      "                   multi_class='auto', n_jobs=None, penalty='l1',\n",
      "                   random_state=57, solver='saga', tol=0.0001, verbose=0,\n",
      "                   warm_start=False)\n",
      "Предсказание класса через лучшие параметры параметры 0.8566601869850967\n",
      "----------------------------------------------------------------------------------------------------\n",
      "----------------------------------------------------------------------\n",
      "Количество строк 5282 и количество признаков 20 для обучающей+валидационной выборки\n",
      "Количество строк 1761 и количество признаков 19 для предсказаний\n",
      "----------------------------------------------------------------------\n",
      "----------------------------------------------------------------------\n",
      "Количество строк 4225 и количество признаков 48 для тестовой выборки\n",
      "Количество строк 1057 и количество признаков 48 для валидационной выборки\n",
      "Количество строк 1761 и количество признаков 48 для предсказаний\n",
      "----------------------------------------------------------------------\n",
      "Fitting 5 folds for each of 54 candidates, totalling 270 fits\n"
     ]
    },
    {
     "name": "stderr",
     "output_type": "stream",
     "text": [
      "[Parallel(n_jobs=-1)]: Using backend LokyBackend with 12 concurrent workers.\n",
      "[Parallel(n_jobs=-1)]: Done  29 tasks      | elapsed:    0.1s\n"
     ]
    },
    {
     "name": "stdout",
     "output_type": "stream",
     "text": [
      "----------------------------------------------------------------------------------------------------\n",
      "LogisticRegression - best estimator:  LogisticRegression(C=1, class_weight=None, dual=False, fit_intercept=True,\n",
      "                   intercept_scaling=1, l1_ratio=None, max_iter=10000,\n",
      "                   multi_class='auto', n_jobs=None, penalty='l1',\n",
      "                   random_state=57, solver='saga', tol=0.0001, verbose=0,\n",
      "                   warm_start=False)\n",
      "Предсказание класса через лучшие параметры параметры 0.852584930112006\n",
      "----------------------------------------------------------------------------------------------------\n"
     ]
    },
    {
     "name": "stderr",
     "output_type": "stream",
     "text": [
      "[Parallel(n_jobs=-1)]: Done 270 out of 270 | elapsed:   21.6s finished\n"
     ]
    }
   ],
   "source": [
    "from sklearn.linear_model import LogisticRegression\n",
    "from sklearn.model_selection import GridSearchCV, cross_val_score\n",
    "from sklearn.metrics import roc_auc_score\n",
    "\n",
    "\n",
    "\n",
    "###########################################################################################################\n",
    "# LogisticRegression\n",
    "X_train, y_train, X_valid, y_valid, X_predict = upload_and_prepare_data(where_data='computer', best=False)\n",
    "\n",
    "X_train_lr = X_train.copy()\n",
    "y_train_lr = y_train.copy()\n",
    "X_valid_lr = X_valid.copy()\n",
    "y_valid_lr = y_valid.copy()\n",
    "    \n",
    "selector = SelectFromModel(estimator=LogisticRegression(solver='saga', random_state=57)).fit(X_train_lr, y_train_lr)\n",
    "X_train_lr = selector.transform(X_train_lr)\n",
    "X_valid_lr = selector.transform(X_valid_lr)\n",
    "\n",
    "parameters_lr= {\n",
    "    'penalty': ['l1', 'l2', 'elasticnet'],\n",
    "    'C': [0.01, 0.05, 0.1, 0.5, 1, 5, 10, 15, 20],\n",
    "    'class_weight': ['balanced', None],\n",
    "    'max_iter': [10000],\n",
    "    'random_state': [57],\n",
    "    'solver': ['saga']\n",
    "}\n",
    "clf_lr = LogisticRegression()\n",
    "lr_grid = GridSearchCV(clf_lr, parameters_lr, cv=5, scoring='roc_auc', n_jobs=-1, verbose=1)\n",
    "lr_grid.fit(X_train_lr, y_train_lr)\n",
    "print(\"-\"*100)\n",
    "print('LogisticRegression - best estimator: ', lr_grid.best_estimator_)\n",
    "print(\"Предсказание класса через лучшие параметры параметры\", \n",
    "      roc_auc_score(y_valid_lr, lr_grid.best_estimator_.predict_proba(X_valid_lr)[:, 1]))\n",
    "print(\"-\"*100)\n",
    "###########################################################################################################\n",
    "\n",
    "\n",
    "###########################################################################################################\n",
    "# LogisticRegression\n",
    "X_train, y_train, X_valid, y_valid, X_predict = upload_and_prepare_data(where_data='computer', best=True)\n",
    "\n",
    "X_train_lr = X_train.copy()\n",
    "y_train_lr = y_train.copy()\n",
    "X_valid_lr = X_valid.copy()\n",
    "y_valid_lr = y_valid.copy()\n",
    "    \n",
    "selector = SelectFromModel(estimator=LogisticRegression(solver='saga', random_state=57)).fit(X_train_lr, y_train_lr)\n",
    "X_train_lr = selector.transform(X_train_lr)\n",
    "X_valid_lr = selector.transform(X_valid_lr)\n",
    "\n",
    "print(\"-\"*70)\n",
    "print(f\"Количество строк {X_train_lr.shape[0]} и количество признаков {X_train_lr.shape[1]} для тестовой выборки\")\n",
    "print(f\"Количество строк {X_valid_lr.shape[0]} и количество признаков {X_valid_lr.shape[1]} для валидационной выборки\")\n",
    "print(\"-\"*70)\n",
    "\n",
    "parameters_lr= {\n",
    "    'penalty': ['l1', 'l2', 'elasticnet'],\n",
    "    'C': [0.01, 0.05, 0.1, 0.5, 1, 5, 10, 15, 20],\n",
    "    'class_weight': ['balanced', None],\n",
    "    'max_iter': [10000],\n",
    "    'random_state': [57],\n",
    "    'solver': ['saga']\n",
    "}\n",
    "clf_lr = LogisticRegression()\n",
    "lr_grid = GridSearchCV(clf_lr, parameters_lr, cv=5, scoring='roc_auc', n_jobs=-1, verbose=1)\n",
    "lr_grid.fit(X_train_lr, y_train_lr)\n",
    "print(\"-\"*100)\n",
    "print('LogisticRegression - best estimator: ', lr_grid.best_estimator_)\n",
    "print(\"Предсказание класса через лучшие параметры параметры\", \n",
    "      roc_auc_score(y_valid_lr, lr_grid.best_estimator_.predict_proba(X_valid_lr)[:, 1]))\n",
    "print(\"-\"*100)\n",
    "###########################################################################################################\n",
    "\n",
    "\n",
    "###########################################################################################################\n",
    "# LogisticRegression\n",
    "X_train, y_train, X_valid, y_valid, X_predict = upload_and_prepare_data(where_data='computer', best=False)\n",
    "\n",
    "X_train_lr = X_train.copy()\n",
    "y_train_lr = y_train.copy()\n",
    "X_valid_lr = X_valid.copy()\n",
    "y_valid_lr = y_valid.copy()\n",
    "\n",
    "parameters_lr= {\n",
    "    'penalty': ['l1', 'l2', 'elasticnet'],\n",
    "    'C': [0.01, 0.05, 0.1, 0.5, 1, 5, 10, 15, 20],\n",
    "    'class_weight': ['balanced', None],\n",
    "    'max_iter': [10000],\n",
    "    'random_state': [57],\n",
    "    'solver': ['saga']\n",
    "}\n",
    "clf_lr = LogisticRegression()\n",
    "lr_grid = GridSearchCV(clf_lr, parameters_lr, cv=5, scoring='roc_auc', n_jobs=-1, verbose=1)\n",
    "lr_grid.fit(X_train_lr, y_train_lr)\n",
    "print(\"-\"*100)\n",
    "print('LogisticRegression - best estimator: ', lr_grid.best_estimator_)\n",
    "print(\"Предсказание класса через лучшие параметры параметры\", \n",
    "      roc_auc_score(y_valid_lr, lr_grid.best_estimator_.predict_proba(X_valid_lr)[:, 1]))\n",
    "print(\"-\"*100)\n",
    "###########################################################################################################\n",
    "\n",
    "\n",
    "###########################################################################################################\n",
    "# LogisticRegression\n",
    "X_train, y_train, X_valid, y_valid, X_predict = upload_and_prepare_data(where_data='computer', best=True)\n",
    "\n",
    "X_train_lr = X_train.copy()\n",
    "y_train_lr = y_train.copy()\n",
    "X_valid_lr = X_valid.copy()\n",
    "y_valid_lr = y_valid.copy()\n",
    "\n",
    "parameters_lr= {\n",
    "    'penalty': ['l1', 'l2', 'elasticnet'],\n",
    "    'C': [0.01, 0.05, 0.1, 0.5, 1, 5, 10, 15, 20],\n",
    "    'class_weight': ['balanced', None],\n",
    "    'max_iter': [10000],\n",
    "    'random_state': [57],\n",
    "    'solver': ['saga']\n",
    "}\n",
    "clf_lr = LogisticRegression()\n",
    "lr_grid = GridSearchCV(clf_lr, parameters_lr, cv=5, scoring='roc_auc', n_jobs=-1, verbose=1)\n",
    "lr_grid.fit(X_train_lr, y_train_lr)\n",
    "print(\"-\"*100)\n",
    "print('LogisticRegression - best estimator: ', lr_grid.best_estimator_)\n",
    "print(\"Предсказание класса через лучшие параметры параметры\", \n",
    "      roc_auc_score(y_valid_lr, lr_grid.best_estimator_.predict_proba(X_valid_lr)[:, 1]))\n",
    "print(\"-\"*100)\n",
    "###########################################################################################################"
   ]
  },
  {
   "cell_type": "code",
   "execution_count": 32,
   "metadata": {
    "scrolled": true
   },
   "outputs": [
    {
     "name": "stdout",
     "output_type": "stream",
     "text": [
      "----------------------------------------------------------------------\n",
      "Количество строк 5282 и количество признаков 20 для обучающей+валидационной выборки\n",
      "Количество строк 1761 и количество признаков 19 для предсказаний\n",
      "----------------------------------------------------------------------\n",
      "----------------------------------------------------------------------\n",
      "Количество строк 4225 и количество признаков 68 для тестовой выборки\n",
      "Количество строк 1057 и количество признаков 68 для валидационной выборки\n",
      "Количество строк 1761 и количество признаков 68 для предсказаний\n",
      "----------------------------------------------------------------------\n",
      "Fitting 5 folds for each of 270 candidates, totalling 1350 fits\n"
     ]
    },
    {
     "name": "stderr",
     "output_type": "stream",
     "text": [
      "[Parallel(n_jobs=-1)]: Using backend LokyBackend with 12 concurrent workers.\n",
      "[Parallel(n_jobs=-1)]: Done   1 tasks      | elapsed:    0.0s\n",
      "[Parallel(n_jobs=-1)]: Done 124 tasks      | elapsed:    3.5s\n",
      "[Parallel(n_jobs=-1)]: Done 317 tasks      | elapsed:   13.6s\n",
      "[Parallel(n_jobs=-1)]: Done 488 tasks      | elapsed:   23.9s\n",
      "[Parallel(n_jobs=-1)]: Done 709 tasks      | elapsed:   40.4s\n",
      "[Parallel(n_jobs=-1)]: Done 978 tasks      | elapsed:  1.2min\n",
      "[Parallel(n_jobs=-1)]: Done 1297 tasks      | elapsed:  2.0min\n",
      "[Parallel(n_jobs=-1)]: Done 1350 out of 1350 | elapsed:  2.3min finished\n"
     ]
    },
    {
     "name": "stdout",
     "output_type": "stream",
     "text": [
      "GradientBoostingClassifier - best estimator:  GradientBoostingClassifier(ccp_alpha=0.0, criterion='friedman_mse', init=None,\n",
      "                           learning_rate=0.1, loss='deviance', max_depth=1,\n",
      "                           max_features=None, max_leaf_nodes=None,\n",
      "                           min_impurity_decrease=0.0, min_impurity_split=None,\n",
      "                           min_samples_leaf=1, min_samples_split=2,\n",
      "                           min_weight_fraction_leaf=0.0, n_estimators=100,\n",
      "                           n_iter_no_change=None, presort='deprecated',\n",
      "                           random_state=57, subsample=1.0, tol=0.0001,\n",
      "                           validation_fraction=0.1, verbose=0,\n",
      "                           warm_start=False)\n",
      "Предсказание класса через лучшие параметры параметры 0.8509164121077478\n",
      "----------------------------------------------------------------------\n",
      "Количество строк 5282 и количество признаков 20 для обучающей+валидационной выборки\n",
      "Количество строк 1761 и количество признаков 19 для предсказаний\n",
      "----------------------------------------------------------------------\n",
      "----------------------------------------------------------------------\n",
      "Количество строк 4225 и количество признаков 48 для тестовой выборки\n",
      "Количество строк 1057 и количество признаков 48 для валидационной выборки\n",
      "Количество строк 1761 и количество признаков 48 для предсказаний\n",
      "----------------------------------------------------------------------\n",
      "----------------------------------------------------------------------\n",
      "Количество строк 4225 и количество признаков 13 для тестовой выборки\n",
      "Количество строк 1057 и количество признаков 13 для валидационной выборки\n",
      "----------------------------------------------------------------------\n",
      "Fitting 5 folds for each of 270 candidates, totalling 1350 fits\n"
     ]
    },
    {
     "name": "stderr",
     "output_type": "stream",
     "text": [
      "[Parallel(n_jobs=-1)]: Using backend LokyBackend with 12 concurrent workers.\n",
      "[Parallel(n_jobs=-1)]: Done   1 tasks      | elapsed:    0.0s\n",
      "[Parallel(n_jobs=-1)]: Done 124 tasks      | elapsed:    3.7s\n",
      "[Parallel(n_jobs=-1)]: Done 317 tasks      | elapsed:   12.8s\n",
      "[Parallel(n_jobs=-1)]: Done 488 tasks      | elapsed:   22.6s\n",
      "[Parallel(n_jobs=-1)]: Done 709 tasks      | elapsed:   38.6s\n",
      "[Parallel(n_jobs=-1)]: Done 978 tasks      | elapsed:  1.1min\n",
      "[Parallel(n_jobs=-1)]: Done 1297 tasks      | elapsed:  1.8min\n",
      "[Parallel(n_jobs=-1)]: Done 1350 out of 1350 | elapsed:  2.0min finished\n"
     ]
    },
    {
     "name": "stdout",
     "output_type": "stream",
     "text": [
      "GradientBoostingClassifier - best estimator:  GradientBoostingClassifier(ccp_alpha=0.0, criterion='friedman_mse', init=None,\n",
      "                           learning_rate=0.1, loss='deviance', max_depth=1,\n",
      "                           max_features='sqrt', max_leaf_nodes=None,\n",
      "                           min_impurity_decrease=0.0, min_impurity_split=None,\n",
      "                           min_samples_leaf=2, min_samples_split=2,\n",
      "                           min_weight_fraction_leaf=0.0, n_estimators=150,\n",
      "                           n_iter_no_change=None, presort='deprecated',\n",
      "                           random_state=57, subsample=1.0, tol=0.0001,\n",
      "                           validation_fraction=0.1, verbose=0,\n",
      "                           warm_start=False)\n",
      "Предсказание класса через лучшие параметры параметры 0.8520318430065723\n",
      "----------------------------------------------------------------------\n",
      "Количество строк 5282 и количество признаков 20 для обучающей+валидационной выборки\n",
      "Количество строк 1761 и количество признаков 19 для предсказаний\n",
      "----------------------------------------------------------------------\n",
      "----------------------------------------------------------------------\n",
      "Количество строк 4225 и количество признаков 48 для тестовой выборки\n",
      "Количество строк 1057 и количество признаков 48 для валидационной выборки\n",
      "Количество строк 1761 и количество признаков 48 для предсказаний\n",
      "----------------------------------------------------------------------\n",
      "Fitting 5 folds for each of 270 candidates, totalling 1350 fits\n"
     ]
    },
    {
     "name": "stderr",
     "output_type": "stream",
     "text": [
      "[Parallel(n_jobs=-1)]: Using backend LokyBackend with 12 concurrent workers.\n",
      "[Parallel(n_jobs=-1)]: Done   1 tasks      | elapsed:    0.0s\n",
      "[Parallel(n_jobs=-1)]: Done 124 tasks      | elapsed:    3.8s\n",
      "[Parallel(n_jobs=-1)]: Done 317 tasks      | elapsed:   16.3s\n",
      "[Parallel(n_jobs=-1)]: Done 488 tasks      | elapsed:   28.4s\n",
      "[Parallel(n_jobs=-1)]: Done 709 tasks      | elapsed:   47.0s\n",
      "[Parallel(n_jobs=-1)]: Done 978 tasks      | elapsed:  1.4min\n",
      "[Parallel(n_jobs=-1)]: Done 1297 tasks      | elapsed:  2.4min\n",
      "[Parallel(n_jobs=-1)]: Done 1350 out of 1350 | elapsed:  2.8min finished\n"
     ]
    },
    {
     "name": "stdout",
     "output_type": "stream",
     "text": [
      "GradientBoostingClassifier - best estimator:  GradientBoostingClassifier(ccp_alpha=0.0, criterion='friedman_mse', init=None,\n",
      "                           learning_rate=0.1, loss='deviance', max_depth=1,\n",
      "                           max_features='log2', max_leaf_nodes=None,\n",
      "                           min_impurity_decrease=0.0, min_impurity_split=None,\n",
      "                           min_samples_leaf=2, min_samples_split=2,\n",
      "                           min_weight_fraction_leaf=0.0, n_estimators=150,\n",
      "                           n_iter_no_change=None, presort='deprecated',\n",
      "                           random_state=57, subsample=1.0, tol=0.0001,\n",
      "                           validation_fraction=0.1, verbose=0,\n",
      "                           warm_start=False)\n",
      "Предсказание класса через лучшие параметры параметры 0.8549291863371286\n",
      "----------------------------------------------------------------------\n",
      "Количество строк 5282 и количество признаков 20 для обучающей+валидационной выборки\n",
      "Количество строк 1761 и количество признаков 19 для предсказаний\n",
      "----------------------------------------------------------------------\n",
      "----------------------------------------------------------------------\n",
      "Количество строк 4225 и количество признаков 68 для тестовой выборки\n",
      "Количество строк 1057 и количество признаков 68 для валидационной выборки\n",
      "Количество строк 1761 и количество признаков 68 для предсказаний\n",
      "----------------------------------------------------------------------\n",
      "Fitting 5 folds for each of 270 candidates, totalling 1350 fits\n"
     ]
    },
    {
     "name": "stderr",
     "output_type": "stream",
     "text": [
      "[Parallel(n_jobs=-1)]: Using backend LokyBackend with 12 concurrent workers.\n",
      "[Parallel(n_jobs=-1)]: Done   1 tasks      | elapsed:    0.0s\n",
      "[Parallel(n_jobs=-1)]: Done 124 tasks      | elapsed:    3.6s\n",
      "[Parallel(n_jobs=-1)]: Done 305 tasks      | elapsed:   16.0s\n",
      "[Parallel(n_jobs=-1)]: Done 476 tasks      | elapsed:   28.0s\n",
      "[Parallel(n_jobs=-1)]: Done 697 tasks      | elapsed:   50.3s\n",
      "[Parallel(n_jobs=-1)]: Done 966 tasks      | elapsed:  1.5min\n",
      "[Parallel(n_jobs=-1)]: Done 1285 tasks      | elapsed:  2.6min\n"
     ]
    },
    {
     "name": "stdout",
     "output_type": "stream",
     "text": [
      "GradientBoostingClassifier - best estimator:  GradientBoostingClassifier(ccp_alpha=0.0, criterion='friedman_mse', init=None,\n",
      "                           learning_rate=0.1, loss='deviance', max_depth=1,\n",
      "                           max_features='log2', max_leaf_nodes=None,\n",
      "                           min_impurity_decrease=0.0, min_impurity_split=None,\n",
      "                           min_samples_leaf=2, min_samples_split=2,\n",
      "                           min_weight_fraction_leaf=0.0, n_estimators=150,\n",
      "                           n_iter_no_change=None, presort='deprecated',\n",
      "                           random_state=57, subsample=1.0, tol=0.0001,\n",
      "                           validation_fraction=0.1, verbose=0,\n",
      "                           warm_start=False)\n",
      "Предсказание класса через лучшие параметры параметры 0.8551629177080441\n"
     ]
    },
    {
     "name": "stderr",
     "output_type": "stream",
     "text": [
      "[Parallel(n_jobs=-1)]: Done 1350 out of 1350 | elapsed:  3.1min finished\n"
     ]
    }
   ],
   "source": [
    "from sklearn.ensemble import GradientBoostingClassifier\n",
    "from sklearn.model_selection import GridSearchCV, cross_val_score\n",
    "from sklearn.metrics import roc_auc_score\n",
    "\n",
    "\n",
    "##############################################################################################\n",
    "# GradientBoostingClassifier\n",
    "X_train, y_train, X_valid, y_valid, X_predict = upload_and_prepare_data(where_data='computer', best=False)\n",
    "\n",
    "X_train_gbc = X_train.copy()\n",
    "y_train_gbc = y_train.copy()\n",
    "X_valid_gbc = X_valid.copy()\n",
    "y_valid_gbc = y_valid.copy()\n",
    "\n",
    "selector = SelectFromModel(estimator=GradientBoostingClassifier(loss='exponential', criterion='friedman_mse')).fit(X_train_gbc, y_train_gbc)\n",
    "X_train_gbc = selector.transform(X_train_gbc)\n",
    "X_valid_gbc = selector.transform(X_valid_gbc)\n",
    "\n",
    "# Started parameters\n",
    "parameters_gbc = {\n",
    "#         'learning_rate': [0.05, 0.1, 0.5, 0.9],\n",
    "        'n_estimators': [50, 100, 150, 200, 250, 300],\n",
    "#         'subsample': [0.1, 0.5, 1, 5],\n",
    "        'min_samples_leaf': [1, 2, 3],\n",
    "        'max_depth': [1, 2, 3, 4, 5],\n",
    "        'max_features': ['sqrt', 'log2', None],\n",
    "        'random_state': [57]\n",
    "        }\n",
    "\n",
    "clf_gbc = GradientBoostingClassifier()\n",
    "gbc_grid = GridSearchCV(clf_gbc, parameters_gbc, cv=5, verbose=4, scoring='roc_auc', refit=True, n_jobs=-1)\n",
    "gbc_grid.fit(X_train_gbc, y_train_gbc)\n",
    "\n",
    "print('GradientBoostingClassifier - best estimator: ', gbc_grid.best_estimator_)\n",
    "print(\"Предсказание класса через лучшие параметры параметры\", \n",
    "      roc_auc_score(y_valid_gbc, gbc_grid.best_estimator_.predict_proba(X_valid_gbc)[:, 1]))\n",
    "##############################################################################################\n",
    "\n",
    "\n",
    "##############################################################################################\n",
    "# GradientBoostingClassifier\n",
    "X_train, y_train, X_valid, y_valid, X_predict = upload_and_prepare_data(where_data='computer', best=True)\n",
    "\n",
    "X_train_gbc = X_train.copy()\n",
    "y_train_gbc = y_train.copy()\n",
    "X_valid_gbc = X_valid.copy()\n",
    "y_valid_gbc = y_valid.copy()\n",
    "\n",
    "selector = SelectFromModel(estimator=GradientBoostingClassifier(loss='exponential', criterion='friedman_mse')).fit(X_train_gbc, y_train_gbc)\n",
    "X_train_gbc = selector.transform(X_train_gbc)\n",
    "X_valid_gbc = selector.transform(X_valid_gbc)\n",
    "\n",
    "print(\"-\"*70)\n",
    "print(f\"Количество строк {X_train_gbc.shape[0]} и количество признаков {X_train_gbc.shape[1]} для тестовой выборки\")\n",
    "print(f\"Количество строк {X_valid_gbc.shape[0]} и количество признаков {X_valid_gbc.shape[1]} для валидационной выборки\")\n",
    "print(\"-\"*70)\n",
    "\n",
    "# Started parameters\n",
    "parameters_gbc = {\n",
    "#         'learning_rate': [0.05, 0.1, 0.5, 0.9],\n",
    "        'n_estimators': [50, 100, 150, 200, 250, 300],\n",
    "#         'subsample': [0.1, 0.5, 1, 5],\n",
    "        'min_samples_leaf': [1, 2, 3],\n",
    "        'max_depth': [1, 2, 3, 4, 5],\n",
    "        'max_features': ['sqrt', 'log2', None],\n",
    "        'random_state': [57]\n",
    "        }\n",
    "\n",
    "clf_gbc = GradientBoostingClassifier()\n",
    "gbc_grid = GridSearchCV(clf_gbc, parameters_gbc, cv=5, verbose=4, scoring='roc_auc', refit=True, n_jobs=-1)\n",
    "gbc_grid.fit(X_train_gbc, y_train_gbc)\n",
    "\n",
    "print('GradientBoostingClassifier - best estimator: ', gbc_grid.best_estimator_)\n",
    "print(\"Предсказание класса через лучшие параметры параметры\", \n",
    "      roc_auc_score(y_valid_gbc, gbc_grid.best_estimator_.predict_proba(X_valid_gbc)[:, 1]))\n",
    "##############################################################################################\n",
    "\n",
    "\n",
    "##############################################################################################\n",
    "# GradientBoostingClassifier\n",
    "X_train, y_train, X_valid, y_valid, X_predict = upload_and_prepare_data(where_data='computer', best=True)\n",
    "\n",
    "X_train_gbc = X_train.copy()\n",
    "y_train_gbc = y_train.copy()\n",
    "X_valid_gbc = X_valid.copy()\n",
    "y_valid_gbc = y_valid.copy()\n",
    "\n",
    "# Started parameters\n",
    "parameters_gbc = {\n",
    "#         'learning_rate': [0.05, 0.1, 0.5, 0.9],\n",
    "        'n_estimators': [50, 100, 150, 200, 250, 300],\n",
    "#         'subsample': [0.1, 0.5, 1, 5],\n",
    "        'min_samples_leaf': [1, 2, 3],\n",
    "        'max_depth': [1, 2, 3, 4, 5],\n",
    "        'max_features': ['sqrt', 'log2', None],\n",
    "        'random_state': [57]\n",
    "        }\n",
    "\n",
    "clf_gbc = GradientBoostingClassifier()\n",
    "gbc_grid = GridSearchCV(clf_gbc, parameters_gbc, cv=5, verbose=4, scoring='roc_auc', refit=True, n_jobs=-1)\n",
    "gbc_grid.fit(X_train_gbc, y_train_gbc)\n",
    "\n",
    "print('GradientBoostingClassifier - best estimator: ', gbc_grid.best_estimator_)\n",
    "print(\"Предсказание класса через лучшие параметры параметры\", \n",
    "      roc_auc_score(y_valid_gbc, gbc_grid.best_estimator_.predict_proba(X_valid_gbc)[:, 1]))\n",
    "##############################################################################################\n",
    "\n",
    "\n",
    "##############################################################################################\n",
    "# GradientBoostingClassifier\n",
    "X_train, y_train, X_valid, y_valid, X_predict = upload_and_prepare_data(where_data='computer', best=False)\n",
    "\n",
    "X_train_gbc = X_train.copy()\n",
    "y_train_gbc = y_train.copy()\n",
    "X_valid_gbc = X_valid.copy()\n",
    "y_valid_gbc = y_valid.copy()\n",
    "\n",
    "# Started parameters\n",
    "parameters_gbc = {\n",
    "#         'learning_rate': [0.05, 0.1, 0.5, 0.9],\n",
    "        'n_estimators': [50, 100, 150, 200, 250, 300],\n",
    "#         'subsample': [0.1, 0.5, 1, 5],\n",
    "        'min_samples_leaf': [1, 2, 3],\n",
    "        'max_depth': [1, 2, 3, 4, 5],\n",
    "        'max_features': ['sqrt', 'log2', None],\n",
    "        'random_state': [57]\n",
    "        }\n",
    "\n",
    "clf_gbc = GradientBoostingClassifier()\n",
    "gbc_grid = GridSearchCV(clf_gbc, parameters_gbc, cv=5, verbose=4, scoring='roc_auc', refit=True, n_jobs=-1)\n",
    "gbc_grid.fit(X_train_gbc, y_train_gbc)\n",
    "\n",
    "print('GradientBoostingClassifier - best estimator: ', gbc_grid.best_estimator_)\n",
    "print(\"Предсказание класса через лучшие параметры параметры\", \n",
    "      roc_auc_score(y_valid_gbc, gbc_grid.best_estimator_.predict_proba(X_valid_gbc)[:, 1]))\n",
    "##############################################################################################"
   ]
  },
  {
   "cell_type": "markdown",
   "metadata": {},
   "source": [
    "<a id='label_for_learn_stacking_selection_find_best_results'></a>\n",
    "\n",
    "## Выводы для каждой модели\n",
    "\n",
    "### Разница в 0.7 % между лучшим и худшим значениями - можно подумать над этим\n",
    "- Верно для модели LogisticRegression()\n",
    "- Лучшее значение при upload_and_prepare_data(where_data='computer', best=False) и отсутствует SelectFromModel() для отбора признаков перед самим обучением\n",
    "- Больше признаков ведет к увеличению времени для обучения с 2.6 с до 20.6 с (довольно существенно)\n",
    "- Лучшая модель в зависимости от максимального объема данных:\n",
    "    - объем данных для обучения - 4225х68\n",
    "    - максимальный объем данных для для валидации - 1057х68\n",
    "    - качество - 0.8566\n",
    "    - время обучения - 32.6s\n",
    "- Худшая модель в зависимости от минимального объема данных:\n",
    "    - объем данных для обучения - 4225х14\n",
    "    - объем данных для для валидации - 1057х14\n",
    "    - качество - 0.8491\n",
    "    - время обучения - 2.6s\n",
    "\n",
    "\n",
    "### Разница в 0.3 % между лучшим и худшим значениями - можно подумать над этим\n",
    "- Верно для модели GradientBoostingClassifier()\n",
    "- Лучшее значение при upload_and_prepare_data(where_data='computer', best=False) и отсутствует SelectFromModel() для отбора признаков перед самим обучением\n",
    "- Больше признаков ведет к увеличению времени для обучения с 2.0 минут до 3.1 минуты (примерно на 1/3 выросло время обучения при небольшой потере качества)\n",
    "- Лучшая модель в зависимости от максимального объема данных:\n",
    "    - объем данных для обучения - 4225х68\n",
    "    - максимальный объем данных для для валидации - 1057х68\n",
    "    - качество - 0.8552\n",
    "    - время обучения - 3.1min\n",
    "- Худшая модель в зависимости от минимального объема данных:\n",
    "    - объем данных для обучения - 4225х13\n",
    "    - объем данных для для валидации - 1057х13\n",
    "    - качество - 0.8520\n",
    "    - время обучения - 2.0min\n",
    "    \n",
    "[Перейти к \"Оглавлению\"](#Main)"
   ]
  },
  {
   "cell_type": "code",
   "execution_count": null,
   "metadata": {},
   "outputs": [],
   "source": []
  },
  {
   "cell_type": "markdown",
   "metadata": {},
   "source": [
    "<a id='label_for_learn_stacking_LogisticRegression'></a>\n",
    "\n",
    "## Поиск лучших параметров для LogisticRegression\n",
    "\n",
    "[Перейти к \"Оглавлению\"](#Main)"
   ]
  },
  {
   "cell_type": "code",
   "execution_count": 24,
   "metadata": {},
   "outputs": [
    {
     "name": "stdout",
     "output_type": "stream",
     "text": [
      "----------------------------------------------------------------------\n",
      "Количество строк 5282 и количество признаков 20 для обучающей+валидационной выборки\n",
      "Количество строк 1761 и количество признаков 19 для предсказаний\n",
      "----------------------------------------------------------------------\n",
      "----------------------------------------------------------------------\n",
      "Количество строк 4225 и количество признаков 68 для тестовой выборки\n",
      "Количество строк 1057 и количество признаков 68 для валидационной выборки\n",
      "Количество строк 1761 и количество признаков 68 для предсказаний\n",
      "----------------------------------------------------------------------\n",
      "Fitting 5 folds for each of 1 candidates, totalling 5 fits\n",
      "----------------------------------------------------------------------------------------------------\n",
      "LogisticRegression - best estimator:  LogisticRegression(C=0.4, class_weight=None, dual=False, fit_intercept=True,\n",
      "                   intercept_scaling=1, l1_ratio=None, max_iter=10000,\n",
      "                   multi_class='auto', n_jobs=None, penalty='l1',\n",
      "                   random_state=57, solver='liblinear', tol=0.0001, verbose=0,\n",
      "                   warm_start=False)\n",
      "Предсказание класса через лучшие параметры параметры 0.8564472831620847\n",
      "----------------------------------------------------------------------------------------------------\n"
     ]
    },
    {
     "name": "stderr",
     "output_type": "stream",
     "text": [
      "[Parallel(n_jobs=-1)]: Using backend LokyBackend with 12 concurrent workers.\n",
      "[Parallel(n_jobs=-1)]: Done   5 out of   5 | elapsed:    0.0s finished\n"
     ]
    }
   ],
   "source": [
    "from sklearn.linear_model import LogisticRegression\n",
    "from sklearn.model_selection import GridSearchCV, cross_val_score\n",
    "from sklearn.metrics import roc_auc_score\n",
    "\n",
    "\n",
    "###########################################################################################################\n",
    "# LogisticRegression\n",
    "X_train, y_train, X_valid, y_valid, X_predict = upload_and_prepare_data(where_data='computer', best=False)\n",
    "\n",
    "X_train_lr = X_train.copy()\n",
    "y_train_lr = y_train.copy()\n",
    "X_valid_lr = X_valid.copy()\n",
    "y_valid_lr = y_valid.copy()\n",
    "\n",
    "# parameters_lr= {\n",
    "#     'penalty': ['l1', 'l2', 'elasticnet'],\n",
    "#     'C': [0.01, 0.05, 0.1, 0.5, 1, 5, 10, 15, 20],\n",
    "#     'class_weight': ['balanced', None],\n",
    "#     'max_iter': [10000],\n",
    "#     'random_state': [57],\n",
    "#     'solver': ['newton-cg', 'lbfgs', 'liblinear', 'sag', 'saga']\n",
    "# }\n",
    "\n",
    "parameters_lr= {\n",
    "    'penalty': ['l1'],\n",
    "    'C': [0.4],\n",
    "    'class_weight': [None],\n",
    "    'max_iter': [10000],\n",
    "    'random_state': [57],\n",
    "    'solver': ['liblinear']\n",
    "}\n",
    "\n",
    "clf_lr = LogisticRegression()\n",
    "lr_grid = GridSearchCV(clf_lr, parameters_lr, cv=5, scoring='roc_auc', n_jobs=-1, verbose=1)\n",
    "lr_grid.fit(X_train_lr, y_train_lr)\n",
    "print(\"-\"*100)\n",
    "print('LogisticRegression - best estimator: ', lr_grid.best_estimator_)\n",
    "print(\"Предсказание класса через лучшие параметры параметры\", \n",
    "      roc_auc_score(y_valid_lr, lr_grid.best_estimator_.predict_proba(X_valid_lr)[:, 1]))\n",
    "print(\"-\"*100)\n",
    "###########################################################################################################"
   ]
  },
  {
   "cell_type": "code",
   "execution_count": null,
   "metadata": {},
   "outputs": [],
   "source": []
  },
  {
   "cell_type": "markdown",
   "metadata": {},
   "source": [
    "<a id='label_for_learn_stacking_GradientBoostingClassifier'></a>\n",
    "\n",
    "## Поиск лучших параметров для GradientBoostingClassifier\n",
    "\n",
    "[Перейти к \"Оглавлению\"](#Main)"
   ]
  },
  {
   "cell_type": "code",
   "execution_count": 25,
   "metadata": {
    "scrolled": true
   },
   "outputs": [
    {
     "name": "stdout",
     "output_type": "stream",
     "text": [
      "----------------------------------------------------------------------\n",
      "Количество строк 5282 и количество признаков 20 для обучающей+валидационной выборки\n",
      "Количество строк 1761 и количество признаков 19 для предсказаний\n",
      "----------------------------------------------------------------------\n",
      "----------------------------------------------------------------------\n",
      "Количество строк 4225 и количество признаков 68 для тестовой выборки\n",
      "Количество строк 1057 и количество признаков 68 для валидационной выборки\n",
      "Количество строк 1761 и количество признаков 68 для предсказаний\n",
      "----------------------------------------------------------------------\n",
      "Fitting 5 folds for each of 1 candidates, totalling 5 fits\n"
     ]
    },
    {
     "name": "stderr",
     "output_type": "stream",
     "text": [
      "[Parallel(n_jobs=-1)]: Using backend LokyBackend with 12 concurrent workers.\n",
      "[Parallel(n_jobs=-1)]: Done   2 out of   5 | elapsed:    0.1s remaining:    0.2s\n"
     ]
    },
    {
     "name": "stdout",
     "output_type": "stream",
     "text": [
      "GradientBoostingClassifier - best estimator:  GradientBoostingClassifier(ccp_alpha=0.0, criterion='friedman_mse', init=None,\n",
      "                           learning_rate=0.1, loss='deviance', max_depth=1,\n",
      "                           max_features='log2', max_leaf_nodes=None,\n",
      "                           min_impurity_decrease=0.0, min_impurity_split=None,\n",
      "                           min_samples_leaf=2, min_samples_split=2,\n",
      "                           min_weight_fraction_leaf=0.0, n_estimators=170,\n",
      "                           n_iter_no_change=None, presort='deprecated',\n",
      "                           random_state=57, subsample=1, tol=0.0001,\n",
      "                           validation_fraction=0.1, verbose=0,\n",
      "                           warm_start=False)\n",
      "Предсказание класса через лучшие параметры параметры 0.8558293992409515\n"
     ]
    },
    {
     "name": "stderr",
     "output_type": "stream",
     "text": [
      "[Parallel(n_jobs=-1)]: Done   5 out of   5 | elapsed:    0.1s finished\n"
     ]
    }
   ],
   "source": [
    "from sklearn.ensemble import GradientBoostingClassifier\n",
    "from sklearn.model_selection import GridSearchCV, cross_val_score\n",
    "from sklearn.metrics import roc_auc_score\n",
    "\n",
    "\n",
    "##############################################################################################\n",
    "# GradientBoostingClassifier\n",
    "\n",
    "X_train, y_train, X_valid, y_valid, X_predict = upload_and_prepare_data(where_data='computer', best=False)\n",
    "\n",
    "X_train_gbc = X_train.copy()\n",
    "y_train_gbc = y_train.copy()\n",
    "X_valid_gbc = X_valid.copy()\n",
    "y_valid_gbc = y_valid.copy()\n",
    "\n",
    "# Started parameters\n",
    "# parameters_gbc = {\n",
    "#         'learning_rate': [0.05, 0.1, 0.5, 0.9],\n",
    "#         'n_estimators': [50, 100, 150, 200, 250, 300],\n",
    "#         'subsample': [0.1, 0.5, 1, 5],\n",
    "#         'min_samples_leaf': [1, 2, 3],\n",
    "#         'max_depth': [1, 2, 3, 4, 5],\n",
    "#         'max_features': ['sqrt', 'log2', None],\n",
    "#         'random_state': [57]\n",
    "#         }\n",
    "\n",
    "parameters_gbc = {\n",
    "        'learning_rate': [0.1],\n",
    "        'n_estimators': [170],\n",
    "        'subsample': [1],\n",
    "        'min_samples_leaf': [2],\n",
    "        'max_depth': [1],\n",
    "        'max_features': ['log2'],\n",
    "        'random_state': [57]\n",
    "        }\n",
    "\n",
    "clf_gbc = GradientBoostingClassifier()\n",
    "gbc_grid = GridSearchCV(clf_gbc, parameters_gbc, cv=5, verbose=4, scoring='roc_auc', refit=True, n_jobs=-1)\n",
    "gbc_grid.fit(X_train_gbc, y_train_gbc)\n",
    "\n",
    "print('GradientBoostingClassifier - best estimator: ', gbc_grid.best_estimator_)\n",
    "print(\"Предсказание класса через лучшие параметры параметры\", \n",
    "      roc_auc_score(y_valid_gbc, gbc_grid.best_estimator_.predict_proba(X_valid_gbc)[:, 1]))\n",
    "##############################################################################################"
   ]
  },
  {
   "cell_type": "code",
   "execution_count": null,
   "metadata": {},
   "outputs": [],
   "source": []
  },
  {
   "cell_type": "markdown",
   "metadata": {},
   "source": [
    "<a id='label_for_learn_stacking_MLPClassifier'></a>\n",
    "\n",
    "## Поиск лучших параметров для MLPClassifier\n",
    "\n",
    "[Перейти к \"Оглавлению\"](#Main)"
   ]
  },
  {
   "cell_type": "code",
   "execution_count": 26,
   "metadata": {
    "scrolled": true
   },
   "outputs": [
    {
     "name": "stdout",
     "output_type": "stream",
     "text": [
      "----------------------------------------------------------------------\n",
      "Количество строк 5282 и количество признаков 20 для обучающей+валидационной выборки\n",
      "Количество строк 1761 и количество признаков 19 для предсказаний\n",
      "----------------------------------------------------------------------\n",
      "----------------------------------------------------------------------\n",
      "Количество строк 4225 и количество признаков 68 для тестовой выборки\n",
      "Количество строк 1057 и количество признаков 68 для валидационной выборки\n",
      "Количество строк 1761 и количество признаков 68 для предсказаний\n",
      "----------------------------------------------------------------------\n",
      "Fitting 5 folds for each of 1 candidates, totalling 5 fits\n"
     ]
    },
    {
     "name": "stderr",
     "output_type": "stream",
     "text": [
      "[Parallel(n_jobs=-1)]: Using backend LokyBackend with 12 concurrent workers.\n",
      "[Parallel(n_jobs=-1)]: Done   2 out of   5 | elapsed:    0.7s remaining:    1.1s\n",
      "[Parallel(n_jobs=-1)]: Done   5 out of   5 | elapsed:    1.6s finished\n"
     ]
    },
    {
     "name": "stdout",
     "output_type": "stream",
     "text": [
      "MLPClassifier - best estimator:  MLPClassifier(activation='logistic', alpha=0.006, batch_size='auto', beta_1=0.9,\n",
      "              beta_2=0.999, early_stopping=False, epsilon=1e-08,\n",
      "              hidden_layer_sizes=40, learning_rate='constant',\n",
      "              learning_rate_init=0.001, max_fun=15000, max_iter=200,\n",
      "              momentum=0.9, n_iter_no_change=10, nesterovs_momentum=True,\n",
      "              power_t=0.5, random_state=57, shuffle=True, solver='adam',\n",
      "              tol=0.0001, validation_fraction=0.1, verbose=False,\n",
      "              warm_start=False)\n",
      "Предсказание класса через лучшие параметры параметры 0.8561742108673517\n"
     ]
    }
   ],
   "source": [
    "from sklearn.neural_network import MLPClassifier\n",
    "from sklearn.model_selection import GridSearchCV, cross_val_score\n",
    "from sklearn.metrics import roc_auc_score\n",
    "\n",
    "\n",
    "##############################################################################################\n",
    "# MLPClassifier\n",
    "\n",
    "X_train, y_train, X_valid, y_valid, X_predict = upload_and_prepare_data(where_data='computer', best=False)\n",
    "\n",
    "X_train_mlpc = X_train.copy()\n",
    "y_train_mlpc = y_train.copy()\n",
    "X_valid_mlpc = X_valid.copy()\n",
    "y_valid_mlpc = y_valid.copy()\n",
    "\n",
    "# Started parameters\n",
    "# parameters_mlpc = {\n",
    "#     'activation': ['tanh', 'logistic', 'identity', 'relu'],\n",
    "#     'solver': ['lbfgs', 'sgd', 'adam'],\n",
    "#     'max_iter': [100, 200, 500, 1000],\n",
    "#     'alpha': [0.0001, 0.0005, 0.001, 0.005, 0.01, 0.05, 0.1, 0.5, 1, 5, 10],\n",
    "#     'learning_rate': ['constant', 'invscaling', 'adaptive'],\n",
    "#     'hidden_layer_sizes': [1, 5, 10, 50, 100],\n",
    "#     'random_state': [57]\n",
    "# }\n",
    "\n",
    "parameters_mlpc = {\n",
    "    'activation': ['logistic'],\n",
    "    'solver': ['adam'],\n",
    "    'max_iter': [200],\n",
    "    'alpha': [0.006],\n",
    "    'learning_rate': ['constant'],\n",
    "    'hidden_layer_sizes': [40],\n",
    "    'random_state': [57]\n",
    "}\n",
    "\n",
    "clf_mlpc = MLPClassifier()\n",
    "mlpc_grid = GridSearchCV(clf_mlpc, parameters_mlpc, cv=5, scoring='roc_auc', n_jobs=-1, verbose=3)\n",
    "mlpc_grid.fit(X_train_mlpc, y_train_mlpc)\n",
    "\n",
    "print('MLPClassifier - best estimator: ', mlpc_grid.best_estimator_)\n",
    "print(\"Предсказание класса через лучшие параметры параметры\", \n",
    "      roc_auc_score(y_valid_mlpc, mlpc_grid.best_estimator_.predict_proba(X_valid_mlpc)[:, 1]))\n",
    "##############################################################################################"
   ]
  },
  {
   "cell_type": "code",
   "execution_count": null,
   "metadata": {},
   "outputs": [],
   "source": []
  },
  {
   "cell_type": "markdown",
   "metadata": {},
   "source": [
    "<a id='label_for_learn_stacking_RandomForestClassifier'></a>\n",
    "\n",
    "## Поиск лучших параметров для RandomForestClassifier\n",
    "\n",
    "[Перейти к \"Оглавлению\"](#Main)"
   ]
  },
  {
   "cell_type": "code",
   "execution_count": 27,
   "metadata": {
    "scrolled": true
   },
   "outputs": [
    {
     "name": "stdout",
     "output_type": "stream",
     "text": [
      "----------------------------------------------------------------------\n",
      "Количество строк 5282 и количество признаков 20 для обучающей+валидационной выборки\n",
      "Количество строк 1761 и количество признаков 19 для предсказаний\n",
      "----------------------------------------------------------------------\n",
      "----------------------------------------------------------------------\n",
      "Количество строк 4225 и количество признаков 68 для тестовой выборки\n",
      "Количество строк 1057 и количество признаков 68 для валидационной выборки\n",
      "Количество строк 1761 и количество признаков 68 для предсказаний\n",
      "----------------------------------------------------------------------\n",
      "Fitting 5 folds for each of 1 candidates, totalling 5 fits\n"
     ]
    },
    {
     "name": "stderr",
     "output_type": "stream",
     "text": [
      "[Parallel(n_jobs=-1)]: Using backend LokyBackend with 12 concurrent workers.\n",
      "[Parallel(n_jobs=-1)]: Done   2 out of   5 | elapsed:    1.7s remaining:    2.6s\n",
      "[Parallel(n_jobs=-1)]: Done   5 out of   5 | elapsed:    1.8s finished\n"
     ]
    },
    {
     "name": "stdout",
     "output_type": "stream",
     "text": [
      "RandomForestClassifier - best estimator:  RandomForestClassifier(bootstrap=True, ccp_alpha=0.0, class_weight=None,\n",
      "                       criterion='entropy', max_depth=None, max_features='sqrt',\n",
      "                       max_leaf_nodes=None, max_samples=200,\n",
      "                       min_impurity_decrease=0.0, min_impurity_split=None,\n",
      "                       min_samples_leaf=2, min_samples_split=2,\n",
      "                       min_weight_fraction_leaf=0.0, n_estimators=1000,\n",
      "                       n_jobs=None, oob_score=False, random_state=None,\n",
      "                       verbose=0, warm_start=False)\n",
      "Предсказание класса через лучшие параметры параметры 0.8564357123021383\n"
     ]
    }
   ],
   "source": [
    "from sklearn.ensemble import RandomForestClassifier\n",
    "from sklearn.model_selection import GridSearchCV, cross_val_score\n",
    "from sklearn.metrics import roc_auc_score\n",
    "\n",
    "\n",
    "##############################################################################################\n",
    "# RandomForestClassifier\n",
    "X_train, y_train, X_valid, y_valid, X_predict = upload_and_prepare_data(where_data='computer', best=False)\n",
    "\n",
    "X_train_rfc = X_train.copy()\n",
    "y_train_rfc = y_train.copy()\n",
    "X_valid_rfc = X_valid.copy()\n",
    "y_valid_rfc = y_valid.copy()\n",
    "\n",
    "# Start parameters\n",
    "# parameters_rfc = {\n",
    "#     'n_estimators': [10, 50, 100, 150, 200, 500],\n",
    "#     'criterion': ['gini','entropy'],\n",
    "#     'min_samples_leaf': [1, 5, 10, 15, 20],\n",
    "#     'max_features': ['sqrt', 'log2'],\n",
    "#     'max_samples': [5, 10, 15, 20]\n",
    "# }\n",
    "\n",
    "parameters_rfc = {\n",
    "    'n_estimators': [1000],\n",
    "    'criterion': ['entropy'],\n",
    "    'min_samples_leaf': [2],\n",
    "    'max_features': ['sqrt'],\n",
    "    'max_samples': [200]\n",
    "}\n",
    "\n",
    "clf_rfc = RandomForestClassifier()\n",
    "rfc_grid = GridSearchCV(clf_rfc, parameters_rfc, cv=5, scoring='roc_auc', n_jobs=-1, verbose=3)\n",
    "rfc_grid.fit(X_train_rfc, y_train_rfc)\n",
    "\n",
    "print('RandomForestClassifier - best estimator: ', rfc_grid.best_estimator_)\n",
    "print(\"Предсказание класса через лучшие параметры параметры\", \n",
    "      roc_auc_score(y_valid_rfc, rfc_grid.best_estimator_.predict_proba(X_valid_rfc)[:, 1]))\n",
    "##############################################################################################"
   ]
  },
  {
   "cell_type": "code",
   "execution_count": null,
   "metadata": {},
   "outputs": [],
   "source": []
  },
  {
   "cell_type": "markdown",
   "metadata": {},
   "source": [
    "<a id='label_for_learn_stacking_XGBClassifier'></a>\n",
    "\n",
    "## Поиск лучших параметров для XGBClassifier\n",
    "\n",
    "[Перейти к \"Оглавлению\"](#Main)"
   ]
  },
  {
   "cell_type": "code",
   "execution_count": 28,
   "metadata": {
    "scrolled": true
   },
   "outputs": [
    {
     "name": "stdout",
     "output_type": "stream",
     "text": [
      "----------------------------------------------------------------------\n",
      "Количество строк 5282 и количество признаков 20 для обучающей+валидационной выборки\n",
      "Количество строк 1761 и количество признаков 19 для предсказаний\n",
      "----------------------------------------------------------------------\n",
      "----------------------------------------------------------------------\n",
      "Количество строк 4225 и количество признаков 68 для тестовой выборки\n",
      "Количество строк 1057 и количество признаков 68 для валидационной выборки\n",
      "Количество строк 1761 и количество признаков 68 для предсказаний\n",
      "----------------------------------------------------------------------\n",
      "Fitting 5 folds for each of 1 candidates, totalling 5 fits\n"
     ]
    },
    {
     "name": "stderr",
     "output_type": "stream",
     "text": [
      "[Parallel(n_jobs=-1)]: Using backend LokyBackend with 12 concurrent workers.\n",
      "[Parallel(n_jobs=-1)]: Done   2 out of   5 | elapsed:    0.0s remaining:    0.1s\n",
      "[Parallel(n_jobs=-1)]: Done   5 out of   5 | elapsed:    0.0s finished\n"
     ]
    },
    {
     "name": "stdout",
     "output_type": "stream",
     "text": [
      "XGBClassifier - best estimator:  XGBClassifier(base_score=0.5, booster='gbtree', colsample_bylevel=1,\n",
      "              colsample_bynode=1, colsample_bytree=0.3, eval_metric='auc',\n",
      "              gamma=1, learning_rate=0.1, max_delta_step=0, max_depth=2,\n",
      "              min_child_weight=4, missing=None, n_estimators=52, n_jobs=1,\n",
      "              nthread=None, objective='binary:logistic', random_state=57,\n",
      "              reg_alpha=0, reg_lambda=1, scale_pos_weight=1, seed=57,\n",
      "              silent=None, subsample=0.3, verbosity=1)\n",
      "Предсказание класса через лучшие параметры параметры 0.8567990373044524\n"
     ]
    }
   ],
   "source": [
    "from xgboost import XGBClassifier\n",
    "from sklearn.model_selection import GridSearchCV, cross_val_score\n",
    "from sklearn.metrics import roc_auc_score\n",
    "\n",
    "\n",
    "#############################################################################################\n",
    "# XGBClassifier\n",
    "\n",
    "X_train, y_train, X_valid, y_valid, X_predict = upload_and_prepare_data(where_data='computer', best=False)\n",
    "\n",
    "X_train_xgbc = X_train.copy()\n",
    "y_train_xgbc = y_train.copy()\n",
    "X_valid_xgbc = X_valid.copy()\n",
    "y_valid_xgbc = y_valid.copy()\n",
    "\n",
    "# params_xgbc = {\n",
    "#         'min_child_weight': [1, 2, 4, 5],\n",
    "#         'gamma': [1, 5, 10],\n",
    "#         'subsample': [0.1, 0.3, 0.5, 0.7],\n",
    "#         'colsample_bytree': [0.1, 0.3, 0.5, 0.7],\n",
    "#         'max_depth': [1, 2, 3, 5],\n",
    "#         'n_estimators': [100, 300, 500, 700],\n",
    "#         'eval_metric': ['auc'],\n",
    "#         'random_state': [57],\n",
    "#         'seed': [57]\n",
    "#         }\n",
    "\n",
    "params_xgbc = {\n",
    "        'min_child_weight': [4],\n",
    "        'gamma': [1],\n",
    "        'subsample': [0.3],\n",
    "        'colsample_bytree': [0.3],\n",
    "        'max_depth': [2],\n",
    "        'n_estimators': [52],\n",
    "        'eval_metric': ['auc'],\n",
    "        'random_state': [57],\n",
    "        'seed': [57]\n",
    "        }\n",
    "\n",
    "clf_xgbc = XGBClassifier()\n",
    "xgbc_grid = GridSearchCV(clf_xgbc, params_xgbc, cv=5, verbose=4, scoring='roc_auc', refit=True, n_jobs=-1)\n",
    "xgbc_grid.fit(X_train_xgbc, y_train_xgbc)\n",
    "\n",
    "print('XGBClassifier - best estimator: ', xgbc_grid.best_estimator_)\n",
    "print(\"Предсказание класса через лучшие параметры параметры\", \n",
    "      roc_auc_score(y_valid_xgbc, xgbc_grid.best_estimator_.predict_proba(X_valid_xgbc)[:, 1]))\n",
    "#############################################################################################"
   ]
  },
  {
   "cell_type": "code",
   "execution_count": null,
   "metadata": {},
   "outputs": [],
   "source": []
  },
  {
   "cell_type": "markdown",
   "metadata": {},
   "source": [
    "<a id='label_for_learn_stacking_LGBMClassifier'></a>\n",
    "\n",
    "## Поиск лучших параметров для LGBMClassifier\n",
    "\n",
    "[Перейти к \"Оглавлению\"](#Main)"
   ]
  },
  {
   "cell_type": "code",
   "execution_count": 29,
   "metadata": {
    "scrolled": true
   },
   "outputs": [
    {
     "name": "stdout",
     "output_type": "stream",
     "text": [
      "----------------------------------------------------------------------\n",
      "Количество строк 5282 и количество признаков 20 для обучающей+валидационной выборки\n",
      "Количество строк 1761 и количество признаков 19 для предсказаний\n",
      "----------------------------------------------------------------------\n",
      "----------------------------------------------------------------------\n",
      "Количество строк 4225 и количество признаков 68 для тестовой выборки\n",
      "Количество строк 1057 и количество признаков 68 для валидационной выборки\n",
      "Количество строк 1761 и количество признаков 68 для предсказаний\n",
      "----------------------------------------------------------------------\n",
      "Fitting 5 folds for each of 1 candidates, totalling 5 fits\n"
     ]
    },
    {
     "name": "stderr",
     "output_type": "stream",
     "text": [
      "[Parallel(n_jobs=-1)]: Using backend LokyBackend with 12 concurrent workers.\n",
      "[Parallel(n_jobs=-1)]: Done   2 out of   5 | elapsed:    0.8s remaining:    1.3s\n",
      "[Parallel(n_jobs=-1)]: Done   5 out of   5 | elapsed:    0.9s finished\n"
     ]
    },
    {
     "name": "stdout",
     "output_type": "stream",
     "text": [
      "[LightGBM] [Warning] Unknown parameter: eval_metric\n",
      "LGBMClassifier - best estimator:  LGBMClassifier(boosting_type='dart', class_weight='balanced',\n",
      "               colsample_bytree=1.0, eval_metric='auc', importance_type='split',\n",
      "               learning_rate=0.1, max_depth=2, min_child_samples=20,\n",
      "               min_child_weight=0.001, min_split_gain=0.0, n_estimators=240,\n",
      "               n_jobs=-1, num_leaves=4, objective=None, random_state=57,\n",
      "               reg_alpha=0.0, reg_lambda=0.0, silent='warn', subsample=1.0,\n",
      "               subsample_for_bin=200000, subsample_freq=0)\n",
      "Предсказание класса через лучшие параметры параметры 0.8528186614829214\n"
     ]
    }
   ],
   "source": [
    "import lightgbm as lgb\n",
    "from sklearn.model_selection import GridSearchCV, cross_val_score\n",
    "from sklearn.metrics import roc_auc_score\n",
    "\n",
    "\n",
    "#############################################################################################\n",
    "# LGBMClassifier\n",
    "\n",
    "X_train, y_train, X_valid, y_valid, X_predict = upload_and_prepare_data(where_data='computer', best=False)\n",
    "\n",
    "X_train_lgbmc = X_train.copy()\n",
    "y_train_lgbmc = y_train.copy()\n",
    "X_valid_lgbmc = X_valid.copy()\n",
    "y_valid_lgbmc = y_valid.copy()\n",
    "\n",
    "# parametrs_lgbmc = {\n",
    "#     'boosting_type': ['dart', 'gbdt', 'goss', 'rf'],\n",
    "#     'num_leaves': [1, 5, 6, 7, 10],\n",
    "#    'max_depth': [1, 2, 3, 4, 5, 10],\n",
    "#    'class_weight': ['balanced', None], \n",
    "#    'random_state': [57],\n",
    "#    'learning_rate': [0.01, 0.05, 0.1, 0.5, 0.9],\n",
    "#    'n_estimators': [10, 50, 100, 200, 500],\n",
    "#    'eval_metric': ['auc']\n",
    "# }\n",
    "\n",
    "parametrs_lgbmc = {\n",
    "    'boosting_type': ['dart'],\n",
    "    'num_leaves': [4],\n",
    "   'max_depth': [2],\n",
    "   'class_weight': ['balanced'], \n",
    "   'random_state': [57],\n",
    "   'learning_rate': [0.1],\n",
    "   'n_estimators': [240],\n",
    "   'eval_metric': ['auc']\n",
    "}\n",
    "\n",
    "clf_lgbmc = lgb.LGBMClassifier()\n",
    "lgbmc_grid = GridSearchCV(clf_lgbmc, parametrs_lgbmc, cv=5, verbose=4, scoring='roc_auc', refit=True, n_jobs=-1)\n",
    "lgbmc_grid.fit(X_train_lgbmc, y_train_lgbmc)\n",
    "\n",
    "print('LGBMClassifier - best estimator: ', lgbmc_grid.best_estimator_)\n",
    "print(\"Предсказание класса через лучшие параметры параметры\", \n",
    "      roc_auc_score(y_valid_lgbmc, lgbmc_grid.best_estimator_.predict_proba(X_valid_lgbmc)[:, 1]))\n",
    "#############################################################################################"
   ]
  },
  {
   "cell_type": "code",
   "execution_count": null,
   "metadata": {},
   "outputs": [],
   "source": []
  },
  {
   "cell_type": "markdown",
   "metadata": {},
   "source": [
    "<a id='label_for_learn_stacking_CatBoostClassifier'></a>\n",
    "\n",
    "## Поиск лучших значений для CatBoostClassifier\n",
    "\n",
    "[Перейти к \"Оглавлению\"](#Main)"
   ]
  },
  {
   "cell_type": "code",
   "execution_count": 30,
   "metadata": {
    "scrolled": true
   },
   "outputs": [
    {
     "name": "stdout",
     "output_type": "stream",
     "text": [
      "----------------------------------------------------------------------\n",
      "Количество строк 5282 и количество признаков 20 для обучающей+валидационной выборки\n",
      "Количество строк 1761 и количество признаков 19 для предсказаний\n",
      "----------------------------------------------------------------------\n",
      "----------------------------------------------------------------------\n",
      "Количество строк 4225 и количество признаков 68 для тестовой выборки\n",
      "Количество строк 1057 и количество признаков 68 для валидационной выборки\n",
      "Количество строк 1761 и количество признаков 68 для предсказаний\n",
      "----------------------------------------------------------------------\n",
      "Fitting 5 folds for each of 1 candidates, totalling 5 fits\n"
     ]
    },
    {
     "name": "stderr",
     "output_type": "stream",
     "text": [
      "[Parallel(n_jobs=-1)]: Using backend LokyBackend with 12 concurrent workers.\n",
      "[Parallel(n_jobs=-1)]: Done   2 out of   5 | elapsed:    0.3s remaining:    0.5s\n",
      "[Parallel(n_jobs=-1)]: Done   5 out of   5 | elapsed:    0.3s finished\n"
     ]
    },
    {
     "name": "stdout",
     "output_type": "stream",
     "text": [
      "CatBoostClassifier - best estimator:  {'iterations': 150, 'learning_rate': 0.05, 'depth': 2, 'l2_leaf_reg': 0, 'loss_function': 'Logloss', 'random_seed': 4, 'silent': True, 'eval_metric': 'AUC:type=Classic', 'min_data_in_leaf': 1}\n",
      "Предсказание класса через лучшие параметры параметры 0.8570744237711747\n"
     ]
    }
   ],
   "source": [
    "from catboost import CatBoostClassifier\n",
    "from sklearn.model_selection import GridSearchCV, cross_val_score\n",
    "from sklearn.metrics import roc_auc_score\n",
    "\n",
    "\n",
    "\n",
    "#############################################################################################\n",
    "# CatBoostClassifier\n",
    "\n",
    "X_train, y_train, X_valid, y_valid, X_predict = upload_and_prepare_data(where_data='computer', best=False)\n",
    "\n",
    "X_train_cbc = X_train.copy()\n",
    "y_train_cbc = y_train.copy()\n",
    "X_valid_cbc = X_valid.copy()\n",
    "y_valid_cbc = y_valid.copy()\n",
    "\n",
    "clf_cbc = CatBoostClassifier(iterations=400,\n",
    "                       depth=4,\n",
    "                       learning_rate=0.05,\n",
    "                       loss_function='Logloss',\n",
    "                       random_seed = 4,\n",
    "                       l2_leaf_reg = 40,\n",
    "                       silent=True,\n",
    "                       eval_metric='AUC:type=Classic'\n",
    "                       )\n",
    "\n",
    "# parametrs_cbc = {\n",
    "#     'iterations': [10, 50, 100, 150, 200, 500],\n",
    "#     \"learning_rate\": [0.01, 0.05, 0.1, 0.5, 0.9],\n",
    "#     'min_data_in_leaf': [1, 2, 3, 5, 10],\n",
    "#     'depth': [1, 2, 3, 4, 5],\n",
    "#     'l2_leaf_reg': [0, 0.001, 0.005, 0.01, 0.05, 0.1]    \n",
    "# }\n",
    "\n",
    "parametrs_cbc = {\n",
    "    'iterations': [150],\n",
    "    \"learning_rate\": [0.05],\n",
    "    'min_data_in_leaf': [1],\n",
    "    'depth': [2],\n",
    "    'l2_leaf_reg': [0]    \n",
    "}\n",
    "\n",
    "cbc_grid = GridSearchCV(clf_cbc, parametrs_cbc, cv=5, verbose=4, scoring='roc_auc', refit=True, n_jobs=-1)\n",
    "cbc_grid.fit(X_train_cbc, y_train_cbc)\n",
    "\n",
    "print('CatBoostClassifier - best estimator: ', cbc_grid.best_estimator_.get_params())\n",
    "print(\"Предсказание класса через лучшие параметры параметры\", \n",
    "      roc_auc_score(y_valid_cbc, cbc_grid.best_estimator_.predict_proba(X_valid_cbc)[:, 1]))\n",
    "#############################################################################################"
   ]
  },
  {
   "cell_type": "code",
   "execution_count": null,
   "metadata": {},
   "outputs": [],
   "source": []
  },
  {
   "cell_type": "markdown",
   "metadata": {},
   "source": [
    "<a id='label_for_learn_stacking_sklearn'></a>\n",
    "\n",
    "# Использование стекинга для моделей с лучшими параметрами для моделей из Sklearn\n",
    "\n",
    "[Перейти к \"Оглавлению\"](#Main)"
   ]
  },
  {
   "cell_type": "markdown",
   "metadata": {},
   "source": [
    "<a id='label_for_learn_stacking_sklearn_LogisticRegression'></a>\n",
    "\n",
    "## Использование стекинга для моделей с лучшими параметрами c итоговым методом LogisticRegression\n",
    "\n",
    "[Перейти к \"Оглавлению\"](#Main)"
   ]
  },
  {
   "cell_type": "code",
   "execution_count": 33,
   "metadata": {
    "scrolled": true
   },
   "outputs": [
    {
     "name": "stdout",
     "output_type": "stream",
     "text": [
      "----------------------------------------------------------------------\n",
      "Количество строк 5282 и количество признаков 20 для обучающей+валидационной выборки\n",
      "Количество строк 1761 и количество признаков 19 для предсказаний\n",
      "----------------------------------------------------------------------\n",
      "----------------------------------------------------------------------\n",
      "Количество строк 4225 и количество признаков 68 для тестовой выборки\n",
      "Количество строк 1057 и количество признаков 68 для валидационной выборки\n",
      "Количество строк 1761 и количество признаков 68 для предсказаний\n",
      "----------------------------------------------------------------------\n",
      "Fitting 5 folds for each of 1 candidates, totalling 5 fits\n"
     ]
    },
    {
     "name": "stderr",
     "output_type": "stream",
     "text": [
      "[Parallel(n_jobs=-1)]: Using backend LokyBackend with 12 concurrent workers.\n",
      "[Parallel(n_jobs=-1)]: Done   2 out of   5 | elapsed:    0.7s remaining:    1.1s\n",
      "[Parallel(n_jobs=-1)]: Done   5 out of   5 | elapsed:    1.4s finished\n"
     ]
    },
    {
     "name": "stdout",
     "output_type": "stream",
     "text": [
      "Fitting 5 folds for each of 1 candidates, totalling 5 fits\n"
     ]
    },
    {
     "name": "stderr",
     "output_type": "stream",
     "text": [
      "[Parallel(n_jobs=-1)]: Using backend LokyBackend with 12 concurrent workers.\n",
      "[Parallel(n_jobs=-1)]: Done   5 out of   5 | elapsed:    0.1s finished\n",
      "[Parallel(n_jobs=-1)]: Using backend LokyBackend with 12 concurrent workers.\n"
     ]
    },
    {
     "name": "stdout",
     "output_type": "stream",
     "text": [
      "Fitting 5 folds for each of 1 candidates, totalling 5 fits\n",
      "Fitting 5 folds for each of 1 candidates, totalling 5 fits\n"
     ]
    },
    {
     "name": "stderr",
     "output_type": "stream",
     "text": [
      "[Parallel(n_jobs=-1)]: Done   2 out of   5 | elapsed:    0.0s remaining:    0.0s\n",
      "[Parallel(n_jobs=-1)]: Done   5 out of   5 | elapsed:    0.0s finished\n",
      "[Parallel(n_jobs=-1)]: Using backend LokyBackend with 12 concurrent workers.\n",
      "[Parallel(n_jobs=-1)]: Done   2 out of   5 | elapsed:    1.6s remaining:    2.5s\n",
      "[Parallel(n_jobs=-1)]: Done   5 out of   5 | elapsed:    2.0s finished\n"
     ]
    },
    {
     "name": "stdout",
     "output_type": "stream",
     "text": [
      "Fitting 5 folds for each of 1 candidates, totalling 5 fits\n"
     ]
    },
    {
     "name": "stderr",
     "output_type": "stream",
     "text": [
      "[Parallel(n_jobs=-1)]: Using backend LokyBackend with 12 concurrent workers.\n",
      "[Parallel(n_jobs=-1)]: Done   2 out of   5 | elapsed:   17.8s remaining:   26.7s\n",
      "[Parallel(n_jobs=-1)]: Done   5 out of   5 | elapsed:   18.2s finished\n"
     ]
    },
    {
     "name": "stdout",
     "output_type": "stream",
     "text": [
      "Sklearn - best estimator:  StackingClassifier(cv=5,\n",
      "                   estimators=[('grid_rfc',\n",
      "                                RandomForestClassifier(bootstrap=True,\n",
      "                                                       ccp_alpha=0.0,\n",
      "                                                       class_weight=None,\n",
      "                                                       criterion='entropy',\n",
      "                                                       max_depth=None,\n",
      "                                                       max_features='sqrt',\n",
      "                                                       max_leaf_nodes=None,\n",
      "                                                       max_samples=200,\n",
      "                                                       min_impurity_decrease=0.0,\n",
      "                                                       min_impurity_split=None,\n",
      "                                                       min_samples_leaf=2,\n",
      "                                                       min_samples_split=2,\n",
      "                                                       min_weight_fraction_leaf=0.0,\n",
      "                                                       n_estimators=1000,\n",
      "                                                       n_job...\n",
      "                                              verbose=False,\n",
      "                                              warm_start=False))],\n",
      "                   final_estimator=LogisticRegression(C=1.3, class_weight=None,\n",
      "                                                      dual=False,\n",
      "                                                      fit_intercept=True,\n",
      "                                                      intercept_scaling=1,\n",
      "                                                      l1_ratio=None,\n",
      "                                                      max_iter=50000,\n",
      "                                                      multi_class='auto',\n",
      "                                                      n_jobs=None, penalty='l2',\n",
      "                                                      random_state=57,\n",
      "                                                      solver='saga', tol=0.0001,\n",
      "                                                      verbose=0,\n",
      "                                                      warm_start=False),\n",
      "                   n_jobs=None, passthrough=False, stack_method='predict_proba',\n",
      "                   verbose=0)\n",
      "Предсказание класса через лучшие параметры параметры 0.8563176895306858\n"
     ]
    }
   ],
   "source": [
    "from sklearn.linear_model import LogisticRegression\n",
    "from sklearn.naive_bayes import GaussianNB\n",
    "from sklearn.ensemble import RandomForestClassifier\n",
    "from sklearn.neural_network import MLPClassifier\n",
    "from sklearn.ensemble import GradientBoostingClassifier\n",
    "from sklearn.ensemble import StackingClassifier\n",
    "from sklearn.model_selection import GridSearchCV, cross_val_score\n",
    "from sklearn.metrics import roc_auc_score\n",
    "from sklearn.pipeline import Pipeline\n",
    "\n",
    "\n",
    "X_train, y_train, X_valid, y_valid, X_predict = upload_and_prepare_data(where_data='computer', best=False)\n",
    "\n",
    "##############################################################################################\n",
    "# MLPClassifier\n",
    "\n",
    "X_train_mlpc = X_train.copy()\n",
    "y_train_mlpc = y_train.copy()\n",
    "\n",
    "parameters_mlpc = {\n",
    "    'activation': ['logistic'],\n",
    "    'solver': ['adam'],\n",
    "    'max_iter': [200],\n",
    "    'alpha': [0.006],\n",
    "    'learning_rate': ['constant'],\n",
    "    'hidden_layer_sizes': [40],\n",
    "    'random_state': [57]\n",
    "}\n",
    "\n",
    "clf_mlpc = MLPClassifier()\n",
    "mlpc_grid = GridSearchCV(clf_mlpc, parameters_mlpc, cv=5, scoring='roc_auc', n_jobs=-1, verbose=3)\n",
    "mlpc_grid.fit(X_train_mlpc, y_train_mlpc)\n",
    "##############################################################################################\n",
    "\n",
    "\n",
    "##############################################################################################\n",
    "# GaussianNB \n",
    "\n",
    "X_train_gnb = X_train.copy()\n",
    "y_train_gnb = y_train.copy()\n",
    "\n",
    "clf_gnb = GaussianNB()\n",
    "clf_gnb.fit(X_train_gnb, y_train_gnb)\n",
    "##############################################################################################\n",
    "\n",
    "\n",
    "##############################################################################################\n",
    "# GradientBoostingClassifier\n",
    "\n",
    "# pipe_gbc = Pipeline(steps=[\n",
    "#         ('select', SelectFromModel(estimator=GradientBoostingClassifier(loss='exponential', \n",
    "#                                                                         criterion='friedman_mse', \n",
    "#                                                                         random_state=57))),\n",
    "#         ('clf', GradientBoostingClassifier(loss='exponential', \n",
    "#                                            criterion='friedman_mse', \n",
    "#                                           random_state=57))\n",
    "# ])\n",
    "\n",
    "X_train_gbc = X_train.copy()\n",
    "y_train_gbc = y_train.copy()\n",
    "\n",
    "clf_gbc = GradientBoostingClassifier()\n",
    "\n",
    "parameters_gbc = {\n",
    "        'learning_rate': [0.1],\n",
    "        'n_estimators': [170],\n",
    "        'subsample': [1],\n",
    "        'min_samples_leaf': [2],\n",
    "        'max_depth': [1],\n",
    "        'max_features': ['log2'],\n",
    "        'random_state': [57]\n",
    "        }\n",
    "grid_gbc = GridSearchCV(clf_gbc, parameters_gbc, cv=5, scoring='roc_auc', n_jobs=-1, refit=True, verbose=1)\n",
    "grid_gbc.fit(X_train_gbc, y_train_gbc)\n",
    "##############################################################################################\n",
    "\n",
    "\n",
    "##############################################################################################\n",
    "# LogisticRegression\n",
    "\n",
    "# pipe_lr = Pipeline(steps=[\n",
    "#         ('select', SelectFromModel(estimator=LogisticRegression(solver='saga', random_state=57))),\n",
    "#         ('clf', LogisticRegression(solver='saga', random_state=57))\n",
    "# ])\n",
    "\n",
    "X_train_lr = X_train.copy()\n",
    "y_train_lr = y_train.copy()\n",
    "\n",
    "parameters_lr= {\n",
    "    'penalty': ['l1'],\n",
    "    'C': [0.4],\n",
    "    'class_weight': [None],\n",
    "    'max_iter': [10000],\n",
    "    'random_state': [57],\n",
    "    'solver': ['liblinear']\n",
    "}\n",
    "clf_lr = LogisticRegression()\n",
    "\n",
    "grid_lr = GridSearchCV(clf_lr, parameters_lr, cv=5, scoring='roc_auc', n_jobs=-1, verbose=3)\n",
    "grid_lr.fit(X_train_lr, y_train_lr)\n",
    "##############################################################################################\n",
    "\n",
    "\n",
    "##############################################################################################\n",
    "# RandomForestClassifier \n",
    "\n",
    "# pipe_rfc = Pipeline(steps=[\n",
    "#         ('select', SelectFromModel(estimator=RandomForestClassifier(criterion='entropy'), threshold='mean')),\n",
    "#         ('clf', RandomForestClassifier(criterion='entropy'))\n",
    "# ])\n",
    "\n",
    "X_train_rfc = X_train.copy()\n",
    "y_train_rfc = y_train.copy()\n",
    "\n",
    "parameters_rfc = {\n",
    "    'n_estimators': [1000],\n",
    "    'criterion': ['entropy'],\n",
    "    'min_samples_leaf': [2],\n",
    "    'max_features': ['sqrt'],\n",
    "    'max_samples': [200]\n",
    "}\n",
    "\n",
    "clf_rfc = RandomForestClassifier()\n",
    "\n",
    "grid_rfc = GridSearchCV(clf_rfc, parameters_rfc, cv=5, scoring='roc_auc', n_jobs=-1, verbose=3)\n",
    "grid_rfc.fit(X_train_rfc, y_train_rfc)\n",
    "##############################################################################################\n",
    "\n",
    "estimators = [\n",
    "              ('grid_rfc', grid_rfc.best_estimator_),\n",
    "              ('grid_gbc', grid_gbc.best_estimator_),\n",
    "              ('clf_gnb', clf_gnb),\n",
    "              ('grid_lr', grid_lr.best_estimator_),\n",
    "              ('mlpc_grid', mlpc_grid.best_estimator_)\n",
    "]\n",
    "\n",
    "sc_clf_lr = StackingClassifier(estimators=estimators, final_estimator=LogisticRegression(random_state=57), cv=5)\n",
    "\n",
    "# parameters_sc_lr = {\n",
    "#     'final_estimator__penalty': ['l2'],\n",
    "#     'final_estimator__solver': ['newton-cg', 'lbfgs', 'liblinear', 'sag', 'saga'],\n",
    "#     'final_estimator__class_weight': ['balanced'],\n",
    "#     'final_estimator__C': [0.01, 0.1, 1, 10, 20],\n",
    "#     'final_estimator__max_iter': [50000],\n",
    "#     'final_estimator__random_state': [57],\n",
    "#     'stack_method': ['predict_proba']\n",
    "# }\n",
    "\n",
    "parameters_sc_lr = {\n",
    "    'final_estimator__penalty': ['l2'],\n",
    "    'final_estimator__solver': ['saga'],\n",
    "    'final_estimator__class_weight': [None],\n",
    "    'final_estimator__C': [1.3],\n",
    "    'final_estimator__max_iter': [50000],\n",
    "    'final_estimator__random_state': [57],\n",
    "    'stack_method': ['predict_proba']\n",
    "}\n",
    "\n",
    "grid_sc_sklearn_clf_lr = GridSearchCV(sc_clf_lr, parameters_sc_lr, cv=5, scoring='roc_auc', n_jobs=-1, verbose=3)\n",
    "grid_sc_sklearn_clf_lr.fit(X_train, y_train)\n",
    "\n",
    "print('Sklearn - best estimator: ', grid_sc_sklearn_clf_lr.best_estimator_)\n",
    "print(\"Предсказание класса через лучшие параметры параметры\", \n",
    "      roc_auc_score(y_valid, grid_sc_sklearn_clf_lr.best_estimator_.predict_proba(X_valid)[:, 1]))\n",
    "##############################################################################################"
   ]
  },
  {
   "cell_type": "code",
   "execution_count": null,
   "metadata": {},
   "outputs": [],
   "source": []
  },
  {
   "cell_type": "markdown",
   "metadata": {},
   "source": [
    "<a id='label_for_learn_stacking_sklearn_NuSVC'></a>\n",
    "\n",
    "## Использование стекинга для моделей с лучшими параметрами c итоговым методом NuSVC\n",
    "\n",
    "[Перейти к \"Оглавлению\"](#Main)"
   ]
  },
  {
   "cell_type": "code",
   "execution_count": 34,
   "metadata": {
    "scrolled": true
   },
   "outputs": [
    {
     "name": "stdout",
     "output_type": "stream",
     "text": [
      "----------------------------------------------------------------------\n",
      "Количество строк 5282 и количество признаков 20 для обучающей+валидационной выборки\n",
      "Количество строк 1761 и количество признаков 19 для предсказаний\n",
      "----------------------------------------------------------------------\n",
      "----------------------------------------------------------------------\n",
      "Количество строк 4225 и количество признаков 68 для тестовой выборки\n",
      "Количество строк 1057 и количество признаков 68 для валидационной выборки\n",
      "Количество строк 1761 и количество признаков 68 для предсказаний\n",
      "----------------------------------------------------------------------\n",
      "Fitting 5 folds for each of 1 candidates, totalling 5 fits\n"
     ]
    },
    {
     "name": "stderr",
     "output_type": "stream",
     "text": [
      "[Parallel(n_jobs=-1)]: Using backend LokyBackend with 12 concurrent workers.\n",
      "[Parallel(n_jobs=-1)]: Done   2 out of   5 | elapsed:    1.0s remaining:    1.6s\n",
      "[Parallel(n_jobs=-1)]: Done   5 out of   5 | elapsed:    2.4s finished\n"
     ]
    },
    {
     "name": "stdout",
     "output_type": "stream",
     "text": [
      "Fitting 5 folds for each of 1 candidates, totalling 5 fits\n"
     ]
    },
    {
     "name": "stderr",
     "output_type": "stream",
     "text": [
      "[Parallel(n_jobs=-1)]: Using backend LokyBackend with 12 concurrent workers.\n",
      "[Parallel(n_jobs=-1)]: Done   5 out of   5 | elapsed:    0.8s finished\n",
      "[Parallel(n_jobs=-1)]: Using backend LokyBackend with 12 concurrent workers.\n"
     ]
    },
    {
     "name": "stdout",
     "output_type": "stream",
     "text": [
      "Fitting 5 folds for each of 1 candidates, totalling 5 fits\n"
     ]
    },
    {
     "name": "stderr",
     "output_type": "stream",
     "text": [
      "[Parallel(n_jobs=-1)]: Done   2 out of   5 | elapsed:    0.0s remaining:    0.0s\n",
      "[Parallel(n_jobs=-1)]: Done   5 out of   5 | elapsed:    0.5s finished\n",
      "[Parallel(n_jobs=-1)]: Using backend LokyBackend with 12 concurrent workers.\n"
     ]
    },
    {
     "name": "stdout",
     "output_type": "stream",
     "text": [
      "Fitting 5 folds for each of 1 candidates, totalling 5 fits\n"
     ]
    },
    {
     "name": "stderr",
     "output_type": "stream",
     "text": [
      "[Parallel(n_jobs=-1)]: Done   2 out of   5 | elapsed:    1.9s remaining:    2.9s\n",
      "[Parallel(n_jobs=-1)]: Done   5 out of   5 | elapsed:    2.0s finished\n"
     ]
    },
    {
     "name": "stdout",
     "output_type": "stream",
     "text": [
      "Fitting 5 folds for each of 1 candidates, totalling 5 fits\n"
     ]
    },
    {
     "name": "stderr",
     "output_type": "stream",
     "text": [
      "[Parallel(n_jobs=-1)]: Using backend LokyBackend with 12 concurrent workers.\n",
      "[Parallel(n_jobs=-1)]: Done   2 out of   5 | elapsed:   19.4s remaining:   29.2s\n",
      "[Parallel(n_jobs=-1)]: Done   5 out of   5 | elapsed:   20.5s finished\n"
     ]
    },
    {
     "name": "stdout",
     "output_type": "stream",
     "text": [
      "Sklearn - best estimator:  StackingClassifier(cv=5,\n",
      "                   estimators=[('grid_rfc',\n",
      "                                RandomForestClassifier(bootstrap=True,\n",
      "                                                       ccp_alpha=0.0,\n",
      "                                                       class_weight=None,\n",
      "                                                       criterion='entropy',\n",
      "                                                       max_depth=None,\n",
      "                                                       max_features='sqrt',\n",
      "                                                       max_leaf_nodes=None,\n",
      "                                                       max_samples=200,\n",
      "                                                       min_impurity_decrease=0.0,\n",
      "                                                       min_impurity_split=None,\n",
      "                                                       min_samples_leaf=2,\n",
      "                                                       min_samples_split=2,\n",
      "                                                       min_weight_fraction_leaf=0.0,\n",
      "                                                       n_estimators=1000,\n",
      "                                                       n_job...\n",
      "                                              verbose=False,\n",
      "                                              warm_start=False))],\n",
      "                   final_estimator=NuSVC(break_ties=False, cache_size=200,\n",
      "                                         class_weight='balanced', coef0=0.0,\n",
      "                                         decision_function_shape='ovr',\n",
      "                                         degree=3, gamma='scale',\n",
      "                                         kernel='linear', max_iter=-1, nu=0.5,\n",
      "                                         probability=True, random_state=57,\n",
      "                                         shrinking=True, tol=0.001,\n",
      "                                         verbose=False),\n",
      "                   n_jobs=None, passthrough=False, stack_method='predict_proba',\n",
      "                   verbose=0)\n",
      "Предсказание класса через лучшие параметры параметры 0.8582199389058596\n"
     ]
    }
   ],
   "source": [
    "from sklearn.linear_model import LogisticRegression\n",
    "from sklearn.naive_bayes import GaussianNB\n",
    "from sklearn.ensemble import RandomForestClassifier\n",
    "from sklearn.neural_network import MLPClassifier\n",
    "from sklearn.ensemble import GradientBoostingClassifier\n",
    "from sklearn.ensemble import StackingClassifier\n",
    "\n",
    "from sklearn.svm import NuSVC\n",
    "\n",
    "from sklearn.model_selection import GridSearchCV, cross_val_score\n",
    "from sklearn.metrics import roc_auc_score\n",
    "from sklearn.pipeline import Pipeline\n",
    "\n",
    "\n",
    "X_train, y_train, X_valid, y_valid, X_predict = upload_and_prepare_data(where_data='computer', best=False)\n",
    "\n",
    "##############################################################################################\n",
    "# MLPClassifier\n",
    "\n",
    "X_train_mlpc = X_train.copy()\n",
    "y_train_mlpc = y_train.copy()\n",
    "\n",
    "parameters_mlpc = {\n",
    "    'activation': ['logistic'],\n",
    "    'solver': ['adam'],\n",
    "    'max_iter': [200],\n",
    "    'alpha': [0.006],\n",
    "    'learning_rate': ['constant'],\n",
    "    'hidden_layer_sizes': [40],\n",
    "    'random_state': [57]\n",
    "}\n",
    "\n",
    "clf_mlpc = MLPClassifier()\n",
    "mlpc_grid = GridSearchCV(clf_mlpc, parameters_mlpc, cv=5, scoring='roc_auc', n_jobs=-1, verbose=3)\n",
    "mlpc_grid.fit(X_train_mlpc, y_train_mlpc)\n",
    "##############################################################################################\n",
    "\n",
    "\n",
    "##############################################################################################\n",
    "# GaussianNB \n",
    "\n",
    "X_train_gnb = X_train.copy()\n",
    "y_train_gnb = y_train.copy()\n",
    "\n",
    "clf_gnb = GaussianNB()\n",
    "clf_gnb.fit(X_train_gnb, y_train_gnb)\n",
    "##############################################################################################\n",
    "\n",
    "\n",
    "##############################################################################################\n",
    "# GradientBoostingClassifier\n",
    "\n",
    "# pipe_gbc = Pipeline(steps=[\n",
    "#         ('select', SelectFromModel(estimator=GradientBoostingClassifier(loss='exponential', \n",
    "#                                                                         criterion='friedman_mse', \n",
    "#                                                                         random_state=57))),\n",
    "#         ('clf', GradientBoostingClassifier(loss='exponential', \n",
    "#                                            criterion='friedman_mse', \n",
    "#                                           random_state=57))\n",
    "# ])\n",
    "\n",
    "X_train_gbc = X_train.copy()\n",
    "y_train_gbc = y_train.copy()\n",
    "\n",
    "clf_gbc = GradientBoostingClassifier()\n",
    "\n",
    "parameters_gbc = {\n",
    "        'learning_rate': [0.1],\n",
    "        'n_estimators': [170],\n",
    "        'subsample': [1],\n",
    "        'min_samples_leaf': [2],\n",
    "        'max_depth': [1],\n",
    "        'max_features': ['log2'],\n",
    "        'random_state': [57]\n",
    "        }\n",
    "grid_gbc = GridSearchCV(clf_gbc, parameters_gbc, cv=5, scoring='roc_auc', n_jobs=-1, refit=True, verbose=1)\n",
    "grid_gbc.fit(X_train_gbc, y_train_gbc)\n",
    "##############################################################################################\n",
    "\n",
    "\n",
    "##############################################################################################\n",
    "# LogisticRegression\n",
    "\n",
    "# pipe_lr = Pipeline(steps=[\n",
    "#         ('select', SelectFromModel(estimator=LogisticRegression(solver='saga', random_state=57))),\n",
    "#         ('clf', LogisticRegression(solver='saga', random_state=57))\n",
    "# ])\n",
    "\n",
    "X_train_lr = X_train.copy()\n",
    "y_train_lr = y_train.copy()\n",
    "\n",
    "parameters_lr= {\n",
    "    'penalty': ['l1'],\n",
    "    'C': [0.4],\n",
    "    'class_weight': [None],\n",
    "    'max_iter': [10000],\n",
    "    'random_state': [57],\n",
    "    'solver': ['liblinear']\n",
    "}\n",
    "clf_lr = LogisticRegression()\n",
    "\n",
    "grid_lr = GridSearchCV(clf_lr, parameters_lr, cv=5, scoring='roc_auc', n_jobs=-1, verbose=3)\n",
    "grid_lr.fit(X_train_lr, y_train_lr)\n",
    "##############################################################################################\n",
    "\n",
    "\n",
    "##############################################################################################\n",
    "# RandomForestClassifier \n",
    "\n",
    "# pipe_rfc = Pipeline(steps=[\n",
    "#         ('select', SelectFromModel(estimator=RandomForestClassifier(criterion='entropy'), threshold='mean')),\n",
    "#         ('clf', RandomForestClassifier(criterion='entropy'))\n",
    "# ])\n",
    "\n",
    "X_train_rfc = X_train.copy()\n",
    "y_train_rfc = y_train.copy()\n",
    "\n",
    "parameters_rfc = {\n",
    "    'n_estimators': [1000],\n",
    "    'criterion': ['entropy'],\n",
    "    'min_samples_leaf': [2],\n",
    "    'max_features': ['sqrt'],\n",
    "    'max_samples': [200]\n",
    "}\n",
    "\n",
    "clf_rfc = RandomForestClassifier()\n",
    "\n",
    "grid_rfc = GridSearchCV(clf_rfc, parameters_rfc, cv=5, scoring='roc_auc', n_jobs=-1, verbose=3)\n",
    "grid_rfc.fit(X_train_rfc, y_train_rfc)\n",
    "##############################################################################################\n",
    "\n",
    "estimators = [\n",
    "              ('grid_rfc', grid_rfc.best_estimator_),\n",
    "              ('grid_gbc', grid_gbc.best_estimator_),\n",
    "              ('clf_gnb', clf_gnb),\n",
    "              ('grid_lr', grid_lr.best_estimator_),\n",
    "              ('mlpc_grid', mlpc_grid.best_estimator_)\n",
    "]\n",
    "\n",
    "sc_clf = StackingClassifier(estimators=estimators, final_estimator=NuSVC(random_state=57), cv=5)\n",
    "\n",
    "# parameters_sc_rc = {\n",
    "#     'final_estimator__kernel' :['linear', 'poly', 'rbf', 'sigmoid', 'precomputed'],   \n",
    "#     'final_estimator__probability': [True],\n",
    "#     'final_estimator__nu': [0.1, 0.3,  0.5, 0.7, 0.9],\n",
    "#     'final_estimator__degree': [1, 2, 3, 4, 5],\n",
    "#     'final_estimator__class_weight': ['balanced', None],\n",
    "#     'final_estimator__random_state': [57],\n",
    "#     'stack_method': ['predict_proba']\n",
    "# }\n",
    "\n",
    "parameters_sc_rc = {\n",
    "    'final_estimator__kernel' :['linear'],   \n",
    "    'final_estimator__probability': [True],\n",
    "    'final_estimator__nu': [0.5],\n",
    "    'final_estimator__degree': [3],\n",
    "    'final_estimator__class_weight': ['balanced'],\n",
    "    'final_estimator__random_state': [57],\n",
    "    'stack_method': ['predict_proba']\n",
    "}\n",
    "\n",
    "grid_sc_sklearn_clf_rc = GridSearchCV(sc_clf, parameters_sc_rc, cv=5, scoring='roc_auc', n_jobs=-1, verbose=3)\n",
    "grid_sc_sklearn_clf_rc.fit(X_train, y_train)\n",
    "\n",
    "print('Sklearn - best estimator: ', grid_sc_sklearn_clf_rc.best_estimator_)\n",
    "print(\"Предсказание класса через лучшие параметры параметры\", \n",
    "      roc_auc_score(y_valid, grid_sc_sklearn_clf_rc.best_estimator_.predict_proba(X_valid)[:, 1]))\n",
    "##############################################################################################"
   ]
  },
  {
   "cell_type": "code",
   "execution_count": null,
   "metadata": {},
   "outputs": [],
   "source": []
  },
  {
   "cell_type": "markdown",
   "metadata": {},
   "source": [
    "<a id='label_for_learn_stacking_libraries'></a>\n",
    "\n",
    "# Использование стекинга для моделей с лучшими параметрами для моделей из XGBClassifier, CatBoostClassifier, lightgbm\n",
    "\n",
    "[Перейти к \"Оглавлению\"](#Main)"
   ]
  },
  {
   "cell_type": "markdown",
   "metadata": {},
   "source": [
    "<a id='label_for_learn_stacking_libraries_LogisticRegression'></a>\n",
    "\n",
    "## Использование стекинга для моделей с лучшими параметрами c итоговым методом LogisticRegression\n",
    "\n",
    "[Перейти к \"Оглавлению\"](#Main)"
   ]
  },
  {
   "cell_type": "code",
   "execution_count": 35,
   "metadata": {
    "scrolled": true
   },
   "outputs": [
    {
     "name": "stdout",
     "output_type": "stream",
     "text": [
      "----------------------------------------------------------------------\n",
      "Количество строк 5282 и количество признаков 20 для обучающей+валидационной выборки\n",
      "Количество строк 1761 и количество признаков 19 для предсказаний\n",
      "----------------------------------------------------------------------\n",
      "----------------------------------------------------------------------\n",
      "Количество строк 4225 и количество признаков 68 для тестовой выборки\n",
      "Количество строк 1057 и количество признаков 68 для валидационной выборки\n",
      "Количество строк 1761 и количество признаков 68 для предсказаний\n",
      "----------------------------------------------------------------------\n",
      "Fitting 5 folds for each of 1 candidates, totalling 5 fits\n"
     ]
    },
    {
     "name": "stderr",
     "output_type": "stream",
     "text": [
      "[Parallel(n_jobs=-1)]: Using backend LokyBackend with 12 concurrent workers.\n",
      "[Parallel(n_jobs=-1)]: Done   2 out of   5 | elapsed:    0.0s remaining:    0.1s\n",
      "[Parallel(n_jobs=-1)]: Done   5 out of   5 | elapsed:    0.0s finished\n"
     ]
    },
    {
     "name": "stdout",
     "output_type": "stream",
     "text": [
      "Fitting 5 folds for each of 1 candidates, totalling 5 fits\n"
     ]
    },
    {
     "name": "stderr",
     "output_type": "stream",
     "text": [
      "[Parallel(n_jobs=-1)]: Using backend LokyBackend with 12 concurrent workers.\n",
      "[Parallel(n_jobs=-1)]: Done   2 out of   5 | elapsed:    0.9s remaining:    1.3s\n",
      "[Parallel(n_jobs=-1)]: Done   5 out of   5 | elapsed:    0.9s finished\n"
     ]
    },
    {
     "name": "stdout",
     "output_type": "stream",
     "text": [
      "[LightGBM] [Warning] Unknown parameter: eval_metric\n",
      "Fitting 5 folds for each of 1 candidates, totalling 5 fits\n",
      "Fitting 5 folds for each of 1 candidates, totalling 5 fits\n"
     ]
    },
    {
     "name": "stderr",
     "output_type": "stream",
     "text": [
      "[Parallel(n_jobs=-1)]: Using backend LokyBackend with 12 concurrent workers.\n",
      "[Parallel(n_jobs=-1)]: Done   2 out of   5 | elapsed:    0.0s remaining:    0.0s\n",
      "[Parallel(n_jobs=-1)]: Done   5 out of   5 | elapsed:    0.0s finished\n",
      "[Parallel(n_jobs=-1)]: Using backend LokyBackend with 12 concurrent workers.\n",
      "[Parallel(n_jobs=-1)]: Done   2 out of   5 | elapsed:    0.2s remaining:    0.4s\n",
      "[Parallel(n_jobs=-1)]: Done   5 out of   5 | elapsed:    0.9s finished\n"
     ]
    },
    {
     "name": "stdout",
     "output_type": "stream",
     "text": [
      "Fitting 5 folds for each of 3 candidates, totalling 15 fits\n"
     ]
    },
    {
     "name": "stderr",
     "output_type": "stream",
     "text": [
      "[Parallel(n_jobs=-1)]: Using backend LokyBackend with 12 concurrent workers.\n",
      "[Parallel(n_jobs=-1)]: Done   4 out of  15 | elapsed:   34.7s remaining:  1.6min\n",
      "[Parallel(n_jobs=-1)]: Done  10 out of  15 | elapsed:   35.7s remaining:   17.8s\n",
      "[Parallel(n_jobs=-1)]: Done  15 out of  15 | elapsed:   51.9s finished\n"
     ]
    },
    {
     "name": "stdout",
     "output_type": "stream",
     "text": [
      "StackingClassifier - best estimator:  StackingClassifier(cv=5,\n",
      "                   estimators=[('grid_rfc',\n",
      "                                RandomForestClassifier(bootstrap=True,\n",
      "                                                       ccp_alpha=0.0,\n",
      "                                                       class_weight=None,\n",
      "                                                       criterion='entropy',\n",
      "                                                       max_depth=None,\n",
      "                                                       max_features='sqrt',\n",
      "                                                       max_leaf_nodes=None,\n",
      "                                                       max_samples=200,\n",
      "                                                       min_impurity_decrease=0.0,\n",
      "                                                       min_impurity_split=None,\n",
      "                                                       min_samples_leaf=2,\n",
      "                                                       min_samples_split=2,\n",
      "                                                       min_weight_fraction_leaf=0.0,\n",
      "                                                       n_estimators=1000,\n",
      "                                                       n_job...\n",
      "                                              verbose=False,\n",
      "                                              warm_start=False))],\n",
      "                   final_estimator=LogisticRegression(C=0.09, class_weight=None,\n",
      "                                                      dual=False,\n",
      "                                                      fit_intercept=True,\n",
      "                                                      intercept_scaling=1,\n",
      "                                                      l1_ratio=None,\n",
      "                                                      max_iter=50000,\n",
      "                                                      multi_class='auto',\n",
      "                                                      n_jobs=None, penalty='l2',\n",
      "                                                      random_state=57,\n",
      "                                                      solver='liblinear',\n",
      "                                                      tol=0.0001, verbose=0,\n",
      "                                                      warm_start=False),\n",
      "                   n_jobs=None, passthrough=False, stack_method='predict_proba',\n",
      "                   verbose=0)\n",
      "Предсказание вероятности  0.854535777098954\n"
     ]
    }
   ],
   "source": [
    "from xgboost import XGBClassifier\n",
    "from catboost import CatBoostClassifier\n",
    "import lightgbm as lgb\n",
    "from sklearn.ensemble import StackingClassifier\n",
    "from sklearn.linear_model import LogisticRegression\n",
    "\n",
    "from sklearn.model_selection import GridSearchCV, cross_val_score\n",
    "from sklearn.metrics import roc_auc_score\n",
    "\n",
    "\n",
    "X_train, y_train, X_valid, y_valid, X_predict = upload_and_prepare_data(where_data='computer', best=False)\n",
    "\n",
    "#############################################################################################\n",
    "# XGBClassifier\n",
    "\n",
    "X_train_xgb = X_train.copy()\n",
    "y_train_xgb = y_train.copy()\n",
    "\n",
    "params_xgb = {\n",
    "        'min_child_weight': [4],\n",
    "        'gamma': [1],\n",
    "        'subsample': [0.3],\n",
    "        'colsample_bytree': [0.3],\n",
    "        'max_depth': [2],\n",
    "        'n_estimators': [52],\n",
    "        'eval_metric': ['auc'],\n",
    "        'random_state': [57],\n",
    "        'seed': [57]\n",
    "        }\n",
    "\n",
    "clf_xgb = XGBClassifier()\n",
    "xgb_grid = GridSearchCV(clf_xgb, params_xgb, cv=5, verbose=4, scoring='roc_auc', refit=True, n_jobs=-1)\n",
    "xgb_grid.fit(X_train_xgb, y_train_xgb)\n",
    "#############################################################################################\n",
    "\n",
    "\n",
    "#############################################################################################\n",
    "# LGBMClassifier\n",
    "\n",
    "X_train_lgbc = X_train.copy()\n",
    "y_train_lgbc = y_train.copy()\n",
    "\n",
    "parametrs_lgbc = {\n",
    "    'boosting_type': ['dart'],\n",
    "    'num_leaves': [4],\n",
    "   'max_depth': [2],\n",
    "   'class_weight': ['balanced'], \n",
    "   'random_state': [57],\n",
    "   'learning_rate': [0.1],\n",
    "   'n_estimators': [240],\n",
    "   'eval_metric': ['auc']\n",
    "}\n",
    "\n",
    "clf_lgbc = lgb.LGBMClassifier()\n",
    "lgb_grid = GridSearchCV(clf_lgbc, parametrs_lgbc, cv=5, verbose=4, scoring='roc_auc', refit=True, n_jobs=-1)\n",
    "lgb_grid.fit(X_train_lgbc, y_train_lgbc)\n",
    "#############################################################################################\n",
    "\n",
    "\n",
    "#############################################################################################\n",
    "# LogisticRegression\n",
    "\n",
    "X_train_lr = X_train.copy()\n",
    "y_train_lr = y_train.copy()\n",
    "\n",
    "parameters_lr= {\n",
    "    'penalty': ['l1'],\n",
    "    'C': [0.4],\n",
    "    'class_weight': [None],\n",
    "    'max_iter': [10000],\n",
    "    'random_state': [57],\n",
    "    'solver': ['liblinear']\n",
    "}\n",
    "\n",
    "clf_lr = LogisticRegression()\n",
    "lr_grid = GridSearchCV(clf_lr, parameters_lr, cv=5, scoring='roc_auc', n_jobs=-1, verbose=3)\n",
    "lr_grid.fit(X_train_lr, y_train_lr)\n",
    "#############################################################################################\n",
    "\n",
    "\n",
    "#############################################################################################\n",
    "# CatBoostClassifier\n",
    "\n",
    "X_train_cbc = X_train.copy()\n",
    "y_train_cbc = y_train.copy()\n",
    "\n",
    "clf_cbc = CatBoostClassifier(iterations=400,\n",
    "                       depth=4,\n",
    "                       learning_rate=0.05,\n",
    "                       loss_function='Logloss',\n",
    "                       random_seed = 4,\n",
    "                       l2_leaf_reg = 40,\n",
    "                       silent=True,\n",
    "                       eval_metric='AUC:type=Classic'\n",
    "                       )\n",
    "\n",
    "parametrs_cbc = {\n",
    "    'iterations': [150],\n",
    "    \"learning_rate\": [0.05],\n",
    "    'min_data_in_leaf': [1],\n",
    "    'depth': [2],\n",
    "    'l2_leaf_reg': [0]    \n",
    "}\n",
    "\n",
    "cbc_grid = GridSearchCV(clf_cbc, parametrs_cbc, cv=5, verbose=4, scoring='roc_auc', refit=True, n_jobs=-1)\n",
    "cbc_grid.fit(X_train_cbc, y_train_cbc)\n",
    "#############################################################################################\n",
    "\n",
    "estimators_libraries = [\n",
    "     ('xgb', xgb_grid.best_estimator_),\n",
    "     ('lgb', lgb_grid.best_estimator_),\n",
    "     ('cbc', cbc_grid.best_estimator_),\n",
    "    ('lr', lr_grid.best_estimator_)\n",
    "]\n",
    "\n",
    "sc_clf_libraries = StackingClassifier(estimators=estimators, final_estimator=LogisticRegression(), cv=5)\n",
    "\n",
    "# parameters_sc_lr = {\n",
    "#     'final_estimator__penalty': ['l2'],\n",
    "#     'final_estimator__solver': ['newton-cg', 'lbfgs', 'liblinear', 'sag', 'saga'],\n",
    "#     'final_estimator__class_weight': ['balanced'],\n",
    "#     'final_estimator__C': [0.01, 0.1, 1, 10, 20],\n",
    "#     'final_estimator__max_iter': [50000],\n",
    "#     'final_estimator__random_state': [57],\n",
    "#     'stack_method': ['predict_proba']\n",
    "# }\n",
    "\n",
    "parameters_sc_lr_libraries = {\n",
    "    'final_estimator__penalty': ['l2'],\n",
    "    'final_estimator__solver': ['liblinear'],\n",
    "    'final_estimator__class_weight': [None],\n",
    "    'final_estimator__C': [0.05, 0.07, 0.09],\n",
    "    'final_estimator__max_iter': [50000],\n",
    "    'final_estimator__random_state': [57],\n",
    "    'stack_method': ['predict_proba']\n",
    "}\n",
    "\n",
    "gs_sc_estim_lr_clf_libraries = GridSearchCV(sc_clf_libraries, parameters_sc_lr_libraries, cv=5, scoring='roc_auc', \n",
    "                                         n_jobs=-1, verbose=3)\n",
    "gs_sc_estim_lr_clf_libraries.fit(X_train, y_train)\n",
    "print('StackingClassifier - best estimator: ', gs_sc_estim_lr_clf_libraries.best_estimator_)\n",
    "print(\"Предсказание вероятности \", roc_auc_score(y_valid, \n",
    "                                                 gs_sc_estim_lr_clf_libraries.best_estimator_.predict_proba(X_valid)[:, 1]))"
   ]
  },
  {
   "cell_type": "code",
   "execution_count": null,
   "metadata": {},
   "outputs": [],
   "source": []
  },
  {
   "cell_type": "markdown",
   "metadata": {
    "scrolled": true
   },
   "source": [
    "<a id='label_for_learn_stacking_libraries_NuSVC'></a>\n",
    "\n",
    "## Использование стекинга для моделей с лучшими параметрами c итоговым методом NuSVC\n",
    "\n",
    "[Перейти к \"Оглавлению\"](#Main)"
   ]
  },
  {
   "cell_type": "code",
   "execution_count": 36,
   "metadata": {
    "scrolled": false
   },
   "outputs": [
    {
     "name": "stdout",
     "output_type": "stream",
     "text": [
      "----------------------------------------------------------------------\n",
      "Количество строк 5282 и количество признаков 20 для обучающей+валидационной выборки\n",
      "Количество строк 1761 и количество признаков 19 для предсказаний\n",
      "----------------------------------------------------------------------\n",
      "----------------------------------------------------------------------\n",
      "Количество строк 4225 и количество признаков 68 для тестовой выборки\n",
      "Количество строк 1057 и количество признаков 68 для валидационной выборки\n",
      "Количество строк 1761 и количество признаков 68 для предсказаний\n",
      "----------------------------------------------------------------------\n",
      "Fitting 5 folds for each of 1 candidates, totalling 5 fits\n"
     ]
    },
    {
     "name": "stderr",
     "output_type": "stream",
     "text": [
      "[Parallel(n_jobs=-1)]: Using backend LokyBackend with 12 concurrent workers.\n",
      "[Parallel(n_jobs=-1)]: Done   2 out of   5 | elapsed:    0.0s remaining:    0.1s\n",
      "[Parallel(n_jobs=-1)]: Done   5 out of   5 | elapsed:    0.1s finished\n"
     ]
    },
    {
     "name": "stdout",
     "output_type": "stream",
     "text": [
      "Fitting 5 folds for each of 1 candidates, totalling 5 fits\n"
     ]
    },
    {
     "name": "stderr",
     "output_type": "stream",
     "text": [
      "[Parallel(n_jobs=-1)]: Using backend LokyBackend with 12 concurrent workers.\n",
      "[Parallel(n_jobs=-1)]: Done   2 out of   5 | elapsed:    0.3s remaining:    0.5s\n",
      "[Parallel(n_jobs=-1)]: Done   5 out of   5 | elapsed:    0.8s finished\n"
     ]
    },
    {
     "name": "stdout",
     "output_type": "stream",
     "text": [
      "Fitting 5 folds for each of 1 candidates, totalling 5 fits\n"
     ]
    },
    {
     "name": "stderr",
     "output_type": "stream",
     "text": [
      "[Parallel(n_jobs=-1)]: Using backend LokyBackend with 12 concurrent workers.\n",
      "[Parallel(n_jobs=-1)]: Done   2 out of   5 | elapsed:    0.0s remaining:    0.0s\n",
      "[Parallel(n_jobs=-1)]: Done   5 out of   5 | elapsed:    0.5s finished\n",
      "[Parallel(n_jobs=-1)]: Using backend LokyBackend with 12 concurrent workers.\n"
     ]
    },
    {
     "name": "stdout",
     "output_type": "stream",
     "text": [
      "Fitting 5 folds for each of 1 candidates, totalling 5 fits\n"
     ]
    },
    {
     "name": "stderr",
     "output_type": "stream",
     "text": [
      "[Parallel(n_jobs=-1)]: Done   2 out of   5 | elapsed:    0.8s remaining:    1.2s\n",
      "[Parallel(n_jobs=-1)]: Done   5 out of   5 | elapsed:    1.4s finished\n"
     ]
    },
    {
     "name": "stdout",
     "output_type": "stream",
     "text": [
      "Fitting 5 folds for each of 5 candidates, totalling 25 fits\n"
     ]
    },
    {
     "name": "stderr",
     "output_type": "stream",
     "text": [
      "[Parallel(n_jobs=-1)]: Using backend LokyBackend with 12 concurrent workers.\n",
      "[Parallel(n_jobs=-1)]: Done  11 out of  25 | elapsed:   37.4s remaining:   47.7s\n",
      "[Parallel(n_jobs=-1)]: Done  20 out of  25 | elapsed:  1.2min remaining:   18.0s\n",
      "[Parallel(n_jobs=-1)]: Done  25 out of  25 | elapsed:  1.4min finished\n"
     ]
    },
    {
     "name": "stdout",
     "output_type": "stream",
     "text": [
      "Sklearn - best estimator:  StackingClassifier(cv=5,\n",
      "                   estimators=[('grid_rfc',\n",
      "                                RandomForestClassifier(bootstrap=True,\n",
      "                                                       ccp_alpha=0.0,\n",
      "                                                       class_weight=None,\n",
      "                                                       criterion='entropy',\n",
      "                                                       max_depth=None,\n",
      "                                                       max_features='sqrt',\n",
      "                                                       max_leaf_nodes=None,\n",
      "                                                       max_samples=200,\n",
      "                                                       min_impurity_decrease=0.0,\n",
      "                                                       min_impurity_split=None,\n",
      "                                                       min_samples_leaf=2,\n",
      "                                                       min_samples_split=2,\n",
      "                                                       min_weight_fraction_leaf=0.0,\n",
      "                                                       n_estimators=1000,\n",
      "                                                       n_job...\n",
      "                                              verbose=False,\n",
      "                                              warm_start=False))],\n",
      "                   final_estimator=NuSVC(break_ties=False, cache_size=200,\n",
      "                                         class_weight='balanced', coef0=0.0,\n",
      "                                         decision_function_shape='ovr',\n",
      "                                         degree=1, gamma='scale', kernel='poly',\n",
      "                                         max_iter=-1, nu=0.5, probability=True,\n",
      "                                         random_state=57, shrinking=True,\n",
      "                                         tol=0.001, verbose=False),\n",
      "                   n_jobs=None, passthrough=False, stack_method='predict_proba',\n",
      "                   verbose=0)\n",
      "Предсказание класса через лучшие параметры параметры 0.8582939924095159\n"
     ]
    }
   ],
   "source": [
    "from sklearn.linear_model import LogisticRegression\n",
    "from sklearn.naive_bayes import GaussianNB\n",
    "from sklearn.ensemble import RandomForestClassifier\n",
    "from sklearn.neural_network import MLPClassifier\n",
    "from sklearn.ensemble import GradientBoostingClassifier\n",
    "from sklearn.ensemble import StackingClassifier\n",
    "\n",
    "from sklearn.svm import NuSVC\n",
    "\n",
    "from sklearn.model_selection import GridSearchCV, cross_val_score\n",
    "from sklearn.metrics import roc_auc_score\n",
    "from sklearn.pipeline import Pipeline\n",
    "\n",
    "\n",
    "X_train, y_train, X_valid, y_valid, X_predict = upload_and_prepare_data(where_data='computer', best=False)\n",
    "\n",
    "#############################################################################################\n",
    "# XGBClassifier\n",
    "\n",
    "X_train_xgb = X_train.copy()\n",
    "y_train_xgb = y_train.copy()\n",
    "\n",
    "params_xgb = {\n",
    "        'min_child_weight': [4],\n",
    "        'gamma': [1],\n",
    "        'subsample': [0.3],\n",
    "        'colsample_bytree': [0.3],\n",
    "        'max_depth': [2],\n",
    "        'n_estimators': [52],\n",
    "        'eval_metric': ['auc'],\n",
    "        'random_state': [57],\n",
    "        'seed': [57]\n",
    "        }\n",
    "\n",
    "clf_xgb = XGBClassifier()\n",
    "xgb_grid = GridSearchCV(clf_xgb, params_xgb, cv=5, verbose=4, scoring='roc_auc', refit=True, n_jobs=-1)\n",
    "xgb_grid.fit(X_train_xgb, y_train_xgb)\n",
    "#############################################################################################\n",
    "\n",
    "\n",
    "#############################################################################################\n",
    "# LGBMClassifier\n",
    "\n",
    "X_train_lgbc = X_train.copy()\n",
    "y_train_lgbc = y_train.copy()\n",
    "\n",
    "parametrs_lgbc = {\n",
    "    'boosting_type': ['dart'],\n",
    "    'num_leaves': [4],\n",
    "   'max_depth': [2],\n",
    "   'class_weight': ['balanced'], \n",
    "   'random_state': [57],\n",
    "   'learning_rate': [0.1],\n",
    "   'n_estimators': [240],\n",
    "   'eval_metric': ['auc']\n",
    "}\n",
    "\n",
    "clf_lgbc = lgb.LGBMClassifier()\n",
    "lgb_grid = GridSearchCV(clf_lgbc, parametrs_lgbc, cv=5, verbose=4, scoring='roc_auc', refit=True, n_jobs=-1)\n",
    "lgb_grid.fit(X_train_lgbc, y_train_lgbc)\n",
    "#############################################################################################\n",
    "\n",
    "\n",
    "#############################################################################################\n",
    "# LogisticRegression\n",
    "\n",
    "X_train_lr = X_train.copy()\n",
    "y_train_lr = y_train.copy()\n",
    "\n",
    "parameters_lr= {\n",
    "    'penalty': ['l1'],\n",
    "    'C': [0.4],\n",
    "    'class_weight': [None],\n",
    "    'max_iter': [10000],\n",
    "    'random_state': [57],\n",
    "    'solver': ['liblinear']\n",
    "}\n",
    "\n",
    "clf_lr = LogisticRegression()\n",
    "lr_grid = GridSearchCV(clf_lr, parameters_lr, cv=5, scoring='roc_auc', n_jobs=-1, verbose=3)\n",
    "lr_grid.fit(X_train_lr, y_train_lr)\n",
    "#############################################################################################\n",
    "\n",
    "\n",
    "#############################################################################################\n",
    "# CatBoostClassifier\n",
    "\n",
    "X_train_cbc = X_train.copy()\n",
    "y_train_cbc = y_train.copy()\n",
    "\n",
    "clf_cbc = CatBoostClassifier(iterations=400,\n",
    "                       depth=4,\n",
    "                       learning_rate=0.05,\n",
    "                       loss_function='Logloss',\n",
    "                       random_seed = 4,\n",
    "                       l2_leaf_reg = 40,\n",
    "                       silent=True,\n",
    "                       eval_metric='AUC:type=Classic'\n",
    "                       )\n",
    "\n",
    "parametrs_cbc = {\n",
    "    'iterations': [150],\n",
    "    \"learning_rate\": [0.05],\n",
    "    'min_data_in_leaf': [1],\n",
    "    'depth': [2],\n",
    "    'l2_leaf_reg': [0]    \n",
    "}\n",
    "\n",
    "cbc_grid = GridSearchCV(clf_cbc, parametrs_cbc, cv=5, verbose=4, scoring='roc_auc', refit=True, n_jobs=-1)\n",
    "cbc_grid.fit(X_train_cbc, y_train_cbc)\n",
    "#############################################################################################\n",
    "\n",
    "estimators_libraries = [\n",
    "     ('xgb', xgb_grid.best_estimator_),\n",
    "     ('lgb', lgb_grid.best_estimator_),\n",
    "     ('cbc', cbc_grid.best_estimator_),\n",
    "    ('lr', lr_grid.best_estimator_)\n",
    "]\n",
    "\n",
    "sc_clf = StackingClassifier(estimators=estimators, final_estimator=NuSVC(random_state=57), cv=5)\n",
    "\n",
    "# parameters_sc_rc = {\n",
    "#     'final_estimator__kernel' :['linear', 'poly', 'rbf', 'sigmoid', 'precomputed'],   \n",
    "#     'final_estimator__probability': [True],\n",
    "#     'final_estimator__nu': [0.1, 0.3,  0.5, 0.7, 0.9],\n",
    "#     'final_estimator__degree': [1, 2, 3, 4, 5],\n",
    "#     'final_estimator__class_weight': ['balanced', None],\n",
    "#     'final_estimator__random_state': [57],\n",
    "#     'stack_method': ['predict_proba']\n",
    "# }\n",
    "\n",
    "parameters_sc_rc = {\n",
    "    'final_estimator__kernel' :['poly'],   \n",
    "    'final_estimator__probability': [True],\n",
    "#     'final_estimator__nu': [0.1, 0.3,  0.5, 0.7, 0.9],\n",
    "    'final_estimator__degree': [1, 2, 3, 4, 5],\n",
    "    'final_estimator__class_weight': ['balanced'],\n",
    "    'final_estimator__random_state': [57],\n",
    "    'stack_method': ['predict_proba']\n",
    "}\n",
    "\n",
    "grid_sc_sklearn_nusvc_clf_rc = GridSearchCV(sc_clf, parameters_sc_rc, cv=5, scoring='roc_auc', n_jobs=-1, verbose=3)\n",
    "grid_sc_sklearn_nusvc_clf_rc.fit(X_train, y_train)\n",
    "\n",
    "print('Sklearn - best estimator: ', grid_sc_sklearn_nusvc_clf_rc.best_estimator_)\n",
    "print(\"Предсказание класса через лучшие параметры параметры\", \n",
    "      roc_auc_score(y_valid, grid_sc_sklearn_nusvc_clf_rc.best_estimator_.predict_proba(X_valid)[:, 1]))\n",
    "##############################################################################################"
   ]
  },
  {
   "cell_type": "code",
   "execution_count": null,
   "metadata": {},
   "outputs": [],
   "source": []
  },
  {
   "cell_type": "code",
   "execution_count": null,
   "metadata": {},
   "outputs": [],
   "source": []
  },
  {
   "cell_type": "code",
   "execution_count": null,
   "metadata": {},
   "outputs": [],
   "source": []
  },
  {
   "cell_type": "code",
   "execution_count": null,
   "metadata": {},
   "outputs": [],
   "source": []
  },
  {
   "cell_type": "code",
   "execution_count": null,
   "metadata": {},
   "outputs": [],
   "source": []
  },
  {
   "cell_type": "code",
   "execution_count": null,
   "metadata": {},
   "outputs": [],
   "source": []
  },
  {
   "cell_type": "code",
   "execution_count": null,
   "metadata": {},
   "outputs": [],
   "source": [
    "from sklearn.ensemble import VotingClassifier\n",
    "vk_clf = VotingClassifier(\n",
    "    estimators= [\n",
    "        ('grid_sc_sklearn_clf', grid_sc_sklearn_clf.best_estimator_),\n",
    "        ('grid_sc_estim_clf', gs_sc_estim_clf.best_estimator_)\n",
    "\n",
    "    ],\n",
    "    voting='soft')\n",
    "\n",
    "parameters_vk = {\n",
    "    'n_jobs': [-1]\n",
    "}\n",
    "gs_vk_clf = GridSearchCV(estimator=vk_clf, param_grid=parameters_vk, cv=5, scoring='roc_auc', n_jobs=-1, verbose=3)\n",
    "gs_vk_clf.fit(X_train, y_train)\n",
    "\n",
    "\n",
    "# submission = pd.DataFrame(gs_vk_clf.best_estimator_.predict_proba(X_predict)[:, 1], columns=[\"Churn\"])\n",
    "# submission.to_csv(PATH.format('my_submission_voiting.csv'), columns=[\"Churn\"])\n",
    "print('VotingClassifier - best estimator: ', gs_vk_clf.best_estimator_)\n",
    "print('VotingClassifier - best params: ', gs_vk_clf.best_params_)\n",
    "print(\"Предсказание вероятности \", roc_auc_score(y_valid, gs_vk_clf.best_estimator_.predict_proba(X_valid)[:, 1]))"
   ]
  },
  {
   "cell_type": "code",
   "execution_count": null,
   "metadata": {},
   "outputs": [],
   "source": [
    "from sklearn.ensemble import VotingClassifier\n",
    "vk_clf = VotingClassifier(\n",
    "    estimators= [\n",
    "        ('grid_sc_sklearn_clf', grid_sc_sklearn_clf.best_estimator_),\n",
    "        ('xgb', xgb_grid.best_estimator_),\n",
    "        ('lgb', lgb_grid.best_estimator_),\n",
    "        ('cbc', cbc_grid.best_estimator_)\n",
    "    ],\n",
    "    voting='soft')\n",
    "\n",
    "parameters_vk = {\n",
    "    'n_jobs': [-1]\n",
    "}\n",
    "gs_vk_clf = GridSearchCV(estimator=vk_clf, param_grid=parameters_vk, cv=5, scoring='roc_auc', n_jobs=-1, verbose=3)\n",
    "gs_vk_clf.fit(X_train, y_train)\n",
    "\n",
    "\n",
    "# submission = pd.DataFrame(gs_vk_clf.best_estimator_.predict_proba(X_predict)[:, 1], columns=[\"Churn\"])\n",
    "# submission.to_csv(PATH.format('my_submission_voiting.csv'), columns=[\"Churn\"])\n",
    "print('VotingClassifier - best estimator: ', gs_vk_clf.best_estimator_)\n",
    "print('VotingClassifier - best params: ', gs_vk_clf.best_params_)\n",
    "print(\"Предсказание вероятности \", roc_auc_score(y_valid, gs_vk_clf.best_estimator_.predict_proba(X_valid)[:, 1]))"
   ]
  },
  {
   "cell_type": "code",
   "execution_count": null,
   "metadata": {},
   "outputs": [],
   "source": []
  },
  {
   "cell_type": "markdown",
   "metadata": {},
   "source": [
    "# Предсказания"
   ]
  },
  {
   "cell_type": "code",
   "execution_count": null,
   "metadata": {},
   "outputs": [],
   "source": [
    "# Лучшая модель\n",
    "best_model = gs_vk_clf"
   ]
  },
  {
   "cell_type": "code",
   "execution_count": null,
   "metadata": {},
   "outputs": [],
   "source": [
    "X_test = pd.read_csv('./test.csv')\n",
    "submission = pd.read_csv('./submission.csv')\n",
    "\n",
    "submission['Churn'] = # best_model.predict_proba(X_test) / best_model.predict(X_test)\n",
    "submission.to_csv('./my_submission.csv')"
   ]
  },
  {
   "cell_type": "markdown",
   "metadata": {},
   "source": [
    "# Kaggle (5 баллов)\n",
    "\n",
    "Как выставить баллы:\n",
    "\n",
    "1) 1 >= roc auc > 0.84 это 5 баллов\n",
    "\n",
    "2) 0.84 >= roc auc > 0.7 это 3 балла\n",
    "\n",
    "3) 0.7 >= roc auc > 0.6 это 1 балл\n",
    "\n",
    "4) 0.6 >= roc auc это 0 баллов\n",
    "\n",
    "\n",
    "Для выполнения задания необходимо выполнить следующие шаги.\n",
    "* Зарегистрироваться на платформе [kaggle.com](kaggle.com). Процесс выставления оценок будет проходить при подведении итогового рейтинга. Пожалуйста, укажите во вкладке Team -> Team name свои имя и фамилию в формате Имя_Фамилия (важно, чтобы имя и фамилия совпадали с данными на Stepik).\n",
    "* Обучить модель, получить файл с ответами в формате .csv и сдать его в конкурс. Пробуйте и экспериментируйте. Обратите внимание, что вы можете выполнять до 20 попыток сдачи на kaggle в день.\n",
    "* После окончания соревнования отправить в итоговый ноутбук с решением на степик. \n",
    "* После дедлайна проверьте посылки других участников по критериям. Для этого надо зайти на степик, скачать их ноутбук и проверить скор в соревновании."
   ]
  },
  {
   "cell_type": "code",
   "execution_count": null,
   "metadata": {},
   "outputs": [],
   "source": []
  },
  {
   "cell_type": "code",
   "execution_count": null,
   "metadata": {},
   "outputs": [],
   "source": []
  },
  {
   "cell_type": "code",
   "execution_count": null,
   "metadata": {},
   "outputs": [],
   "source": []
  },
  {
   "cell_type": "code",
   "execution_count": null,
   "metadata": {},
   "outputs": [],
   "source": []
  }
 ],
 "metadata": {
  "kernelspec": {
   "display_name": "Python 3",
   "language": "python",
   "name": "python3"
  },
  "language_info": {
   "codemirror_mode": {
    "name": "ipython",
    "version": 3
   },
   "file_extension": ".py",
   "mimetype": "text/x-python",
   "name": "python",
   "nbconvert_exporter": "python",
   "pygments_lexer": "ipython3",
   "version": "3.7.6"
  }
 },
 "nbformat": 4,
 "nbformat_minor": 4
}
